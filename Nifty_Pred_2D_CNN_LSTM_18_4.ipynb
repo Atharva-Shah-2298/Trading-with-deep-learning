{
  "nbformat": 4,
  "nbformat_minor": 0,
  "metadata": {
    "kernelspec": {
      "display_name": "Python 3",
      "language": "python",
      "name": "python3"
    },
    "language_info": {
      "codemirror_mode": {
        "name": "ipython",
        "version": 3
      },
      "file_extension": ".py",
      "mimetype": "text/x-python",
      "name": "python",
      "nbconvert_exporter": "python",
      "pygments_lexer": "ipython3",
      "version": "3.7.3"
    },
    "colab": {
      "provenance": [],
      "include_colab_link": true
    },
    "accelerator": "GPU"
  },
  "cells": [
    {
      "cell_type": "markdown",
      "metadata": {
        "id": "view-in-github",
        "colab_type": "text"
      },
      "source": [
        "<a href=\"https://colab.research.google.com/github/Atharva-Shah-2298/Trading-with-deep-learning/blob/main/Nifty_Pred_2D_CNN_LSTM_18_4.ipynb\" target=\"_parent\"><img src=\"https://colab.research.google.com/assets/colab-badge.svg\" alt=\"Open In Colab\"/></a>"
      ]
    },
    {
      "cell_type": "code",
      "metadata": {
        "id": "sNdkYOSqx86B"
      },
      "source": [
        "import pandas as pd\n",
        "import numpy as np\n",
        "import os"
      ],
      "execution_count": null,
      "outputs": []
    },
    {
      "cell_type": "code",
      "metadata": {
        "ExecuteTime": {
          "end_time": "2021-02-08T09:46:32.342040Z",
          "start_time": "2021-02-08T09:46:28.646577Z"
        },
        "id": "yZLeKSo4x86E"
      },
      "source": [
        "import pandas as pd\n",
        "import numpy as np\n",
        "from datetime import datetime, timedelta\n",
        "\n",
        "import random\n",
        "import functools\n",
        "import logging\n",
        "import os\n",
        "import sys\n",
        "import pickle\n",
        "import time\n",
        "import warnings\n",
        "import pdb\n",
        "\n",
        "from keras.models import load_model\n",
        "import tempfile\n",
        "import keras.models\n",
        "\n",
        "# import FS_Final as fs"
      ],
      "execution_count": null,
      "outputs": []
    },
    {
      "cell_type": "code",
      "metadata": {
        "ExecuteTime": {
          "end_time": "2021-02-08T09:46:33.022348Z",
          "start_time": "2021-02-08T09:46:32.344002Z"
        },
        "id": "Uk--O7N3x86G"
      },
      "source": [
        "import os\n",
        "import keras\n",
        "import itertools\n",
        "import matplotlib.pyplot as plt\n",
        "from math import sqrt\n",
        "import tensorflow as tf\n",
        "\n",
        "from keras.models import Sequential\n",
        "from keras.layers import LSTM, Dense, TimeDistributed\n",
        "from datetime import datetime\n",
        "from itertools import product\n",
        "from functools import reduce\n",
        "\n",
        "#Importing SKlearn libraries for data preprocessing\n",
        "from sklearn import preprocessing\n",
        "from sklearn.model_selection import train_test_split\n",
        "from sklearn.preprocessing import MinMaxScaler\n",
        "from sklearn.preprocessing import normalize\n",
        "from sklearn.metrics import roc_auc_score, mean_squared_error,r2_score, mean_squared_error, mean_absolute_error\n",
        "from sklearn.metrics import roc_curve\n",
        "from sklearn.metrics import roc_auc_score\n",
        "from sklearn.metrics import precision_recall_curve\n",
        "from sklearn.metrics import auc\n",
        "from matplotlib import pyplot\n",
        "from sklearn import metrics\n",
        "from sklearn.metrics import confusion_matrix\n",
        "from sklearn.metrics import precision_recall_curve\n",
        "\n",
        "import keras.backend as K\n",
        "from keras.preprocessing import sequence\n",
        "from keras.callbacks import EarlyStopping, ModelCheckpoint\n",
        "from keras.optimizers import SGD\n",
        "from keras.models import Sequential, Model\n",
        "from keras.layers import Dense, Conv2D, BatchNormalization, Dropout, subtract, dot, MaxPool2D, Flatten, AvgPool2D\n",
        "from keras.layers import Input, concatenate, merge\n",
        "from keras.callbacks import Callback\n",
        "from keras import initializers\n",
        "from keras import models\n",
        "from keras.layers import Bidirectional\n",
        "from keras.layers import Reshape\n",
        "\n",
        "from keras.layers import Lambda\n",
        "# from keras.backend import slice\n",
        "\n",
        "pd.set_option('display.max_columns', None)"
      ],
      "execution_count": null,
      "outputs": []
    },
    {
      "cell_type": "code",
      "metadata": {
        "id": "8Mw9AsMPx86G"
      },
      "source": [],
      "execution_count": null,
      "outputs": []
    },
    {
      "cell_type": "code",
      "metadata": {
        "id": "MCVt5WIOx86H"
      },
      "source": [],
      "execution_count": null,
      "outputs": []
    },
    {
      "cell_type": "code",
      "metadata": {
        "id": "O1gLgcwIx86H"
      },
      "source": [
        "path = r'/content/drive/MyDrive/Nifty'"
      ],
      "execution_count": null,
      "outputs": []
    },
    {
      "cell_type": "code",
      "metadata": {
        "id": "tR_a4sCEx86H"
      },
      "source": [
        "nifty = pd.read_csv('/content/drive/MyDrive/Nifty/Nifty50_indicators_final.csv')"
      ],
      "execution_count": null,
      "outputs": []
    },
    {
      "cell_type": "code",
      "metadata": {
        "colab": {
          "base_uri": "https://localhost:8080/",
          "height": 779
        },
        "id": "zDgRJJX7l0ry",
        "outputId": "a35cdf64-c293-4f72-b023-716a6e0a99be"
      },
      "source": [
        "nifty"
      ],
      "execution_count": null,
      "outputs": [
        {
          "output_type": "execute_result",
          "data": {
            "text/html": [
              "<div>\n",
              "<style scoped>\n",
              "    .dataframe tbody tr th:only-of-type {\n",
              "        vertical-align: middle;\n",
              "    }\n",
              "\n",
              "    .dataframe tbody tr th {\n",
              "        vertical-align: top;\n",
              "    }\n",
              "\n",
              "    .dataframe thead th {\n",
              "        text-align: right;\n",
              "    }\n",
              "</style>\n",
              "<table border=\"1\" class=\"dataframe\">\n",
              "  <thead>\n",
              "    <tr style=\"text-align: right;\">\n",
              "      <th></th>\n",
              "      <th>Date</th>\n",
              "      <th>Open</th>\n",
              "      <th>High</th>\n",
              "      <th>Low</th>\n",
              "      <th>Close</th>\n",
              "      <th>Adj Close</th>\n",
              "      <th>Volume</th>\n",
              "      <th>TREND</th>\n",
              "      <th>WILDERS_RSI</th>\n",
              "      <th>RSI</th>\n",
              "      <th>RSI_FAST_K</th>\n",
              "      <th>RSI_FAST_D</th>\n",
              "      <th>EXP_RSI</th>\n",
              "      <th>MACD</th>\n",
              "      <th>MACD_SIGN</th>\n",
              "      <th>MACD_HIST</th>\n",
              "      <th>MA_20</th>\n",
              "      <th>MA_50</th>\n",
              "      <th>MA_65</th>\n",
              "      <th>MA_200</th>\n",
              "      <th>BB_LOWER</th>\n",
              "      <th>BB_MIDDLE</th>\n",
              "      <th>BB_UPPER</th>\n",
              "      <th>PPO</th>\n",
              "      <th>PPO_SIGN</th>\n",
              "      <th>PPO_HIST</th>\n",
              "      <th>MOM</th>\n",
              "      <th>ROC</th>\n",
              "      <th>EMA_20</th>\n",
              "      <th>EMA_50</th>\n",
              "      <th>EMA_65</th>\n",
              "      <th>EMA_200</th>\n",
              "      <th>DPO</th>\n",
              "    </tr>\n",
              "  </thead>\n",
              "  <tbody>\n",
              "    <tr>\n",
              "      <th>0</th>\n",
              "      <td>11-05-2011</td>\n",
              "      <td>5547.200195</td>\n",
              "      <td>5574.700195</td>\n",
              "      <td>5525.000000</td>\n",
              "      <td>5565.049805</td>\n",
              "      <td>5565.049805</td>\n",
              "      <td>0</td>\n",
              "      <td>-1</td>\n",
              "      <td>41.779763</td>\n",
              "      <td>41.779763</td>\n",
              "      <td>100.000000</td>\n",
              "      <td>97.397249</td>\n",
              "      <td>38.024471</td>\n",
              "      <td>-46.927202</td>\n",
              "      <td>-13.601502</td>\n",
              "      <td>-33.325700</td>\n",
              "      <td>5715.605005</td>\n",
              "      <td>5641.161992</td>\n",
              "      <td>5585.595388</td>\n",
              "      <td>5749.517000</td>\n",
              "      <td>5433.175896</td>\n",
              "      <td>5715.605005</td>\n",
              "      <td>5998.034114</td>\n",
              "      <td>-0.828075</td>\n",
              "      <td>-0.241940</td>\n",
              "      <td>-0.586134</td>\n",
              "      <td>-309.450195</td>\n",
              "      <td>-4.897766</td>\n",
              "      <td>5658.143016</td>\n",
              "      <td>5666.909600</td>\n",
              "      <td>5670.206615</td>\n",
              "      <td>5718.888241</td>\n",
              "      <td>-261.193080</td>\n",
              "    </tr>\n",
              "    <tr>\n",
              "      <th>1</th>\n",
              "      <td>12-05-2011</td>\n",
              "      <td>5537.799805</td>\n",
              "      <td>5572.500000</td>\n",
              "      <td>5476.299805</td>\n",
              "      <td>5486.149902</td>\n",
              "      <td>5486.149902</td>\n",
              "      <td>0</td>\n",
              "      <td>-1</td>\n",
              "      <td>37.089676</td>\n",
              "      <td>37.089676</td>\n",
              "      <td>0.000000</td>\n",
              "      <td>64.145615</td>\n",
              "      <td>29.800368</td>\n",
              "      <td>-54.136399</td>\n",
              "      <td>-21.708481</td>\n",
              "      <td>-32.427918</td>\n",
              "      <td>5700.627490</td>\n",
              "      <td>5644.813994</td>\n",
              "      <td>5586.986155</td>\n",
              "      <td>5749.702249</td>\n",
              "      <td>5403.278941</td>\n",
              "      <td>5700.627490</td>\n",
              "      <td>5997.976039</td>\n",
              "      <td>-0.957552</td>\n",
              "      <td>-0.385063</td>\n",
              "      <td>-0.572489</td>\n",
              "      <td>-382.250000</td>\n",
              "      <td>-6.772652</td>\n",
              "      <td>5641.762719</td>\n",
              "      <td>5659.818702</td>\n",
              "      <td>5664.617626</td>\n",
              "      <td>5716.214144</td>\n",
              "      <td>-326.921527</td>\n",
              "    </tr>\n",
              "    <tr>\n",
              "      <th>2</th>\n",
              "      <td>13-05-2011</td>\n",
              "      <td>5492.350098</td>\n",
              "      <td>5605.000000</td>\n",
              "      <td>5472.149902</td>\n",
              "      <td>5544.750000</td>\n",
              "      <td>5544.750000</td>\n",
              "      <td>0</td>\n",
              "      <td>-1</td>\n",
              "      <td>42.272914</td>\n",
              "      <td>42.272914</td>\n",
              "      <td>100.000000</td>\n",
              "      <td>66.666667</td>\n",
              "      <td>40.777351</td>\n",
              "      <td>-54.493040</td>\n",
              "      <td>-28.265393</td>\n",
              "      <td>-26.227647</td>\n",
              "      <td>5682.289990</td>\n",
              "      <td>5649.043994</td>\n",
              "      <td>5589.274617</td>\n",
              "      <td>5750.332998</td>\n",
              "      <td>5394.128197</td>\n",
              "      <td>5682.289990</td>\n",
              "      <td>5970.451784</td>\n",
              "      <td>-0.965237</td>\n",
              "      <td>-0.501097</td>\n",
              "      <td>-0.464139</td>\n",
              "      <td>-289.149902</td>\n",
              "      <td>-5.613244</td>\n",
              "      <td>5632.523413</td>\n",
              "      <td>5655.304807</td>\n",
              "      <td>5660.978003</td>\n",
              "      <td>5714.247098</td>\n",
              "      <td>-248.553571</td>\n",
              "    </tr>\n",
              "    <tr>\n",
              "      <th>3</th>\n",
              "      <td>16-05-2011</td>\n",
              "      <td>5541.700195</td>\n",
              "      <td>5541.799805</td>\n",
              "      <td>5487.649902</td>\n",
              "      <td>5499.000000</td>\n",
              "      <td>5499.000000</td>\n",
              "      <td>0</td>\n",
              "      <td>-1</td>\n",
              "      <td>39.534301</td>\n",
              "      <td>39.534301</td>\n",
              "      <td>47.164043</td>\n",
              "      <td>49.054681</td>\n",
              "      <td>35.742631</td>\n",
              "      <td>-57.801029</td>\n",
              "      <td>-34.172520</td>\n",
              "      <td>-23.628508</td>\n",
              "      <td>5666.012500</td>\n",
              "      <td>5648.577998</td>\n",
              "      <td>5592.143081</td>\n",
              "      <td>5750.674998</td>\n",
              "      <td>5375.067719</td>\n",
              "      <td>5666.012500</td>\n",
              "      <td>5956.957281</td>\n",
              "      <td>-1.025804</td>\n",
              "      <td>-0.606039</td>\n",
              "      <td>-0.419765</td>\n",
              "      <td>-286.450195</td>\n",
              "      <td>-6.294730</td>\n",
              "      <td>5619.806897</td>\n",
              "      <td>5649.173385</td>\n",
              "      <td>5656.060053</td>\n",
              "      <td>5711.781524</td>\n",
              "      <td>-276.549979</td>\n",
              "    </tr>\n",
              "    <tr>\n",
              "      <th>4</th>\n",
              "      <td>17-05-2011</td>\n",
              "      <td>5496.100098</td>\n",
              "      <td>5523.850098</td>\n",
              "      <td>5421.049805</td>\n",
              "      <td>5438.950195</td>\n",
              "      <td>5438.950195</td>\n",
              "      <td>0</td>\n",
              "      <td>-1</td>\n",
              "      <td>36.217691</td>\n",
              "      <td>36.217691</td>\n",
              "      <td>0.000000</td>\n",
              "      <td>49.054681</td>\n",
              "      <td>30.111920</td>\n",
              "      <td>-64.524353</td>\n",
              "      <td>-40.242887</td>\n",
              "      <td>-24.281467</td>\n",
              "      <td>5651.505005</td>\n",
              "      <td>5646.632998</td>\n",
              "      <td>5594.995395</td>\n",
              "      <td>5750.882000</td>\n",
              "      <td>5346.017779</td>\n",
              "      <td>5651.505005</td>\n",
              "      <td>5956.992230</td>\n",
              "      <td>-1.148078</td>\n",
              "      <td>-0.714447</td>\n",
              "      <td>-0.433632</td>\n",
              "      <td>-310.549805</td>\n",
              "      <td>-6.769909</td>\n",
              "      <td>5602.582449</td>\n",
              "      <td>5640.926983</td>\n",
              "      <td>5649.468586</td>\n",
              "      <td>5708.661039</td>\n",
              "      <td>-304.339077</td>\n",
              "    </tr>\n",
              "    <tr>\n",
              "      <th>...</th>\n",
              "      <td>...</td>\n",
              "      <td>...</td>\n",
              "      <td>...</td>\n",
              "      <td>...</td>\n",
              "      <td>...</td>\n",
              "      <td>...</td>\n",
              "      <td>...</td>\n",
              "      <td>...</td>\n",
              "      <td>...</td>\n",
              "      <td>...</td>\n",
              "      <td>...</td>\n",
              "      <td>...</td>\n",
              "      <td>...</td>\n",
              "      <td>...</td>\n",
              "      <td>...</td>\n",
              "      <td>...</td>\n",
              "      <td>...</td>\n",
              "      <td>...</td>\n",
              "      <td>...</td>\n",
              "      <td>...</td>\n",
              "      <td>...</td>\n",
              "      <td>...</td>\n",
              "      <td>...</td>\n",
              "      <td>...</td>\n",
              "      <td>...</td>\n",
              "      <td>...</td>\n",
              "      <td>...</td>\n",
              "      <td>...</td>\n",
              "      <td>...</td>\n",
              "      <td>...</td>\n",
              "      <td>...</td>\n",
              "      <td>...</td>\n",
              "      <td>...</td>\n",
              "    </tr>\n",
              "    <tr>\n",
              "      <th>2278</th>\n",
              "      <td>07-09-2020</td>\n",
              "      <td>11359.599610</td>\n",
              "      <td>11381.150390</td>\n",
              "      <td>11251.700200</td>\n",
              "      <td>11355.049810</td>\n",
              "      <td>11355.049810</td>\n",
              "      <td>560300</td>\n",
              "      <td>0</td>\n",
              "      <td>51.805126</td>\n",
              "      <td>51.805126</td>\n",
              "      <td>8.989415</td>\n",
              "      <td>13.620121</td>\n",
              "      <td>43.879644</td>\n",
              "      <td>102.642384</td>\n",
              "      <td>136.664017</td>\n",
              "      <td>-34.021633</td>\n",
              "      <td>11406.932470</td>\n",
              "      <td>11117.212010</td>\n",
              "      <td>10891.000060</td>\n",
              "      <td>10807.198280</td>\n",
              "      <td>11174.868110</td>\n",
              "      <td>11406.932470</td>\n",
              "      <td>11638.996840</td>\n",
              "      <td>0.906215</td>\n",
              "      <td>1.213208</td>\n",
              "      <td>-0.306992</td>\n",
              "      <td>42.849610</td>\n",
              "      <td>-0.266130</td>\n",
              "      <td>11379.902650</td>\n",
              "      <td>11074.539080</td>\n",
              "      <td>10945.526060</td>\n",
              "      <td>10768.307830</td>\n",
              "      <td>11.699781</td>\n",
              "    </tr>\n",
              "    <tr>\n",
              "      <th>2279</th>\n",
              "      <td>08-09-2020</td>\n",
              "      <td>11378.549810</td>\n",
              "      <td>11437.250000</td>\n",
              "      <td>11290.450200</td>\n",
              "      <td>11317.349610</td>\n",
              "      <td>11317.349610</td>\n",
              "      <td>572200</td>\n",
              "      <td>0</td>\n",
              "      <td>50.030091</td>\n",
              "      <td>50.030091</td>\n",
              "      <td>0.000000</td>\n",
              "      <td>2.996472</td>\n",
              "      <td>40.975116</td>\n",
              "      <td>86.122224</td>\n",
              "      <td>126.555658</td>\n",
              "      <td>-40.433435</td>\n",
              "      <td>11406.674950</td>\n",
              "      <td>11137.517010</td>\n",
              "      <td>10910.549280</td>\n",
              "      <td>10803.789530</td>\n",
              "      <td>11174.225270</td>\n",
              "      <td>11406.674950</td>\n",
              "      <td>11639.124630</td>\n",
              "      <td>0.760407</td>\n",
              "      <td>1.122648</td>\n",
              "      <td>-0.362241</td>\n",
              "      <td>-54.250000</td>\n",
              "      <td>-0.798103</td>\n",
              "      <td>11373.945220</td>\n",
              "      <td>11084.061070</td>\n",
              "      <td>10956.793440</td>\n",
              "      <td>10773.770940</td>\n",
              "      <td>-50.657576</td>\n",
              "    </tr>\n",
              "    <tr>\n",
              "      <th>2280</th>\n",
              "      <td>09-09-2020</td>\n",
              "      <td>11218.599610</td>\n",
              "      <td>11298.150390</td>\n",
              "      <td>11185.150390</td>\n",
              "      <td>11278.000000</td>\n",
              "      <td>11278.000000</td>\n",
              "      <td>728900</td>\n",
              "      <td>0</td>\n",
              "      <td>48.174703</td>\n",
              "      <td>48.174703</td>\n",
              "      <td>0.000000</td>\n",
              "      <td>2.996472</td>\n",
              "      <td>37.949827</td>\n",
              "      <td>69.058628</td>\n",
              "      <td>115.056252</td>\n",
              "      <td>-45.997625</td>\n",
              "      <td>11405.154930</td>\n",
              "      <td>11154.476020</td>\n",
              "      <td>10928.423890</td>\n",
              "      <td>10800.337530</td>\n",
              "      <td>11169.775490</td>\n",
              "      <td>11405.154930</td>\n",
              "      <td>11640.534380</td>\n",
              "      <td>0.609936</td>\n",
              "      <td>1.020105</td>\n",
              "      <td>-0.410169</td>\n",
              "      <td>-188.450200</td>\n",
              "      <td>-0.302330</td>\n",
              "      <td>11364.807580</td>\n",
              "      <td>11091.666510</td>\n",
              "      <td>10966.526970</td>\n",
              "      <td>10778.788140</td>\n",
              "      <td>-116.967844</td>\n",
              "    </tr>\n",
              "    <tr>\n",
              "      <th>2281</th>\n",
              "      <td>10-09-2020</td>\n",
              "      <td>11363.299810</td>\n",
              "      <td>11464.049810</td>\n",
              "      <td>11327.400390</td>\n",
              "      <td>11449.250000</td>\n",
              "      <td>11449.250000</td>\n",
              "      <td>679400</td>\n",
              "      <td>0</td>\n",
              "      <td>55.848701</td>\n",
              "      <td>55.848701</td>\n",
              "      <td>100.000000</td>\n",
              "      <td>33.333333</td>\n",
              "      <td>54.732787</td>\n",
              "      <td>68.563689</td>\n",
              "      <td>105.757740</td>\n",
              "      <td>-37.194051</td>\n",
              "      <td>11412.594920</td>\n",
              "      <td>11172.427010</td>\n",
              "      <td>10952.227740</td>\n",
              "      <td>10798.011770</td>\n",
              "      <td>11181.557420</td>\n",
              "      <td>11412.594920</td>\n",
              "      <td>11643.632420</td>\n",
              "      <td>0.605062</td>\n",
              "      <td>0.937097</td>\n",
              "      <td>-0.332035</td>\n",
              "      <td>-23.000000</td>\n",
              "      <td>0.682845</td>\n",
              "      <td>11372.849710</td>\n",
              "      <td>11105.689400</td>\n",
              "      <td>10981.154940</td>\n",
              "      <td>10785.459400</td>\n",
              "      <td>49.639299</td>\n",
              "    </tr>\n",
              "    <tr>\n",
              "      <th>2282</th>\n",
              "      <td>11-09-2020</td>\n",
              "      <td>11447.799810</td>\n",
              "      <td>11493.500000</td>\n",
              "      <td>11419.900390</td>\n",
              "      <td>11464.450200</td>\n",
              "      <td>11464.450200</td>\n",
              "      <td>554800</td>\n",
              "      <td>0</td>\n",
              "      <td>56.464903</td>\n",
              "      <td>56.464903</td>\n",
              "      <td>100.000000</td>\n",
              "      <td>66.666667</td>\n",
              "      <td>55.952926</td>\n",
              "      <td>68.607116</td>\n",
              "      <td>98.327615</td>\n",
              "      <td>-29.720499</td>\n",
              "      <td>11426.897410</td>\n",
              "      <td>11189.569030</td>\n",
              "      <td>10975.174660</td>\n",
              "      <td>10794.965270</td>\n",
              "      <td>11221.645230</td>\n",
              "      <td>11426.897410</td>\n",
              "      <td>11632.149600</td>\n",
              "      <td>0.604920</td>\n",
              "      <td>0.870661</td>\n",
              "      <td>-0.265741</td>\n",
              "      <td>-85.149410</td>\n",
              "      <td>-0.017442</td>\n",
              "      <td>11381.573570</td>\n",
              "      <td>11119.758450</td>\n",
              "      <td>10995.800250</td>\n",
              "      <td>10792.215530</td>\n",
              "      <td>53.278812</td>\n",
              "    </tr>\n",
              "  </tbody>\n",
              "</table>\n",
              "<p>2283 rows × 33 columns</p>\n",
              "</div>"
            ],
            "text/plain": [
              "            Date          Open          High           Low         Close  \\\n",
              "0     11-05-2011   5547.200195   5574.700195   5525.000000   5565.049805   \n",
              "1     12-05-2011   5537.799805   5572.500000   5476.299805   5486.149902   \n",
              "2     13-05-2011   5492.350098   5605.000000   5472.149902   5544.750000   \n",
              "3     16-05-2011   5541.700195   5541.799805   5487.649902   5499.000000   \n",
              "4     17-05-2011   5496.100098   5523.850098   5421.049805   5438.950195   \n",
              "...          ...           ...           ...           ...           ...   \n",
              "2278  07-09-2020  11359.599610  11381.150390  11251.700200  11355.049810   \n",
              "2279  08-09-2020  11378.549810  11437.250000  11290.450200  11317.349610   \n",
              "2280  09-09-2020  11218.599610  11298.150390  11185.150390  11278.000000   \n",
              "2281  10-09-2020  11363.299810  11464.049810  11327.400390  11449.250000   \n",
              "2282  11-09-2020  11447.799810  11493.500000  11419.900390  11464.450200   \n",
              "\n",
              "         Adj Close  Volume  TREND  WILDERS_RSI        RSI  RSI_FAST_K  \\\n",
              "0      5565.049805       0     -1    41.779763  41.779763  100.000000   \n",
              "1      5486.149902       0     -1    37.089676  37.089676    0.000000   \n",
              "2      5544.750000       0     -1    42.272914  42.272914  100.000000   \n",
              "3      5499.000000       0     -1    39.534301  39.534301   47.164043   \n",
              "4      5438.950195       0     -1    36.217691  36.217691    0.000000   \n",
              "...            ...     ...    ...          ...        ...         ...   \n",
              "2278  11355.049810  560300      0    51.805126  51.805126    8.989415   \n",
              "2279  11317.349610  572200      0    50.030091  50.030091    0.000000   \n",
              "2280  11278.000000  728900      0    48.174703  48.174703    0.000000   \n",
              "2281  11449.250000  679400      0    55.848701  55.848701  100.000000   \n",
              "2282  11464.450200  554800      0    56.464903  56.464903  100.000000   \n",
              "\n",
              "      RSI_FAST_D    EXP_RSI        MACD   MACD_SIGN  MACD_HIST         MA_20  \\\n",
              "0      97.397249  38.024471  -46.927202  -13.601502 -33.325700   5715.605005   \n",
              "1      64.145615  29.800368  -54.136399  -21.708481 -32.427918   5700.627490   \n",
              "2      66.666667  40.777351  -54.493040  -28.265393 -26.227647   5682.289990   \n",
              "3      49.054681  35.742631  -57.801029  -34.172520 -23.628508   5666.012500   \n",
              "4      49.054681  30.111920  -64.524353  -40.242887 -24.281467   5651.505005   \n",
              "...          ...        ...         ...         ...        ...           ...   \n",
              "2278   13.620121  43.879644  102.642384  136.664017 -34.021633  11406.932470   \n",
              "2279    2.996472  40.975116   86.122224  126.555658 -40.433435  11406.674950   \n",
              "2280    2.996472  37.949827   69.058628  115.056252 -45.997625  11405.154930   \n",
              "2281   33.333333  54.732787   68.563689  105.757740 -37.194051  11412.594920   \n",
              "2282   66.666667  55.952926   68.607116   98.327615 -29.720499  11426.897410   \n",
              "\n",
              "             MA_50         MA_65        MA_200      BB_LOWER     BB_MIDDLE  \\\n",
              "0      5641.161992   5585.595388   5749.517000   5433.175896   5715.605005   \n",
              "1      5644.813994   5586.986155   5749.702249   5403.278941   5700.627490   \n",
              "2      5649.043994   5589.274617   5750.332998   5394.128197   5682.289990   \n",
              "3      5648.577998   5592.143081   5750.674998   5375.067719   5666.012500   \n",
              "4      5646.632998   5594.995395   5750.882000   5346.017779   5651.505005   \n",
              "...            ...           ...           ...           ...           ...   \n",
              "2278  11117.212010  10891.000060  10807.198280  11174.868110  11406.932470   \n",
              "2279  11137.517010  10910.549280  10803.789530  11174.225270  11406.674950   \n",
              "2280  11154.476020  10928.423890  10800.337530  11169.775490  11405.154930   \n",
              "2281  11172.427010  10952.227740  10798.011770  11181.557420  11412.594920   \n",
              "2282  11189.569030  10975.174660  10794.965270  11221.645230  11426.897410   \n",
              "\n",
              "          BB_UPPER       PPO  PPO_SIGN  PPO_HIST         MOM       ROC  \\\n",
              "0      5998.034114 -0.828075 -0.241940 -0.586134 -309.450195 -4.897766   \n",
              "1      5997.976039 -0.957552 -0.385063 -0.572489 -382.250000 -6.772652   \n",
              "2      5970.451784 -0.965237 -0.501097 -0.464139 -289.149902 -5.613244   \n",
              "3      5956.957281 -1.025804 -0.606039 -0.419765 -286.450195 -6.294730   \n",
              "4      5956.992230 -1.148078 -0.714447 -0.433632 -310.549805 -6.769909   \n",
              "...            ...       ...       ...       ...         ...       ...   \n",
              "2278  11638.996840  0.906215  1.213208 -0.306992   42.849610 -0.266130   \n",
              "2279  11639.124630  0.760407  1.122648 -0.362241  -54.250000 -0.798103   \n",
              "2280  11640.534380  0.609936  1.020105 -0.410169 -188.450200 -0.302330   \n",
              "2281  11643.632420  0.605062  0.937097 -0.332035  -23.000000  0.682845   \n",
              "2282  11632.149600  0.604920  0.870661 -0.265741  -85.149410 -0.017442   \n",
              "\n",
              "            EMA_20        EMA_50        EMA_65       EMA_200         DPO  \n",
              "0      5658.143016   5666.909600   5670.206615   5718.888241 -261.193080  \n",
              "1      5641.762719   5659.818702   5664.617626   5716.214144 -326.921527  \n",
              "2      5632.523413   5655.304807   5660.978003   5714.247098 -248.553571  \n",
              "3      5619.806897   5649.173385   5656.060053   5711.781524 -276.549979  \n",
              "4      5602.582449   5640.926983   5649.468586   5708.661039 -304.339077  \n",
              "...            ...           ...           ...           ...         ...  \n",
              "2278  11379.902650  11074.539080  10945.526060  10768.307830   11.699781  \n",
              "2279  11373.945220  11084.061070  10956.793440  10773.770940  -50.657576  \n",
              "2280  11364.807580  11091.666510  10966.526970  10778.788140 -116.967844  \n",
              "2281  11372.849710  11105.689400  10981.154940  10785.459400   49.639299  \n",
              "2282  11381.573570  11119.758450  10995.800250  10792.215530   53.278812  \n",
              "\n",
              "[2283 rows x 33 columns]"
            ]
          },
          "metadata": {
            "tags": []
          },
          "execution_count": 6
        }
      ]
    },
    {
      "cell_type": "code",
      "metadata": {
        "id": "_E7aR4Ayl0nj"
      },
      "source": [
        "shanghai = pd.read_csv(os.path.join(path,'000001.SS.csv'))"
      ],
      "execution_count": null,
      "outputs": []
    },
    {
      "cell_type": "code",
      "metadata": {
        "id": "G97wICXcao8Y"
      },
      "source": [
        "shanghai[\"shanghai\"]=shanghai[\"Close\"]\n",
        "shanghai.drop(columns=[\"Open\",\"High\",\"Low\",\"Adj Close\",\"Volume\",\"Close\"],inplace=True)\n"
      ],
      "execution_count": null,
      "outputs": []
    },
    {
      "cell_type": "code",
      "metadata": {
        "colab": {
          "base_uri": "https://localhost:8080/",
          "height": 204
        },
        "id": "LWB9RMxMl0je",
        "outputId": "e467c8ec-d550-45ea-cf7c-1f65d0b6c868"
      },
      "source": [
        "shanghai.head()"
      ],
      "execution_count": null,
      "outputs": [
        {
          "output_type": "execute_result",
          "data": {
            "text/html": [
              "<div>\n",
              "<style scoped>\n",
              "    .dataframe tbody tr th:only-of-type {\n",
              "        vertical-align: middle;\n",
              "    }\n",
              "\n",
              "    .dataframe tbody tr th {\n",
              "        vertical-align: top;\n",
              "    }\n",
              "\n",
              "    .dataframe thead th {\n",
              "        text-align: right;\n",
              "    }\n",
              "</style>\n",
              "<table border=\"1\" class=\"dataframe\">\n",
              "  <thead>\n",
              "    <tr style=\"text-align: right;\">\n",
              "      <th></th>\n",
              "      <th>Date</th>\n",
              "      <th>shanghai</th>\n",
              "    </tr>\n",
              "  </thead>\n",
              "  <tbody>\n",
              "    <tr>\n",
              "      <th>0</th>\n",
              "      <td>2011-04-19</td>\n",
              "      <td>2999.041016</td>\n",
              "    </tr>\n",
              "    <tr>\n",
              "      <th>1</th>\n",
              "      <td>2011-04-20</td>\n",
              "      <td>3007.037109</td>\n",
              "    </tr>\n",
              "    <tr>\n",
              "      <th>2</th>\n",
              "      <td>2011-04-21</td>\n",
              "      <td>3026.666992</td>\n",
              "    </tr>\n",
              "    <tr>\n",
              "      <th>3</th>\n",
              "      <td>2011-04-22</td>\n",
              "      <td>3010.517090</td>\n",
              "    </tr>\n",
              "    <tr>\n",
              "      <th>4</th>\n",
              "      <td>2011-04-25</td>\n",
              "      <td>2964.950928</td>\n",
              "    </tr>\n",
              "  </tbody>\n",
              "</table>\n",
              "</div>"
            ],
            "text/plain": [
              "         Date     shanghai\n",
              "0  2011-04-19  2999.041016\n",
              "1  2011-04-20  3007.037109\n",
              "2  2011-04-21  3026.666992\n",
              "3  2011-04-22  3010.517090\n",
              "4  2011-04-25  2964.950928"
            ]
          },
          "metadata": {
            "tags": []
          },
          "execution_count": 9
        }
      ]
    },
    {
      "cell_type": "code",
      "metadata": {
        "id": "PRpQQH20l0f8"
      },
      "source": [
        "oneyear = pd.read_csv(\"/content/drive/MyDrive/Nifty/1.csv\")"
      ],
      "execution_count": null,
      "outputs": []
    },
    {
      "cell_type": "code",
      "metadata": {
        "id": "QUEpsd6RqA66"
      },
      "source": [
        "fiveyear = pd.read_csv(\"/content/drive/MyDrive/Nifty/5.csv\")"
      ],
      "execution_count": null,
      "outputs": []
    },
    {
      "cell_type": "code",
      "metadata": {
        "id": "8PvOamkPqA2Z"
      },
      "source": [
        "\n",
        "tenyear = pd.read_csv(\"/content/drive/MyDrive/Nifty/10.csv\")"
      ],
      "execution_count": null,
      "outputs": []
    },
    {
      "cell_type": "code",
      "metadata": {
        "id": "RDs9CqPyqAyC"
      },
      "source": [
        "threemonth = pd.read_csv(\"/content/drive/MyDrive/Nifty/0.3.csv\")"
      ],
      "execution_count": null,
      "outputs": []
    },
    {
      "cell_type": "code",
      "metadata": {
        "id": "aHyzt0WDqAt7"
      },
      "source": [
        "\n",
        "brazil=pd.read_csv(\"/content/drive/MyDrive/Nifty/brazil.csv\")"
      ],
      "execution_count": null,
      "outputs": []
    },
    {
      "cell_type": "code",
      "metadata": {
        "id": "kUWMTX6eafvu"
      },
      "source": [
        "brazil[\"brazil\"]=brazil[\"Close\"]\n",
        "brazil.drop(columns=[\"Open\",\"High\",\"Low\",\"Adj Close\",\"Volume\",\"Close\"],inplace=True)\n"
      ],
      "execution_count": null,
      "outputs": []
    },
    {
      "cell_type": "code",
      "metadata": {
        "colab": {
          "base_uri": "https://localhost:8080/",
          "height": 419
        },
        "id": "K9Q94qwvqApf",
        "outputId": "54626c7e-2411-4074-8430-c8004e3e267f"
      },
      "source": [
        "brazil"
      ],
      "execution_count": null,
      "outputs": [
        {
          "output_type": "execute_result",
          "data": {
            "text/html": [
              "<div>\n",
              "<style scoped>\n",
              "    .dataframe tbody tr th:only-of-type {\n",
              "        vertical-align: middle;\n",
              "    }\n",
              "\n",
              "    .dataframe tbody tr th {\n",
              "        vertical-align: top;\n",
              "    }\n",
              "\n",
              "    .dataframe thead th {\n",
              "        text-align: right;\n",
              "    }\n",
              "</style>\n",
              "<table border=\"1\" class=\"dataframe\">\n",
              "  <thead>\n",
              "    <tr style=\"text-align: right;\">\n",
              "      <th></th>\n",
              "      <th>Date</th>\n",
              "      <th>brazil</th>\n",
              "    </tr>\n",
              "  </thead>\n",
              "  <tbody>\n",
              "    <tr>\n",
              "      <th>0</th>\n",
              "      <td>2010-04-19</td>\n",
              "      <td>69098.0</td>\n",
              "    </tr>\n",
              "    <tr>\n",
              "      <th>1</th>\n",
              "      <td>2010-04-20</td>\n",
              "      <td>69318.0</td>\n",
              "    </tr>\n",
              "    <tr>\n",
              "      <th>2</th>\n",
              "      <td>2010-04-22</td>\n",
              "      <td>69386.0</td>\n",
              "    </tr>\n",
              "    <tr>\n",
              "      <th>3</th>\n",
              "      <td>2010-04-23</td>\n",
              "      <td>69509.0</td>\n",
              "    </tr>\n",
              "    <tr>\n",
              "      <th>4</th>\n",
              "      <td>2010-04-26</td>\n",
              "      <td>68872.0</td>\n",
              "    </tr>\n",
              "    <tr>\n",
              "      <th>...</th>\n",
              "      <td>...</td>\n",
              "      <td>...</td>\n",
              "    </tr>\n",
              "    <tr>\n",
              "      <th>2723</th>\n",
              "      <td>2021-04-12</td>\n",
              "      <td>118812.0</td>\n",
              "    </tr>\n",
              "    <tr>\n",
              "      <th>2724</th>\n",
              "      <td>2021-04-13</td>\n",
              "      <td>119297.0</td>\n",
              "    </tr>\n",
              "    <tr>\n",
              "      <th>2725</th>\n",
              "      <td>2021-04-14</td>\n",
              "      <td>120295.0</td>\n",
              "    </tr>\n",
              "    <tr>\n",
              "      <th>2726</th>\n",
              "      <td>2021-04-15</td>\n",
              "      <td>120701.0</td>\n",
              "    </tr>\n",
              "    <tr>\n",
              "      <th>2727</th>\n",
              "      <td>2021-04-16</td>\n",
              "      <td>121114.0</td>\n",
              "    </tr>\n",
              "  </tbody>\n",
              "</table>\n",
              "<p>2728 rows × 2 columns</p>\n",
              "</div>"
            ],
            "text/plain": [
              "            Date    brazil\n",
              "0     2010-04-19   69098.0\n",
              "1     2010-04-20   69318.0\n",
              "2     2010-04-22   69386.0\n",
              "3     2010-04-23   69509.0\n",
              "4     2010-04-26   68872.0\n",
              "...          ...       ...\n",
              "2723  2021-04-12  118812.0\n",
              "2724  2021-04-13  119297.0\n",
              "2725  2021-04-14  120295.0\n",
              "2726  2021-04-15  120701.0\n",
              "2727  2021-04-16  121114.0\n",
              "\n",
              "[2728 rows x 2 columns]"
            ]
          },
          "metadata": {
            "tags": []
          },
          "execution_count": 16
        }
      ]
    },
    {
      "cell_type": "code",
      "metadata": {
        "id": "8_4r4OTJqAlP"
      },
      "source": [
        "exrates=pd.read_csv(\"/content/drive/MyDrive/Nifty/exrates.csv\")"
      ],
      "execution_count": null,
      "outputs": []
    },
    {
      "cell_type": "code",
      "metadata": {
        "colab": {
          "base_uri": "https://localhost:8080/",
          "height": 204
        },
        "id": "YlNTveWX2Wgj",
        "outputId": "5d714500-e4b1-470e-f9f0-d8276e56b08f"
      },
      "source": [
        "exrates.head()"
      ],
      "execution_count": null,
      "outputs": [
        {
          "output_type": "execute_result",
          "data": {
            "text/html": [
              "<div>\n",
              "<style scoped>\n",
              "    .dataframe tbody tr th:only-of-type {\n",
              "        vertical-align: middle;\n",
              "    }\n",
              "\n",
              "    .dataframe tbody tr th {\n",
              "        vertical-align: top;\n",
              "    }\n",
              "\n",
              "    .dataframe thead th {\n",
              "        text-align: right;\n",
              "    }\n",
              "</style>\n",
              "<table border=\"1\" class=\"dataframe\">\n",
              "  <thead>\n",
              "    <tr style=\"text-align: right;\">\n",
              "      <th></th>\n",
              "      <th>Date</th>\n",
              "      <th>INRcad</th>\n",
              "      <th>INRcny</th>\n",
              "      <th>INRsgd</th>\n",
              "      <th>INRhkd</th>\n",
              "      <th>INRaud</th>\n",
              "      <th>INRjpy</th>\n",
              "      <th>INRusd</th>\n",
              "      <th>INReur</th>\n",
              "    </tr>\n",
              "  </thead>\n",
              "  <tbody>\n",
              "    <tr>\n",
              "      <th>0</th>\n",
              "      <td>18 Apr 2021</td>\n",
              "      <td>59.5459</td>\n",
              "      <td>11.4175</td>\n",
              "      <td>55.8420</td>\n",
              "      <td>9.5796</td>\n",
              "      <td>57.7240</td>\n",
              "      <td>0.6845</td>\n",
              "      <td>74.4498</td>\n",
              "      <td>89.2355</td>\n",
              "    </tr>\n",
              "    <tr>\n",
              "      <th>1</th>\n",
              "      <td>17 Apr 2021</td>\n",
              "      <td>59.5459</td>\n",
              "      <td>11.4175</td>\n",
              "      <td>55.8420</td>\n",
              "      <td>9.5796</td>\n",
              "      <td>57.7240</td>\n",
              "      <td>0.6845</td>\n",
              "      <td>74.4498</td>\n",
              "      <td>89.2355</td>\n",
              "    </tr>\n",
              "    <tr>\n",
              "      <th>2</th>\n",
              "      <td>16 Apr 2021</td>\n",
              "      <td>59.5459</td>\n",
              "      <td>11.4175</td>\n",
              "      <td>55.8420</td>\n",
              "      <td>9.5796</td>\n",
              "      <td>57.7240</td>\n",
              "      <td>0.6845</td>\n",
              "      <td>74.4498</td>\n",
              "      <td>89.2355</td>\n",
              "    </tr>\n",
              "    <tr>\n",
              "      <th>3</th>\n",
              "      <td>15 Apr 2021</td>\n",
              "      <td>60.0475</td>\n",
              "      <td>11.4939</td>\n",
              "      <td>56.2170</td>\n",
              "      <td>9.6577</td>\n",
              "      <td>58.1311</td>\n",
              "      <td>0.6900</td>\n",
              "      <td>75.0217</td>\n",
              "      <td>89.8010</td>\n",
              "    </tr>\n",
              "    <tr>\n",
              "      <th>4</th>\n",
              "      <td>14 Apr 2021</td>\n",
              "      <td>59.7850</td>\n",
              "      <td>11.4955</td>\n",
              "      <td>56.1526</td>\n",
              "      <td>9.6683</td>\n",
              "      <td>57.7296</td>\n",
              "      <td>0.6893</td>\n",
              "      <td>75.0861</td>\n",
              "      <td>89.8330</td>\n",
              "    </tr>\n",
              "  </tbody>\n",
              "</table>\n",
              "</div>"
            ],
            "text/plain": [
              "          Date   INRcad   INRcny   INRsgd  INRhkd   INRaud  INRjpy   INRusd  \\\n",
              "0  18 Apr 2021  59.5459  11.4175  55.8420  9.5796  57.7240  0.6845  74.4498   \n",
              "1  17 Apr 2021  59.5459  11.4175  55.8420  9.5796  57.7240  0.6845  74.4498   \n",
              "2  16 Apr 2021  59.5459  11.4175  55.8420  9.5796  57.7240  0.6845  74.4498   \n",
              "3  15 Apr 2021  60.0475  11.4939  56.2170  9.6577  58.1311  0.6900  75.0217   \n",
              "4  14 Apr 2021  59.7850  11.4955  56.1526  9.6683  57.7296  0.6893  75.0861   \n",
              "\n",
              "    INReur  \n",
              "0  89.2355  \n",
              "1  89.2355  \n",
              "2  89.2355  \n",
              "3  89.8010  \n",
              "4  89.8330  "
            ]
          },
          "metadata": {
            "tags": []
          },
          "execution_count": 18
        }
      ]
    },
    {
      "cell_type": "code",
      "metadata": {
        "id": "03PFECGh2Wc0"
      },
      "source": [
        "exrates['Date'] = pd.to_datetime(exrates['Date'], infer_datetime_format=True)"
      ],
      "execution_count": null,
      "outputs": []
    },
    {
      "cell_type": "code",
      "metadata": {
        "id": "uD6Jsf3K2WXD"
      },
      "source": [],
      "execution_count": null,
      "outputs": []
    },
    {
      "cell_type": "code",
      "metadata": {
        "id": "7srzp7p32WQ9"
      },
      "source": [],
      "execution_count": null,
      "outputs": []
    },
    {
      "cell_type": "code",
      "metadata": {
        "id": "c-TLVmo-sbIc"
      },
      "source": [
        "gold=pd.read_csv(\"/content/drive/MyDrive/Nifty/gold.csv\")"
      ],
      "execution_count": null,
      "outputs": []
    },
    {
      "cell_type": "code",
      "metadata": {
        "colab": {
          "base_uri": "https://localhost:8080/",
          "height": 204
        },
        "id": "YPLufzYXpdAz",
        "outputId": "b1fea622-824f-4214-942f-3319a5a1a9ae"
      },
      "source": [
        "gold.head()"
      ],
      "execution_count": null,
      "outputs": [
        {
          "output_type": "execute_result",
          "data": {
            "text/html": [
              "<div>\n",
              "<style scoped>\n",
              "    .dataframe tbody tr th:only-of-type {\n",
              "        vertical-align: middle;\n",
              "    }\n",
              "\n",
              "    .dataframe tbody tr th {\n",
              "        vertical-align: top;\n",
              "    }\n",
              "\n",
              "    .dataframe thead th {\n",
              "        text-align: right;\n",
              "    }\n",
              "</style>\n",
              "<table border=\"1\" class=\"dataframe\">\n",
              "  <thead>\n",
              "    <tr style=\"text-align: right;\">\n",
              "      <th></th>\n",
              "      <th>Date</th>\n",
              "      <th>Price</th>\n",
              "      <th>Open</th>\n",
              "      <th>High</th>\n",
              "      <th>Low</th>\n",
              "      <th>Vol.</th>\n",
              "      <th>Change %</th>\n",
              "    </tr>\n",
              "  </thead>\n",
              "  <tbody>\n",
              "    <tr>\n",
              "      <th>0</th>\n",
              "      <td>Apr 19, 2021</td>\n",
              "      <td>1,787.75</td>\n",
              "      <td>1,777.30</td>\n",
              "      <td>1,789.20</td>\n",
              "      <td>1,773.45</td>\n",
              "      <td>-</td>\n",
              "      <td>0.59%</td>\n",
              "    </tr>\n",
              "    <tr>\n",
              "      <th>1</th>\n",
              "      <td>Apr 18, 2021</td>\n",
              "      <td>1,777.35</td>\n",
              "      <td>1,777.65</td>\n",
              "      <td>1,778.85</td>\n",
              "      <td>1,775.55</td>\n",
              "      <td>-</td>\n",
              "      <td>-0.09%</td>\n",
              "    </tr>\n",
              "    <tr>\n",
              "      <th>2</th>\n",
              "      <td>Apr 16, 2021</td>\n",
              "      <td>1,779.00</td>\n",
              "      <td>1,770.40</td>\n",
              "      <td>1,779.50</td>\n",
              "      <td>1,770.10</td>\n",
              "      <td>0.63K</td>\n",
              "      <td>0.77%</td>\n",
              "    </tr>\n",
              "    <tr>\n",
              "      <th>3</th>\n",
              "      <td>Apr 15, 2021</td>\n",
              "      <td>1,765.40</td>\n",
              "      <td>1,740.10</td>\n",
              "      <td>1,767.90</td>\n",
              "      <td>1,740.10</td>\n",
              "      <td>0.37K</td>\n",
              "      <td>1.76%</td>\n",
              "    </tr>\n",
              "    <tr>\n",
              "      <th>4</th>\n",
              "      <td>Apr 14, 2021</td>\n",
              "      <td>1,734.90</td>\n",
              "      <td>1,741.30</td>\n",
              "      <td>1,745.90</td>\n",
              "      <td>1,732.70</td>\n",
              "      <td>1.04K</td>\n",
              "      <td>-0.65%</td>\n",
              "    </tr>\n",
              "  </tbody>\n",
              "</table>\n",
              "</div>"
            ],
            "text/plain": [
              "           Date     Price      Open      High       Low   Vol. Change %\n",
              "0  Apr 19, 2021  1,787.75  1,777.30  1,789.20  1,773.45      -    0.59%\n",
              "1  Apr 18, 2021  1,777.35  1,777.65  1,778.85  1,775.55      -   -0.09%\n",
              "2  Apr 16, 2021  1,779.00  1,770.40  1,779.50  1,770.10  0.63K    0.77%\n",
              "3  Apr 15, 2021  1,765.40  1,740.10  1,767.90  1,740.10  0.37K    1.76%\n",
              "4  Apr 14, 2021  1,734.90  1,741.30  1,745.90  1,732.70  1.04K   -0.65%"
            ]
          },
          "metadata": {
            "tags": []
          },
          "execution_count": 21
        }
      ]
    },
    {
      "cell_type": "code",
      "metadata": {
        "id": "jnHFBMKhpicm"
      },
      "source": [
        "gold[\"gold\"]=gold[\"Price\"]"
      ],
      "execution_count": null,
      "outputs": []
    },
    {
      "cell_type": "code",
      "metadata": {
        "id": "-YDG-NlTppXi"
      },
      "source": [
        "gold.drop(columns=[\"Price\",\"Open\",\"High\",\"Low\",\"Vol.\",\"Change %\"],inplace=True)"
      ],
      "execution_count": null,
      "outputs": []
    },
    {
      "cell_type": "code",
      "metadata": {
        "id": "KAV_bCsjsbD2"
      },
      "source": [
        "nasdaq=pd.read_csv(\"/content/drive/MyDrive/Nifty/nasdaq.csv\")"
      ],
      "execution_count": null,
      "outputs": []
    },
    {
      "cell_type": "code",
      "metadata": {
        "id": "8wrRWlsisa--"
      },
      "source": [
        "silver=pd.read_csv(\"/content/drive/MyDrive/Nifty/silver.csv\")"
      ],
      "execution_count": null,
      "outputs": []
    },
    {
      "cell_type": "code",
      "metadata": {
        "id": "yCgw2ZxqZyF8"
      },
      "source": [
        "nasdaq[\"nasdaq\"]=nasdaq[\"Close\"]\n",
        "nasdaq.drop(columns=[\"Open\",\"High\",\"Low\",\"Adj Close\",\"Volume\",\"Close\"],inplace=True)\n"
      ],
      "execution_count": null,
      "outputs": []
    },
    {
      "cell_type": "code",
      "metadata": {
        "id": "LBerVaHksa6h"
      },
      "source": [
        "markets1=pd.merge(nasdaq,brazil, how=\"outer\",on=\"Date\")"
      ],
      "execution_count": null,
      "outputs": []
    },
    {
      "cell_type": "code",
      "metadata": {
        "id": "QZfjo7PJJCP5"
      },
      "source": [
        "markets=pd.merge(markets1,shanghai, how=\"outer\", on=\"Date\")"
      ],
      "execution_count": null,
      "outputs": []
    },
    {
      "cell_type": "code",
      "metadata": {
        "colab": {
          "base_uri": "https://localhost:8080/"
        },
        "id": "q1Uro4LaJRvn",
        "outputId": "96bcce1e-d09c-44d2-e257-d34eeb96ad7e"
      },
      "source": [
        "markets.isna().sum()"
      ],
      "execution_count": null,
      "outputs": [
        {
          "output_type": "execute_result",
          "data": {
            "text/plain": [
              "Date          0\n",
              "nasdaq       91\n",
              "brazil      143\n",
              "shanghai    430\n",
              "dtype: int64"
            ]
          },
          "metadata": {
            "tags": []
          },
          "execution_count": 29
        }
      ]
    },
    {
      "cell_type": "code",
      "metadata": {
        "id": "5mGE2tiSl0cO"
      },
      "source": [
        "oneyear[\"1y\"]=oneyear.Price"
      ],
      "execution_count": null,
      "outputs": []
    },
    {
      "cell_type": "code",
      "metadata": {
        "id": "PjiAy4UJ6gk3"
      },
      "source": [
        "oneyear.drop(columns=[\"Open\",\"High\",\"Low\",\"Change %\",\"Price\"],axis=1,inplace=True)"
      ],
      "execution_count": null,
      "outputs": []
    },
    {
      "cell_type": "code",
      "metadata": {
        "id": "lEt7otAI6ggo"
      },
      "source": [
        "fiveyear[\"5y\"]=fiveyear.Price"
      ],
      "execution_count": null,
      "outputs": []
    },
    {
      "cell_type": "code",
      "metadata": {
        "id": "rJcXr7hP6gcq"
      },
      "source": [
        "fiveyear.drop(columns=[\"Open\",\"High\",\"Low\",\"Change %\",\"Price\"],axis=1,inplace=True)"
      ],
      "execution_count": null,
      "outputs": []
    },
    {
      "cell_type": "code",
      "metadata": {
        "id": "UvRne6Ki6gY5"
      },
      "source": [
        "tenyear[\"10y\"]=tenyear.Price"
      ],
      "execution_count": null,
      "outputs": []
    },
    {
      "cell_type": "code",
      "metadata": {
        "id": "qXSaEf2i6gUl"
      },
      "source": [
        "tenyear.drop(columns=[\"Open\",\"High\",\"Low\",\"Change %\",\"Price\"],axis=1,inplace=True)"
      ],
      "execution_count": null,
      "outputs": []
    },
    {
      "cell_type": "code",
      "metadata": {
        "id": "8DSDy9cu6gIy"
      },
      "source": [
        "threemonth[\"0.3m\"]=threemonth.Price"
      ],
      "execution_count": null,
      "outputs": []
    },
    {
      "cell_type": "code",
      "metadata": {
        "id": "yS2IiES06uIE"
      },
      "source": [
        "threemonth.drop(columns=[\"Open\",\"High\",\"Low\",\"Change %\",\"Price\"],axis=1,inplace=True)"
      ],
      "execution_count": null,
      "outputs": []
    },
    {
      "cell_type": "code",
      "metadata": {
        "id": "qu35dKZu6uDu"
      },
      "source": [
        "bond1=pd.merge(oneyear,threemonth,on='Date',how='inner')"
      ],
      "execution_count": null,
      "outputs": []
    },
    {
      "cell_type": "code",
      "metadata": {
        "id": "zOh0NjoS6t_l"
      },
      "source": [
        "bond2=pd.merge(fiveyear,tenyear,on='Date',how=\"inner\")"
      ],
      "execution_count": null,
      "outputs": []
    },
    {
      "cell_type": "code",
      "metadata": {
        "id": "9Mf6acBu7jPY"
      },
      "source": [
        "bond=pd.merge(bond1,bond2,on=\"Date\",how=\"inner\")"
      ],
      "execution_count": null,
      "outputs": []
    },
    {
      "cell_type": "code",
      "metadata": {
        "colab": {
          "base_uri": "https://localhost:8080/",
          "height": 204
        },
        "id": "Pf8pzs6F7jHP",
        "outputId": "9cd1163a-fb4f-45bd-93ab-86a6892ac689"
      },
      "source": [
        "bond.head()"
      ],
      "execution_count": null,
      "outputs": [
        {
          "output_type": "execute_result",
          "data": {
            "text/html": [
              "<div>\n",
              "<style scoped>\n",
              "    .dataframe tbody tr th:only-of-type {\n",
              "        vertical-align: middle;\n",
              "    }\n",
              "\n",
              "    .dataframe tbody tr th {\n",
              "        vertical-align: top;\n",
              "    }\n",
              "\n",
              "    .dataframe thead th {\n",
              "        text-align: right;\n",
              "    }\n",
              "</style>\n",
              "<table border=\"1\" class=\"dataframe\">\n",
              "  <thead>\n",
              "    <tr style=\"text-align: right;\">\n",
              "      <th></th>\n",
              "      <th>Date</th>\n",
              "      <th>1y</th>\n",
              "      <th>0.3m</th>\n",
              "      <th>5y</th>\n",
              "      <th>10y</th>\n",
              "    </tr>\n",
              "  </thead>\n",
              "  <tbody>\n",
              "    <tr>\n",
              "      <th>0</th>\n",
              "      <td>Apr 19, 2021</td>\n",
              "      <td>3.933</td>\n",
              "      <td>3.34</td>\n",
              "      <td>5.549</td>\n",
              "      <td>6.075</td>\n",
              "    </tr>\n",
              "    <tr>\n",
              "      <th>1</th>\n",
              "      <td>Apr 16, 2021</td>\n",
              "      <td>3.918</td>\n",
              "      <td>3.34</td>\n",
              "      <td>5.590</td>\n",
              "      <td>6.088</td>\n",
              "    </tr>\n",
              "    <tr>\n",
              "      <th>2</th>\n",
              "      <td>Apr 15, 2021</td>\n",
              "      <td>3.928</td>\n",
              "      <td>3.34</td>\n",
              "      <td>5.637</td>\n",
              "      <td>6.126</td>\n",
              "    </tr>\n",
              "    <tr>\n",
              "      <th>3</th>\n",
              "      <td>Apr 12, 2021</td>\n",
              "      <td>4.208</td>\n",
              "      <td>3.35</td>\n",
              "      <td>5.589</td>\n",
              "      <td>6.011</td>\n",
              "    </tr>\n",
              "    <tr>\n",
              "      <th>4</th>\n",
              "      <td>Apr 09, 2021</td>\n",
              "      <td>3.987</td>\n",
              "      <td>3.34</td>\n",
              "      <td>5.583</td>\n",
              "      <td>6.017</td>\n",
              "    </tr>\n",
              "  </tbody>\n",
              "</table>\n",
              "</div>"
            ],
            "text/plain": [
              "           Date     1y  0.3m     5y    10y\n",
              "0  Apr 19, 2021  3.933  3.34  5.549  6.075\n",
              "1  Apr 16, 2021  3.918  3.34  5.590  6.088\n",
              "2  Apr 15, 2021  3.928  3.34  5.637  6.126\n",
              "3  Apr 12, 2021  4.208  3.35  5.589  6.011\n",
              "4  Apr 09, 2021  3.987  3.34  5.583  6.017"
            ]
          },
          "metadata": {
            "tags": []
          },
          "execution_count": 41
        }
      ]
    },
    {
      "cell_type": "code",
      "metadata": {
        "colab": {
          "base_uri": "https://localhost:8080/",
          "height": 199
        },
        "id": "A0_L8tJ9x86I",
        "outputId": "e09f121c-ee32-46c1-d7f2-7f21e5eb0b1c"
      },
      "source": [
        "nifty.head(2)"
      ],
      "execution_count": null,
      "outputs": [
        {
          "output_type": "execute_result",
          "data": {
            "text/html": [
              "<div>\n",
              "<style scoped>\n",
              "    .dataframe tbody tr th:only-of-type {\n",
              "        vertical-align: middle;\n",
              "    }\n",
              "\n",
              "    .dataframe tbody tr th {\n",
              "        vertical-align: top;\n",
              "    }\n",
              "\n",
              "    .dataframe thead th {\n",
              "        text-align: right;\n",
              "    }\n",
              "</style>\n",
              "<table border=\"1\" class=\"dataframe\">\n",
              "  <thead>\n",
              "    <tr style=\"text-align: right;\">\n",
              "      <th></th>\n",
              "      <th>Date</th>\n",
              "      <th>Open</th>\n",
              "      <th>High</th>\n",
              "      <th>Low</th>\n",
              "      <th>Close</th>\n",
              "      <th>Adj Close</th>\n",
              "      <th>Volume</th>\n",
              "      <th>TREND</th>\n",
              "      <th>WILDERS_RSI</th>\n",
              "      <th>RSI</th>\n",
              "      <th>RSI_FAST_K</th>\n",
              "      <th>RSI_FAST_D</th>\n",
              "      <th>EXP_RSI</th>\n",
              "      <th>MACD</th>\n",
              "      <th>MACD_SIGN</th>\n",
              "      <th>MACD_HIST</th>\n",
              "      <th>MA_20</th>\n",
              "      <th>MA_50</th>\n",
              "      <th>MA_65</th>\n",
              "      <th>MA_200</th>\n",
              "      <th>BB_LOWER</th>\n",
              "      <th>BB_MIDDLE</th>\n",
              "      <th>BB_UPPER</th>\n",
              "      <th>PPO</th>\n",
              "      <th>PPO_SIGN</th>\n",
              "      <th>PPO_HIST</th>\n",
              "      <th>MOM</th>\n",
              "      <th>ROC</th>\n",
              "      <th>EMA_20</th>\n",
              "      <th>EMA_50</th>\n",
              "      <th>EMA_65</th>\n",
              "      <th>EMA_200</th>\n",
              "      <th>DPO</th>\n",
              "    </tr>\n",
              "  </thead>\n",
              "  <tbody>\n",
              "    <tr>\n",
              "      <th>0</th>\n",
              "      <td>11-05-2011</td>\n",
              "      <td>5547.200195</td>\n",
              "      <td>5574.700195</td>\n",
              "      <td>5525.000000</td>\n",
              "      <td>5565.049805</td>\n",
              "      <td>5565.049805</td>\n",
              "      <td>0</td>\n",
              "      <td>-1</td>\n",
              "      <td>41.779763</td>\n",
              "      <td>41.779763</td>\n",
              "      <td>100.0</td>\n",
              "      <td>97.397249</td>\n",
              "      <td>38.024471</td>\n",
              "      <td>-46.927202</td>\n",
              "      <td>-13.601502</td>\n",
              "      <td>-33.325700</td>\n",
              "      <td>5715.605005</td>\n",
              "      <td>5641.161992</td>\n",
              "      <td>5585.595388</td>\n",
              "      <td>5749.517000</td>\n",
              "      <td>5433.175896</td>\n",
              "      <td>5715.605005</td>\n",
              "      <td>5998.034114</td>\n",
              "      <td>-0.828075</td>\n",
              "      <td>-0.241940</td>\n",
              "      <td>-0.586134</td>\n",
              "      <td>-309.450195</td>\n",
              "      <td>-4.897766</td>\n",
              "      <td>5658.143016</td>\n",
              "      <td>5666.909600</td>\n",
              "      <td>5670.206615</td>\n",
              "      <td>5718.888241</td>\n",
              "      <td>-261.193080</td>\n",
              "    </tr>\n",
              "    <tr>\n",
              "      <th>1</th>\n",
              "      <td>12-05-2011</td>\n",
              "      <td>5537.799805</td>\n",
              "      <td>5572.500000</td>\n",
              "      <td>5476.299805</td>\n",
              "      <td>5486.149902</td>\n",
              "      <td>5486.149902</td>\n",
              "      <td>0</td>\n",
              "      <td>-1</td>\n",
              "      <td>37.089676</td>\n",
              "      <td>37.089676</td>\n",
              "      <td>0.0</td>\n",
              "      <td>64.145615</td>\n",
              "      <td>29.800368</td>\n",
              "      <td>-54.136399</td>\n",
              "      <td>-21.708481</td>\n",
              "      <td>-32.427918</td>\n",
              "      <td>5700.627490</td>\n",
              "      <td>5644.813994</td>\n",
              "      <td>5586.986155</td>\n",
              "      <td>5749.702249</td>\n",
              "      <td>5403.278941</td>\n",
              "      <td>5700.627490</td>\n",
              "      <td>5997.976039</td>\n",
              "      <td>-0.957552</td>\n",
              "      <td>-0.385063</td>\n",
              "      <td>-0.572489</td>\n",
              "      <td>-382.250000</td>\n",
              "      <td>-6.772652</td>\n",
              "      <td>5641.762719</td>\n",
              "      <td>5659.818702</td>\n",
              "      <td>5664.617626</td>\n",
              "      <td>5716.214144</td>\n",
              "      <td>-326.921527</td>\n",
              "    </tr>\n",
              "  </tbody>\n",
              "</table>\n",
              "</div>"
            ],
            "text/plain": [
              "         Date         Open         High          Low        Close  \\\n",
              "0  11-05-2011  5547.200195  5574.700195  5525.000000  5565.049805   \n",
              "1  12-05-2011  5537.799805  5572.500000  5476.299805  5486.149902   \n",
              "\n",
              "     Adj Close  Volume  TREND  WILDERS_RSI        RSI  RSI_FAST_K  RSI_FAST_D  \\\n",
              "0  5565.049805       0     -1    41.779763  41.779763       100.0   97.397249   \n",
              "1  5486.149902       0     -1    37.089676  37.089676         0.0   64.145615   \n",
              "\n",
              "     EXP_RSI       MACD  MACD_SIGN  MACD_HIST        MA_20        MA_50  \\\n",
              "0  38.024471 -46.927202 -13.601502 -33.325700  5715.605005  5641.161992   \n",
              "1  29.800368 -54.136399 -21.708481 -32.427918  5700.627490  5644.813994   \n",
              "\n",
              "         MA_65       MA_200     BB_LOWER    BB_MIDDLE     BB_UPPER       PPO  \\\n",
              "0  5585.595388  5749.517000  5433.175896  5715.605005  5998.034114 -0.828075   \n",
              "1  5586.986155  5749.702249  5403.278941  5700.627490  5997.976039 -0.957552   \n",
              "\n",
              "   PPO_SIGN  PPO_HIST         MOM       ROC       EMA_20       EMA_50  \\\n",
              "0 -0.241940 -0.586134 -309.450195 -4.897766  5658.143016  5666.909600   \n",
              "1 -0.385063 -0.572489 -382.250000 -6.772652  5641.762719  5659.818702   \n",
              "\n",
              "        EMA_65      EMA_200         DPO  \n",
              "0  5670.206615  5718.888241 -261.193080  \n",
              "1  5664.617626  5716.214144 -326.921527  "
            ]
          },
          "metadata": {
            "tags": []
          },
          "execution_count": 42
        }
      ]
    },
    {
      "cell_type": "code",
      "metadata": {
        "colab": {
          "base_uri": "https://localhost:8080/",
          "height": 182
        },
        "id": "OjFG9SMpx86I",
        "outputId": "d07842de-62d4-4a0c-ab76-26cd4453283b"
      },
      "source": [
        "nifty['Date'] = pd.to_datetime(nifty['Date'], format=\"%d-%m-%Y\")\n",
        "nifty.head(2)"
      ],
      "execution_count": null,
      "outputs": [
        {
          "output_type": "execute_result",
          "data": {
            "text/html": [
              "<div>\n",
              "<style scoped>\n",
              "    .dataframe tbody tr th:only-of-type {\n",
              "        vertical-align: middle;\n",
              "    }\n",
              "\n",
              "    .dataframe tbody tr th {\n",
              "        vertical-align: top;\n",
              "    }\n",
              "\n",
              "    .dataframe thead th {\n",
              "        text-align: right;\n",
              "    }\n",
              "</style>\n",
              "<table border=\"1\" class=\"dataframe\">\n",
              "  <thead>\n",
              "    <tr style=\"text-align: right;\">\n",
              "      <th></th>\n",
              "      <th>Date</th>\n",
              "      <th>Open</th>\n",
              "      <th>High</th>\n",
              "      <th>Low</th>\n",
              "      <th>Close</th>\n",
              "      <th>Adj Close</th>\n",
              "      <th>Volume</th>\n",
              "      <th>TREND</th>\n",
              "      <th>WILDERS_RSI</th>\n",
              "      <th>RSI</th>\n",
              "      <th>RSI_FAST_K</th>\n",
              "      <th>RSI_FAST_D</th>\n",
              "      <th>EXP_RSI</th>\n",
              "      <th>MACD</th>\n",
              "      <th>MACD_SIGN</th>\n",
              "      <th>MACD_HIST</th>\n",
              "      <th>MA_20</th>\n",
              "      <th>MA_50</th>\n",
              "      <th>MA_65</th>\n",
              "      <th>MA_200</th>\n",
              "      <th>BB_LOWER</th>\n",
              "      <th>BB_MIDDLE</th>\n",
              "      <th>BB_UPPER</th>\n",
              "      <th>PPO</th>\n",
              "      <th>PPO_SIGN</th>\n",
              "      <th>PPO_HIST</th>\n",
              "      <th>MOM</th>\n",
              "      <th>ROC</th>\n",
              "      <th>EMA_20</th>\n",
              "      <th>EMA_50</th>\n",
              "      <th>EMA_65</th>\n",
              "      <th>EMA_200</th>\n",
              "      <th>DPO</th>\n",
              "    </tr>\n",
              "  </thead>\n",
              "  <tbody>\n",
              "    <tr>\n",
              "      <th>0</th>\n",
              "      <td>2011-05-11</td>\n",
              "      <td>5547.200195</td>\n",
              "      <td>5574.700195</td>\n",
              "      <td>5525.000000</td>\n",
              "      <td>5565.049805</td>\n",
              "      <td>5565.049805</td>\n",
              "      <td>0</td>\n",
              "      <td>-1</td>\n",
              "      <td>41.779763</td>\n",
              "      <td>41.779763</td>\n",
              "      <td>100.0</td>\n",
              "      <td>97.397249</td>\n",
              "      <td>38.024471</td>\n",
              "      <td>-46.927202</td>\n",
              "      <td>-13.601502</td>\n",
              "      <td>-33.325700</td>\n",
              "      <td>5715.605005</td>\n",
              "      <td>5641.161992</td>\n",
              "      <td>5585.595388</td>\n",
              "      <td>5749.517000</td>\n",
              "      <td>5433.175896</td>\n",
              "      <td>5715.605005</td>\n",
              "      <td>5998.034114</td>\n",
              "      <td>-0.828075</td>\n",
              "      <td>-0.241940</td>\n",
              "      <td>-0.586134</td>\n",
              "      <td>-309.450195</td>\n",
              "      <td>-4.897766</td>\n",
              "      <td>5658.143016</td>\n",
              "      <td>5666.909600</td>\n",
              "      <td>5670.206615</td>\n",
              "      <td>5718.888241</td>\n",
              "      <td>-261.193080</td>\n",
              "    </tr>\n",
              "    <tr>\n",
              "      <th>1</th>\n",
              "      <td>2011-05-12</td>\n",
              "      <td>5537.799805</td>\n",
              "      <td>5572.500000</td>\n",
              "      <td>5476.299805</td>\n",
              "      <td>5486.149902</td>\n",
              "      <td>5486.149902</td>\n",
              "      <td>0</td>\n",
              "      <td>-1</td>\n",
              "      <td>37.089676</td>\n",
              "      <td>37.089676</td>\n",
              "      <td>0.0</td>\n",
              "      <td>64.145615</td>\n",
              "      <td>29.800368</td>\n",
              "      <td>-54.136399</td>\n",
              "      <td>-21.708481</td>\n",
              "      <td>-32.427918</td>\n",
              "      <td>5700.627490</td>\n",
              "      <td>5644.813994</td>\n",
              "      <td>5586.986155</td>\n",
              "      <td>5749.702249</td>\n",
              "      <td>5403.278941</td>\n",
              "      <td>5700.627490</td>\n",
              "      <td>5997.976039</td>\n",
              "      <td>-0.957552</td>\n",
              "      <td>-0.385063</td>\n",
              "      <td>-0.572489</td>\n",
              "      <td>-382.250000</td>\n",
              "      <td>-6.772652</td>\n",
              "      <td>5641.762719</td>\n",
              "      <td>5659.818702</td>\n",
              "      <td>5664.617626</td>\n",
              "      <td>5716.214144</td>\n",
              "      <td>-326.921527</td>\n",
              "    </tr>\n",
              "  </tbody>\n",
              "</table>\n",
              "</div>"
            ],
            "text/plain": [
              "        Date         Open         High          Low        Close    Adj Close  \\\n",
              "0 2011-05-11  5547.200195  5574.700195  5525.000000  5565.049805  5565.049805   \n",
              "1 2011-05-12  5537.799805  5572.500000  5476.299805  5486.149902  5486.149902   \n",
              "\n",
              "   Volume  TREND  WILDERS_RSI        RSI  RSI_FAST_K  RSI_FAST_D    EXP_RSI  \\\n",
              "0       0     -1    41.779763  41.779763       100.0   97.397249  38.024471   \n",
              "1       0     -1    37.089676  37.089676         0.0   64.145615  29.800368   \n",
              "\n",
              "        MACD  MACD_SIGN  MACD_HIST        MA_20        MA_50        MA_65  \\\n",
              "0 -46.927202 -13.601502 -33.325700  5715.605005  5641.161992  5585.595388   \n",
              "1 -54.136399 -21.708481 -32.427918  5700.627490  5644.813994  5586.986155   \n",
              "\n",
              "        MA_200     BB_LOWER    BB_MIDDLE     BB_UPPER       PPO  PPO_SIGN  \\\n",
              "0  5749.517000  5433.175896  5715.605005  5998.034114 -0.828075 -0.241940   \n",
              "1  5749.702249  5403.278941  5700.627490  5997.976039 -0.957552 -0.385063   \n",
              "\n",
              "   PPO_HIST         MOM       ROC       EMA_20       EMA_50       EMA_65  \\\n",
              "0 -0.586134 -309.450195 -4.897766  5658.143016  5666.909600  5670.206615   \n",
              "1 -0.572489 -382.250000 -6.772652  5641.762719  5659.818702  5664.617626   \n",
              "\n",
              "       EMA_200         DPO  \n",
              "0  5718.888241 -261.193080  \n",
              "1  5716.214144 -326.921527  "
            ]
          },
          "metadata": {
            "tags": []
          },
          "execution_count": 43
        }
      ]
    },
    {
      "cell_type": "code",
      "metadata": {
        "id": "7yTbnh2MA7Gx"
      },
      "source": [
        "bond['Date'] = pd.to_datetime(bond['Date'], infer_datetime_format=True)"
      ],
      "execution_count": null,
      "outputs": []
    },
    {
      "cell_type": "code",
      "metadata": {
        "colab": {
          "base_uri": "https://localhost:8080/"
        },
        "id": "9oSJCMB0DCQd",
        "outputId": "c46937c0-71ad-4cae-e191-edaff6281cac"
      },
      "source": [
        "nifty.dtypes"
      ],
      "execution_count": null,
      "outputs": [
        {
          "output_type": "execute_result",
          "data": {
            "text/plain": [
              "Date           datetime64[ns]\n",
              "Open                  float64\n",
              "High                  float64\n",
              "Low                   float64\n",
              "Close                 float64\n",
              "Adj Close             float64\n",
              "Volume                  int64\n",
              "TREND                   int64\n",
              "WILDERS_RSI           float64\n",
              "RSI                   float64\n",
              "RSI_FAST_K            float64\n",
              "RSI_FAST_D            float64\n",
              "EXP_RSI               float64\n",
              "MACD                  float64\n",
              "MACD_SIGN             float64\n",
              "MACD_HIST             float64\n",
              "MA_20                 float64\n",
              "MA_50                 float64\n",
              "MA_65                 float64\n",
              "MA_200                float64\n",
              "BB_LOWER              float64\n",
              "BB_MIDDLE             float64\n",
              "BB_UPPER              float64\n",
              "PPO                   float64\n",
              "PPO_SIGN              float64\n",
              "PPO_HIST              float64\n",
              "MOM                   float64\n",
              "ROC                   float64\n",
              "EMA_20                float64\n",
              "EMA_50                float64\n",
              "EMA_65                float64\n",
              "EMA_200               float64\n",
              "DPO                   float64\n",
              "dtype: object"
            ]
          },
          "metadata": {
            "tags": []
          },
          "execution_count": 45
        }
      ]
    },
    {
      "cell_type": "code",
      "metadata": {
        "id": "qurE4JeJx86J"
      },
      "source": [
        "nifty=nifty.merge(bond,how=\"left\",on=\"Date\")"
      ],
      "execution_count": null,
      "outputs": []
    },
    {
      "cell_type": "code",
      "metadata": {
        "id": "za4KKbNkKYZJ"
      },
      "source": [
        "markets['Date'] = pd.to_datetime(markets['Date'], infer_datetime_format=True)"
      ],
      "execution_count": null,
      "outputs": []
    },
    {
      "cell_type": "code",
      "metadata": {
        "id": "o-pjxBbzqFW4"
      },
      "source": [
        "gold[\"Date\"]=pd.to_datetime(gold[\"Date\"],infer_datetime_format=True)"
      ],
      "execution_count": null,
      "outputs": []
    },
    {
      "cell_type": "code",
      "metadata": {
        "id": "U67-qya7sXVZ"
      },
      "source": [
        "gold[\"gold\"]=gold[\"gold\"].str.replace(\",\",\"\").astype(float)"
      ],
      "execution_count": null,
      "outputs": []
    },
    {
      "cell_type": "code",
      "metadata": {
        "id": "AjFQPeP9HNNa"
      },
      "source": [
        "nifty=nifty.merge(markets,how=\"left\",on=\"Date\")"
      ],
      "execution_count": null,
      "outputs": []
    },
    {
      "cell_type": "code",
      "metadata": {
        "id": "1-0OjVAdp7fH"
      },
      "source": [
        " nifty=nifty.merge(gold,how=\"left\",on=\"Date\")"
      ],
      "execution_count": null,
      "outputs": []
    },
    {
      "cell_type": "code",
      "metadata": {
        "id": "HHDP0YJX28UK"
      },
      "source": [
        "nifty=nifty.merge(exrates,how='left',on=\"Date\")"
      ],
      "execution_count": null,
      "outputs": []
    },
    {
      "cell_type": "code",
      "metadata": {
        "id": "ViM_sP8DHNKk"
      },
      "source": [
        "# nifty.isna().sum()"
      ],
      "execution_count": null,
      "outputs": []
    },
    {
      "cell_type": "code",
      "metadata": {
        "id": "CKMnn0_LHNGM"
      },
      "source": [
        "nifty.fillna(method='bfill', axis=0,inplace=True)"
      ],
      "execution_count": null,
      "outputs": []
    },
    {
      "cell_type": "code",
      "metadata": {
        "id": "BoAUyTEjHNB4"
      },
      "source": [
        "# nifty.isna().sum()"
      ],
      "execution_count": null,
      "outputs": []
    },
    {
      "cell_type": "code",
      "metadata": {
        "id": "_mL-MGeTx86J"
      },
      "source": [
        "# nifty['INDEX'] = 'nifty'"
      ],
      "execution_count": null,
      "outputs": []
    },
    {
      "cell_type": "code",
      "metadata": {
        "id": "duyDaHIHx86J"
      },
      "source": [
        "# df_master = pd.concat([nifty,banknifty,it,pharma ,fin ,auto , metal , energy ,realty,fmcg ,infra ,media ,psubank, pse])\n",
        "# df_master = pd.concat([nifty,banknifty,it])\n",
        "df_master = nifty.copy()\n",
        "# df_master.INDEX.unique()"
      ],
      "execution_count": null,
      "outputs": []
    },
    {
      "cell_type": "code",
      "metadata": {
        "id": "X3Uw0umvx86K"
      },
      "source": [
        "# index = pd.unique(df_master.INDEX)\n",
        "cols_list = list(nifty.columns)\n",
        "date_list = list(pd.unique(nifty.Date))\n",
        "# for i in"
      ],
      "execution_count": null,
      "outputs": []
    },
    {
      "cell_type": "code",
      "metadata": {
        "colab": {
          "base_uri": "https://localhost:8080/"
        },
        "id": "DfK7lmjyx86K",
        "outputId": "cc2f19d2-90ee-4555-9f63-b0ac0b60c2d6"
      },
      "source": [
        "Y = nifty.copy()\n",
        "Y.columns"
      ],
      "execution_count": null,
      "outputs": [
        {
          "output_type": "execute_result",
          "data": {
            "text/plain": [
              "Index(['Date', 'Open', 'High', 'Low', 'Close', 'Adj Close', 'Volume', 'TREND',\n",
              "       'WILDERS_RSI', 'RSI', 'RSI_FAST_K', 'RSI_FAST_D', 'EXP_RSI', 'MACD',\n",
              "       'MACD_SIGN', 'MACD_HIST', 'MA_20', 'MA_50', 'MA_65', 'MA_200',\n",
              "       'BB_LOWER', 'BB_MIDDLE', 'BB_UPPER', 'PPO', 'PPO_SIGN', 'PPO_HIST',\n",
              "       'MOM', 'ROC', 'EMA_20', 'EMA_50', 'EMA_65', 'EMA_200', 'DPO', '1y',\n",
              "       '0.3m', '5y', '10y', 'nasdaq', 'brazil', 'shanghai', 'gold', 'INRcad',\n",
              "       'INRcny', 'INRsgd', 'INRhkd', 'INRaud', 'INRjpy', 'INRusd', 'INReur'],\n",
              "      dtype='object')"
            ]
          },
          "metadata": {
            "tags": []
          },
          "execution_count": 59
        }
      ]
    },
    {
      "cell_type": "code",
      "metadata": {
        "colab": {
          "base_uri": "https://localhost:8080/",
          "height": 111
        },
        "id": "x2iHAwKGx86L",
        "outputId": "a37e2e2e-7727-4200-e9dd-eb12d3a9bf22"
      },
      "source": [
        "Y = Y[['Date', 'Close']]\n",
        "Y.head(2)"
      ],
      "execution_count": null,
      "outputs": [
        {
          "output_type": "execute_result",
          "data": {
            "text/html": [
              "<div>\n",
              "<style scoped>\n",
              "    .dataframe tbody tr th:only-of-type {\n",
              "        vertical-align: middle;\n",
              "    }\n",
              "\n",
              "    .dataframe tbody tr th {\n",
              "        vertical-align: top;\n",
              "    }\n",
              "\n",
              "    .dataframe thead th {\n",
              "        text-align: right;\n",
              "    }\n",
              "</style>\n",
              "<table border=\"1\" class=\"dataframe\">\n",
              "  <thead>\n",
              "    <tr style=\"text-align: right;\">\n",
              "      <th></th>\n",
              "      <th>Date</th>\n",
              "      <th>Close</th>\n",
              "    </tr>\n",
              "  </thead>\n",
              "  <tbody>\n",
              "    <tr>\n",
              "      <th>0</th>\n",
              "      <td>2011-05-11</td>\n",
              "      <td>5565.049805</td>\n",
              "    </tr>\n",
              "    <tr>\n",
              "      <th>1</th>\n",
              "      <td>2011-05-12</td>\n",
              "      <td>5486.149902</td>\n",
              "    </tr>\n",
              "  </tbody>\n",
              "</table>\n",
              "</div>"
            ],
            "text/plain": [
              "        Date        Close\n",
              "0 2011-05-11  5565.049805\n",
              "1 2011-05-12  5486.149902"
            ]
          },
          "metadata": {
            "tags": []
          },
          "execution_count": 60
        }
      ]
    },
    {
      "cell_type": "code",
      "metadata": {
        "scrolled": true,
        "colab": {
          "base_uri": "https://localhost:8080/",
          "height": 182
        },
        "id": "1wGq570xx86L",
        "outputId": "040045a2-1593-4a84-8035-f6909a035c2a"
      },
      "source": [
        "# df_master.dropna(axis = 0, inplace = True)\n",
        "# df_master.isna().sum(), len(df_master.columns)\n",
        "df_master.head(2)"
      ],
      "execution_count": null,
      "outputs": [
        {
          "output_type": "execute_result",
          "data": {
            "text/html": [
              "<div>\n",
              "<style scoped>\n",
              "    .dataframe tbody tr th:only-of-type {\n",
              "        vertical-align: middle;\n",
              "    }\n",
              "\n",
              "    .dataframe tbody tr th {\n",
              "        vertical-align: top;\n",
              "    }\n",
              "\n",
              "    .dataframe thead th {\n",
              "        text-align: right;\n",
              "    }\n",
              "</style>\n",
              "<table border=\"1\" class=\"dataframe\">\n",
              "  <thead>\n",
              "    <tr style=\"text-align: right;\">\n",
              "      <th></th>\n",
              "      <th>Date</th>\n",
              "      <th>Open</th>\n",
              "      <th>High</th>\n",
              "      <th>Low</th>\n",
              "      <th>Close</th>\n",
              "      <th>Adj Close</th>\n",
              "      <th>Volume</th>\n",
              "      <th>TREND</th>\n",
              "      <th>WILDERS_RSI</th>\n",
              "      <th>RSI</th>\n",
              "      <th>RSI_FAST_K</th>\n",
              "      <th>RSI_FAST_D</th>\n",
              "      <th>EXP_RSI</th>\n",
              "      <th>MACD</th>\n",
              "      <th>MACD_SIGN</th>\n",
              "      <th>MACD_HIST</th>\n",
              "      <th>MA_20</th>\n",
              "      <th>MA_50</th>\n",
              "      <th>MA_65</th>\n",
              "      <th>MA_200</th>\n",
              "      <th>BB_LOWER</th>\n",
              "      <th>BB_MIDDLE</th>\n",
              "      <th>BB_UPPER</th>\n",
              "      <th>PPO</th>\n",
              "      <th>PPO_SIGN</th>\n",
              "      <th>PPO_HIST</th>\n",
              "      <th>MOM</th>\n",
              "      <th>ROC</th>\n",
              "      <th>EMA_20</th>\n",
              "      <th>EMA_50</th>\n",
              "      <th>EMA_65</th>\n",
              "      <th>EMA_200</th>\n",
              "      <th>DPO</th>\n",
              "      <th>1y</th>\n",
              "      <th>0.3m</th>\n",
              "      <th>5y</th>\n",
              "      <th>10y</th>\n",
              "      <th>nasdaq</th>\n",
              "      <th>brazil</th>\n",
              "      <th>shanghai</th>\n",
              "      <th>gold</th>\n",
              "      <th>INRcad</th>\n",
              "      <th>INRcny</th>\n",
              "      <th>INRsgd</th>\n",
              "      <th>INRhkd</th>\n",
              "      <th>INRaud</th>\n",
              "      <th>INRjpy</th>\n",
              "      <th>INRusd</th>\n",
              "      <th>INReur</th>\n",
              "    </tr>\n",
              "  </thead>\n",
              "  <tbody>\n",
              "    <tr>\n",
              "      <th>0</th>\n",
              "      <td>2011-05-11</td>\n",
              "      <td>5547.200195</td>\n",
              "      <td>5574.700195</td>\n",
              "      <td>5525.000000</td>\n",
              "      <td>5565.049805</td>\n",
              "      <td>5565.049805</td>\n",
              "      <td>0</td>\n",
              "      <td>-1</td>\n",
              "      <td>41.779763</td>\n",
              "      <td>41.779763</td>\n",
              "      <td>100.0</td>\n",
              "      <td>97.397249</td>\n",
              "      <td>38.024471</td>\n",
              "      <td>-46.927202</td>\n",
              "      <td>-13.601502</td>\n",
              "      <td>-33.325700</td>\n",
              "      <td>5715.605005</td>\n",
              "      <td>5641.161992</td>\n",
              "      <td>5585.595388</td>\n",
              "      <td>5749.517000</td>\n",
              "      <td>5433.175896</td>\n",
              "      <td>5715.605005</td>\n",
              "      <td>5998.034114</td>\n",
              "      <td>-0.828075</td>\n",
              "      <td>-0.241940</td>\n",
              "      <td>-0.586134</td>\n",
              "      <td>-309.450195</td>\n",
              "      <td>-4.897766</td>\n",
              "      <td>5658.143016</td>\n",
              "      <td>5666.909600</td>\n",
              "      <td>5670.206615</td>\n",
              "      <td>5718.888241</td>\n",
              "      <td>-261.193080</td>\n",
              "      <td>8.158</td>\n",
              "      <td>8.05</td>\n",
              "      <td>8.408</td>\n",
              "      <td>8.292</td>\n",
              "      <td>2845.060059</td>\n",
              "      <td>63776.0</td>\n",
              "      <td>2883.419922</td>\n",
              "      <td>1501.1</td>\n",
              "      <td>46.8353</td>\n",
              "      <td>6.8836</td>\n",
              "      <td>36.3234</td>\n",
              "      <td>5.7509</td>\n",
              "      <td>48.4112</td>\n",
              "      <td>0.5509</td>\n",
              "      <td>44.6953</td>\n",
              "      <td>64.169</td>\n",
              "    </tr>\n",
              "    <tr>\n",
              "      <th>1</th>\n",
              "      <td>2011-05-12</td>\n",
              "      <td>5537.799805</td>\n",
              "      <td>5572.500000</td>\n",
              "      <td>5476.299805</td>\n",
              "      <td>5486.149902</td>\n",
              "      <td>5486.149902</td>\n",
              "      <td>0</td>\n",
              "      <td>-1</td>\n",
              "      <td>37.089676</td>\n",
              "      <td>37.089676</td>\n",
              "      <td>0.0</td>\n",
              "      <td>64.145615</td>\n",
              "      <td>29.800368</td>\n",
              "      <td>-54.136399</td>\n",
              "      <td>-21.708481</td>\n",
              "      <td>-32.427918</td>\n",
              "      <td>5700.627490</td>\n",
              "      <td>5644.813994</td>\n",
              "      <td>5586.986155</td>\n",
              "      <td>5749.702249</td>\n",
              "      <td>5403.278941</td>\n",
              "      <td>5700.627490</td>\n",
              "      <td>5997.976039</td>\n",
              "      <td>-0.957552</td>\n",
              "      <td>-0.385063</td>\n",
              "      <td>-0.572489</td>\n",
              "      <td>-382.250000</td>\n",
              "      <td>-6.772652</td>\n",
              "      <td>5641.762719</td>\n",
              "      <td>5659.818702</td>\n",
              "      <td>5664.617626</td>\n",
              "      <td>5716.214144</td>\n",
              "      <td>-326.921527</td>\n",
              "      <td>8.116</td>\n",
              "      <td>8.00</td>\n",
              "      <td>8.367</td>\n",
              "      <td>8.212</td>\n",
              "      <td>2863.040039</td>\n",
              "      <td>64003.0</td>\n",
              "      <td>2844.083008</td>\n",
              "      <td>1506.6</td>\n",
              "      <td>46.5636</td>\n",
              "      <td>6.9239</td>\n",
              "      <td>36.1764</td>\n",
              "      <td>5.7890</td>\n",
              "      <td>47.7721</td>\n",
              "      <td>0.5560</td>\n",
              "      <td>44.9975</td>\n",
              "      <td>63.685</td>\n",
              "    </tr>\n",
              "  </tbody>\n",
              "</table>\n",
              "</div>"
            ],
            "text/plain": [
              "        Date         Open         High          Low        Close    Adj Close  \\\n",
              "0 2011-05-11  5547.200195  5574.700195  5525.000000  5565.049805  5565.049805   \n",
              "1 2011-05-12  5537.799805  5572.500000  5476.299805  5486.149902  5486.149902   \n",
              "\n",
              "   Volume  TREND  WILDERS_RSI        RSI  RSI_FAST_K  RSI_FAST_D    EXP_RSI  \\\n",
              "0       0     -1    41.779763  41.779763       100.0   97.397249  38.024471   \n",
              "1       0     -1    37.089676  37.089676         0.0   64.145615  29.800368   \n",
              "\n",
              "        MACD  MACD_SIGN  MACD_HIST        MA_20        MA_50        MA_65  \\\n",
              "0 -46.927202 -13.601502 -33.325700  5715.605005  5641.161992  5585.595388   \n",
              "1 -54.136399 -21.708481 -32.427918  5700.627490  5644.813994  5586.986155   \n",
              "\n",
              "        MA_200     BB_LOWER    BB_MIDDLE     BB_UPPER       PPO  PPO_SIGN  \\\n",
              "0  5749.517000  5433.175896  5715.605005  5998.034114 -0.828075 -0.241940   \n",
              "1  5749.702249  5403.278941  5700.627490  5997.976039 -0.957552 -0.385063   \n",
              "\n",
              "   PPO_HIST         MOM       ROC       EMA_20       EMA_50       EMA_65  \\\n",
              "0 -0.586134 -309.450195 -4.897766  5658.143016  5666.909600  5670.206615   \n",
              "1 -0.572489 -382.250000 -6.772652  5641.762719  5659.818702  5664.617626   \n",
              "\n",
              "       EMA_200         DPO     1y  0.3m     5y    10y       nasdaq   brazil  \\\n",
              "0  5718.888241 -261.193080  8.158  8.05  8.408  8.292  2845.060059  63776.0   \n",
              "1  5716.214144 -326.921527  8.116  8.00  8.367  8.212  2863.040039  64003.0   \n",
              "\n",
              "      shanghai    gold   INRcad  INRcny   INRsgd  INRhkd   INRaud  INRjpy  \\\n",
              "0  2883.419922  1501.1  46.8353  6.8836  36.3234  5.7509  48.4112  0.5509   \n",
              "1  2844.083008  1506.6  46.5636  6.9239  36.1764  5.7890  47.7721  0.5560   \n",
              "\n",
              "    INRusd  INReur  \n",
              "0  44.6953  64.169  \n",
              "1  44.9975  63.685  "
            ]
          },
          "metadata": {
            "tags": []
          },
          "execution_count": 61
        }
      ]
    },
    {
      "cell_type": "code",
      "metadata": {
        "colab": {
          "base_uri": "https://localhost:8080/"
        },
        "id": "nnRGqBpMsJ_4",
        "outputId": "1d43e43a-a627-442b-dcd5-afca9cdeaec2"
      },
      "source": [
        "index_split = int(0.7 *len(df_master))\n",
        "\n",
        "df_master_train = df_master[:index_split]\n",
        "df_master_test = df_master[index_split:]\n",
        "# df_master[df_master['Date'] > '2017-11-27']\n",
        "len(df_master_train)/ len(df_master), len(df_master_test)/ len(df_master)"
      ],
      "execution_count": null,
      "outputs": [
        {
          "output_type": "execute_result",
          "data": {
            "text/plain": [
              "(0.6999561979851073, 0.30004380201489267)"
            ]
          },
          "metadata": {
            "tags": []
          },
          "execution_count": 62
        }
      ]
    },
    {
      "cell_type": "code",
      "metadata": {
        "id": "yhXJoWLXWwqP"
      },
      "source": [
        "df_master_train.to_excel('train_data.xlsx')"
      ],
      "execution_count": null,
      "outputs": []
    },
    {
      "cell_type": "code",
      "metadata": {
        "id": "3vqq3A-KW2by"
      },
      "source": [
        "df_master_test.to_excel('test.xlsx')"
      ],
      "execution_count": null,
      "outputs": []
    },
    {
      "cell_type": "code",
      "metadata": {
        "id": "6X1mZlW6qXIw",
        "colab": {
          "base_uri": "https://localhost:8080/"
        },
        "outputId": "838e1310-b30c-47d2-b2cd-3e332a5b0118"
      },
      "source": [
        "len(df_master)"
      ],
      "execution_count": null,
      "outputs": [
        {
          "output_type": "execute_result",
          "data": {
            "text/plain": [
              "2283"
            ]
          },
          "metadata": {
            "tags": []
          },
          "execution_count": 65
        }
      ]
    },
    {
      "cell_type": "code",
      "metadata": {
        "id": "0UPGT2l1syPc"
      },
      "source": [
        "# df_master.iloc[int(0.7 *len(df_master))]"
      ],
      "execution_count": null,
      "outputs": []
    },
    {
      "cell_type": "code",
      "metadata": {
        "id": "dFwaCRyCsKdJ",
        "colab": {
          "base_uri": "https://localhost:8080/",
          "height": 182
        },
        "outputId": "0a218c52-1bdd-4c82-9988-51ec024e4af7"
      },
      "source": [
        "df_master.head(2)"
      ],
      "execution_count": null,
      "outputs": [
        {
          "output_type": "execute_result",
          "data": {
            "text/html": [
              "<div>\n",
              "<style scoped>\n",
              "    .dataframe tbody tr th:only-of-type {\n",
              "        vertical-align: middle;\n",
              "    }\n",
              "\n",
              "    .dataframe tbody tr th {\n",
              "        vertical-align: top;\n",
              "    }\n",
              "\n",
              "    .dataframe thead th {\n",
              "        text-align: right;\n",
              "    }\n",
              "</style>\n",
              "<table border=\"1\" class=\"dataframe\">\n",
              "  <thead>\n",
              "    <tr style=\"text-align: right;\">\n",
              "      <th></th>\n",
              "      <th>Date</th>\n",
              "      <th>Open</th>\n",
              "      <th>High</th>\n",
              "      <th>Low</th>\n",
              "      <th>Close</th>\n",
              "      <th>Adj Close</th>\n",
              "      <th>Volume</th>\n",
              "      <th>TREND</th>\n",
              "      <th>WILDERS_RSI</th>\n",
              "      <th>RSI</th>\n",
              "      <th>RSI_FAST_K</th>\n",
              "      <th>RSI_FAST_D</th>\n",
              "      <th>EXP_RSI</th>\n",
              "      <th>MACD</th>\n",
              "      <th>MACD_SIGN</th>\n",
              "      <th>MACD_HIST</th>\n",
              "      <th>MA_20</th>\n",
              "      <th>MA_50</th>\n",
              "      <th>MA_65</th>\n",
              "      <th>MA_200</th>\n",
              "      <th>BB_LOWER</th>\n",
              "      <th>BB_MIDDLE</th>\n",
              "      <th>BB_UPPER</th>\n",
              "      <th>PPO</th>\n",
              "      <th>PPO_SIGN</th>\n",
              "      <th>PPO_HIST</th>\n",
              "      <th>MOM</th>\n",
              "      <th>ROC</th>\n",
              "      <th>EMA_20</th>\n",
              "      <th>EMA_50</th>\n",
              "      <th>EMA_65</th>\n",
              "      <th>EMA_200</th>\n",
              "      <th>DPO</th>\n",
              "      <th>1y</th>\n",
              "      <th>0.3m</th>\n",
              "      <th>5y</th>\n",
              "      <th>10y</th>\n",
              "      <th>nasdaq</th>\n",
              "      <th>brazil</th>\n",
              "      <th>shanghai</th>\n",
              "      <th>gold</th>\n",
              "      <th>INRcad</th>\n",
              "      <th>INRcny</th>\n",
              "      <th>INRsgd</th>\n",
              "      <th>INRhkd</th>\n",
              "      <th>INRaud</th>\n",
              "      <th>INRjpy</th>\n",
              "      <th>INRusd</th>\n",
              "      <th>INReur</th>\n",
              "    </tr>\n",
              "  </thead>\n",
              "  <tbody>\n",
              "    <tr>\n",
              "      <th>0</th>\n",
              "      <td>2011-05-11</td>\n",
              "      <td>5547.200195</td>\n",
              "      <td>5574.700195</td>\n",
              "      <td>5525.000000</td>\n",
              "      <td>5565.049805</td>\n",
              "      <td>5565.049805</td>\n",
              "      <td>0</td>\n",
              "      <td>-1</td>\n",
              "      <td>41.779763</td>\n",
              "      <td>41.779763</td>\n",
              "      <td>100.0</td>\n",
              "      <td>97.397249</td>\n",
              "      <td>38.024471</td>\n",
              "      <td>-46.927202</td>\n",
              "      <td>-13.601502</td>\n",
              "      <td>-33.325700</td>\n",
              "      <td>5715.605005</td>\n",
              "      <td>5641.161992</td>\n",
              "      <td>5585.595388</td>\n",
              "      <td>5749.517000</td>\n",
              "      <td>5433.175896</td>\n",
              "      <td>5715.605005</td>\n",
              "      <td>5998.034114</td>\n",
              "      <td>-0.828075</td>\n",
              "      <td>-0.241940</td>\n",
              "      <td>-0.586134</td>\n",
              "      <td>-309.450195</td>\n",
              "      <td>-4.897766</td>\n",
              "      <td>5658.143016</td>\n",
              "      <td>5666.909600</td>\n",
              "      <td>5670.206615</td>\n",
              "      <td>5718.888241</td>\n",
              "      <td>-261.193080</td>\n",
              "      <td>8.158</td>\n",
              "      <td>8.05</td>\n",
              "      <td>8.408</td>\n",
              "      <td>8.292</td>\n",
              "      <td>2845.060059</td>\n",
              "      <td>63776.0</td>\n",
              "      <td>2883.419922</td>\n",
              "      <td>1501.1</td>\n",
              "      <td>46.8353</td>\n",
              "      <td>6.8836</td>\n",
              "      <td>36.3234</td>\n",
              "      <td>5.7509</td>\n",
              "      <td>48.4112</td>\n",
              "      <td>0.5509</td>\n",
              "      <td>44.6953</td>\n",
              "      <td>64.169</td>\n",
              "    </tr>\n",
              "    <tr>\n",
              "      <th>1</th>\n",
              "      <td>2011-05-12</td>\n",
              "      <td>5537.799805</td>\n",
              "      <td>5572.500000</td>\n",
              "      <td>5476.299805</td>\n",
              "      <td>5486.149902</td>\n",
              "      <td>5486.149902</td>\n",
              "      <td>0</td>\n",
              "      <td>-1</td>\n",
              "      <td>37.089676</td>\n",
              "      <td>37.089676</td>\n",
              "      <td>0.0</td>\n",
              "      <td>64.145615</td>\n",
              "      <td>29.800368</td>\n",
              "      <td>-54.136399</td>\n",
              "      <td>-21.708481</td>\n",
              "      <td>-32.427918</td>\n",
              "      <td>5700.627490</td>\n",
              "      <td>5644.813994</td>\n",
              "      <td>5586.986155</td>\n",
              "      <td>5749.702249</td>\n",
              "      <td>5403.278941</td>\n",
              "      <td>5700.627490</td>\n",
              "      <td>5997.976039</td>\n",
              "      <td>-0.957552</td>\n",
              "      <td>-0.385063</td>\n",
              "      <td>-0.572489</td>\n",
              "      <td>-382.250000</td>\n",
              "      <td>-6.772652</td>\n",
              "      <td>5641.762719</td>\n",
              "      <td>5659.818702</td>\n",
              "      <td>5664.617626</td>\n",
              "      <td>5716.214144</td>\n",
              "      <td>-326.921527</td>\n",
              "      <td>8.116</td>\n",
              "      <td>8.00</td>\n",
              "      <td>8.367</td>\n",
              "      <td>8.212</td>\n",
              "      <td>2863.040039</td>\n",
              "      <td>64003.0</td>\n",
              "      <td>2844.083008</td>\n",
              "      <td>1506.6</td>\n",
              "      <td>46.5636</td>\n",
              "      <td>6.9239</td>\n",
              "      <td>36.1764</td>\n",
              "      <td>5.7890</td>\n",
              "      <td>47.7721</td>\n",
              "      <td>0.5560</td>\n",
              "      <td>44.9975</td>\n",
              "      <td>63.685</td>\n",
              "    </tr>\n",
              "  </tbody>\n",
              "</table>\n",
              "</div>"
            ],
            "text/plain": [
              "        Date         Open         High          Low        Close    Adj Close  \\\n",
              "0 2011-05-11  5547.200195  5574.700195  5525.000000  5565.049805  5565.049805   \n",
              "1 2011-05-12  5537.799805  5572.500000  5476.299805  5486.149902  5486.149902   \n",
              "\n",
              "   Volume  TREND  WILDERS_RSI        RSI  RSI_FAST_K  RSI_FAST_D    EXP_RSI  \\\n",
              "0       0     -1    41.779763  41.779763       100.0   97.397249  38.024471   \n",
              "1       0     -1    37.089676  37.089676         0.0   64.145615  29.800368   \n",
              "\n",
              "        MACD  MACD_SIGN  MACD_HIST        MA_20        MA_50        MA_65  \\\n",
              "0 -46.927202 -13.601502 -33.325700  5715.605005  5641.161992  5585.595388   \n",
              "1 -54.136399 -21.708481 -32.427918  5700.627490  5644.813994  5586.986155   \n",
              "\n",
              "        MA_200     BB_LOWER    BB_MIDDLE     BB_UPPER       PPO  PPO_SIGN  \\\n",
              "0  5749.517000  5433.175896  5715.605005  5998.034114 -0.828075 -0.241940   \n",
              "1  5749.702249  5403.278941  5700.627490  5997.976039 -0.957552 -0.385063   \n",
              "\n",
              "   PPO_HIST         MOM       ROC       EMA_20       EMA_50       EMA_65  \\\n",
              "0 -0.586134 -309.450195 -4.897766  5658.143016  5666.909600  5670.206615   \n",
              "1 -0.572489 -382.250000 -6.772652  5641.762719  5659.818702  5664.617626   \n",
              "\n",
              "       EMA_200         DPO     1y  0.3m     5y    10y       nasdaq   brazil  \\\n",
              "0  5718.888241 -261.193080  8.158  8.05  8.408  8.292  2845.060059  63776.0   \n",
              "1  5716.214144 -326.921527  8.116  8.00  8.367  8.212  2863.040039  64003.0   \n",
              "\n",
              "      shanghai    gold   INRcad  INRcny   INRsgd  INRhkd   INRaud  INRjpy  \\\n",
              "0  2883.419922  1501.1  46.8353  6.8836  36.3234  5.7509  48.4112  0.5509   \n",
              "1  2844.083008  1506.6  46.5636  6.9239  36.1764  5.7890  47.7721  0.5560   \n",
              "\n",
              "    INRusd  INReur  \n",
              "0  44.6953  64.169  \n",
              "1  44.9975  63.685  "
            ]
          },
          "metadata": {
            "tags": []
          },
          "execution_count": 67
        }
      ]
    },
    {
      "cell_type": "code",
      "metadata": {
        "id": "NvdSaaVdVy9e"
      },
      "source": [],
      "execution_count": null,
      "outputs": []
    },
    {
      "cell_type": "code",
      "metadata": {
        "colab": {
          "base_uri": "https://localhost:8080/"
        },
        "id": "XhkRCgVGx86L",
        "outputId": "9a75d60b-fd90-4bfa-8b91-464e3839d04e"
      },
      "source": [
        "X_data_array_train = []\n",
        "Date_list_train = []\n",
        "columns_to_drop = ['Date']\n",
        "for i in df_master_train.groupby(by=['Date']):\n",
        "    Date_list_train.append(i[0])\n",
        "    temp_data_train = i[1].drop(columns = columns_to_drop)\n",
        "    X_data_array_train.append(np.array(temp_data_train.values))\n",
        "X_data_array_train = np.array(X_data_array_train)\n",
        "\n",
        "X_data_array_train.shape, len(Date_list_train)"
      ],
      "execution_count": null,
      "outputs": [
        {
          "output_type": "execute_result",
          "data": {
            "text/plain": [
              "((1598, 1, 48), 1598)"
            ]
          },
          "metadata": {
            "tags": []
          },
          "execution_count": 68
        }
      ]
    },
    {
      "cell_type": "code",
      "metadata": {
        "colab": {
          "base_uri": "https://localhost:8080/"
        },
        "id": "8XbrAEEXuESd",
        "outputId": "c3d59f88-2b4e-4b8a-dc76-da0b652052b3"
      },
      "source": [
        "X_data_array_test = []\n",
        "Date_list_test = []\n",
        "columns_to_drop = ['Date']\n",
        "for i in df_master_test.groupby(by=['Date']):\n",
        "    Date_list_test.append(i[0])\n",
        "    temp_data_test = i[1].drop(columns = columns_to_drop)\n",
        "    X_data_array_test.append(np.array(temp_data_test.values))\n",
        "X_data_array_test = np.array(X_data_array_test)\n",
        "\n",
        "X_data_array_test.shape, len(Date_list_test)"
      ],
      "execution_count": null,
      "outputs": [
        {
          "output_type": "execute_result",
          "data": {
            "text/plain": [
              "((685, 1, 48), 685)"
            ]
          },
          "metadata": {
            "tags": []
          },
          "execution_count": 69
        }
      ]
    },
    {
      "cell_type": "code",
      "metadata": {
        "colab": {
          "base_uri": "https://localhost:8080/"
        },
        "id": "GCT5reyvp0VW",
        "outputId": "a33ff044-713e-4570-b992-c4abf31b103a"
      },
      "source": [
        "1598 + 685"
      ],
      "execution_count": null,
      "outputs": [
        {
          "output_type": "execute_result",
          "data": {
            "text/plain": [
              "2283"
            ]
          },
          "metadata": {
            "tags": []
          },
          "execution_count": 70
        }
      ]
    },
    {
      "cell_type": "code",
      "metadata": {
        "id": "nOe41YJKx86M"
      },
      "source": [
        "# X_data_array = X_data_array.reshape((X_data_array.shape[0]), X_data_array.shape[2])\n",
        "\n",
        "X_data_array_train = X_data_array_train.reshape((X_data_array_train.shape[0]), X_data_array_train.shape[2])\n",
        "X_data_array_test = X_data_array_test.reshape((X_data_array_test.shape[0]), X_data_array_test.shape[2])"
      ],
      "execution_count": null,
      "outputs": []
    },
    {
      "cell_type": "code",
      "metadata": {
        "id": "ouT64coSx86M"
      },
      "source": [
        "# [i[0] for i in temp_data.values]"
      ],
      "execution_count": null,
      "outputs": []
    },
    {
      "cell_type": "code",
      "metadata": {
        "id": "lEP7SowFx86N"
      },
      "source": [
        "# X_data_array"
      ],
      "execution_count": null,
      "outputs": []
    },
    {
      "cell_type": "code",
      "metadata": {
        "id": "vBiq3qlvx86N"
      },
      "source": [
        "X_final_train = []\n",
        "Y_final_train = []\n",
        "for i in range(len(Date_list_train)-20):\n",
        "    temp_X_train = X_data_array_train[i:i+20,:]\n",
        "#     print(temp_X.shape)\n",
        "    X_final_train.append(temp_X_train)\n",
        "    temp_y_train = X_data_array_train[i+20,4]\n",
        "    Y_final_train.append(temp_y_train)\n",
        "X_final_train = np.array(X_final_train)\n",
        "Y_final_train = np.array(Y_final_train)"
      ],
      "execution_count": null,
      "outputs": []
    },
    {
      "cell_type": "code",
      "metadata": {
        "id": "pc_aG1Pw3wHO"
      },
      "source": [
        "X_final_test = []\n",
        "Y_final_test = []\n",
        "for i in range(len(Date_list_test)-20):\n",
        "    temp_X_test = X_data_array_test[i:i+20,:]\n",
        "#     print(temp_X.shape)\n",
        "    X_final_test.append(temp_X_test)\n",
        "    temp_y_test = X_data_array_test[i+20,4]\n",
        "    Y_final_test.append(temp_y_test)\n",
        "X_final_test = np.array(X_final_test)\n",
        "Y_final_test = np.array(Y_final_test)"
      ],
      "execution_count": null,
      "outputs": []
    },
    {
      "cell_type": "code",
      "metadata": {
        "id": "VCWPjsdCx86N"
      },
      "source": [
        "# X_final = np.transpose(X_final, (0, 2, 1))"
      ],
      "execution_count": null,
      "outputs": []
    },
    {
      "cell_type": "code",
      "metadata": {
        "id": "jyw9zNhriQlw"
      },
      "source": [
        "# Y_final_test"
      ],
      "execution_count": null,
      "outputs": []
    },
    {
      "cell_type": "code",
      "metadata": {
        "scrolled": true,
        "colab": {
          "base_uri": "https://localhost:8080/"
        },
        "id": "7Fk3hLLEx86O",
        "outputId": "c9557865-d90d-45f3-dfeb-27145947a940"
      },
      "source": [
        "X_final_train.shape, Y_final_train.shape"
      ],
      "execution_count": null,
      "outputs": [
        {
          "output_type": "execute_result",
          "data": {
            "text/plain": [
              "((1578, 20, 48), (1578,))"
            ]
          },
          "metadata": {
            "tags": []
          },
          "execution_count": 78
        }
      ]
    },
    {
      "cell_type": "code",
      "metadata": {
        "colab": {
          "base_uri": "https://localhost:8080/"
        },
        "id": "J9H7qOhe4mq1",
        "outputId": "d47980f2-bbd7-4c13-cc41-500b02f6ca24"
      },
      "source": [
        "X_final_test.shape, Y_final_test.shape"
      ],
      "execution_count": null,
      "outputs": [
        {
          "output_type": "execute_result",
          "data": {
            "text/plain": [
              "((665, 20, 48), (665,))"
            ]
          },
          "metadata": {
            "tags": []
          },
          "execution_count": 79
        }
      ]
    },
    {
      "cell_type": "code",
      "metadata": {
        "colab": {
          "base_uri": "https://localhost:8080/"
        },
        "id": "GRbztjNXx86O",
        "outputId": "1cdbdd77-71b4-491a-ad38-d468508c07b9"
      },
      "source": [
        "Y_final_train = Y_final_train.reshape((Y_final_train.shape[0]), 1, 1)\n",
        "X_final_train = X_final_train.reshape((X_final_train.shape[0]), X_final_train.shape[1],X_final_train.shape[2], 1)\n",
        "\n",
        "Y_final_train = Y_final_train.reshape((Y_final_train.shape[0]), 1, 1)\n",
        "X_final_train = X_final_train.reshape((X_final_train.shape[0]), X_final_train.shape[1],X_final_train.shape[2], 1)\n",
        "\n",
        "\n",
        "X_final_train.shape, Y_final_train.shape"
      ],
      "execution_count": null,
      "outputs": [
        {
          "output_type": "execute_result",
          "data": {
            "text/plain": [
              "((1578, 20, 48, 1), (1578, 1, 1))"
            ]
          },
          "metadata": {
            "tags": []
          },
          "execution_count": 80
        }
      ]
    },
    {
      "cell_type": "code",
      "metadata": {
        "colab": {
          "base_uri": "https://localhost:8080/"
        },
        "id": "n3Csj5im9aGP",
        "outputId": "7876536a-3842-4eb8-8dc1-087facc85028"
      },
      "source": [
        "Y_final_test = Y_final_test.reshape((Y_final_test.shape[0]), 1, 1)\n",
        "X_final_test = X_final_test.reshape((X_final_test.shape[0]), X_final_test.shape[1],X_final_test.shape[2], 1)\n",
        "\n",
        "Y_final_test = Y_final_test.reshape((Y_final_test.shape[0]), 1, 1)\n",
        "X_final_test = X_final_test.reshape((X_final_test.shape[0]), X_final_test.shape[1],X_final_test.shape[2], 1)\n",
        "\n",
        "\n",
        "X_final_test.shape, Y_final_test.shape"
      ],
      "execution_count": null,
      "outputs": [
        {
          "output_type": "execute_result",
          "data": {
            "text/plain": [
              "((665, 20, 48, 1), (665, 1, 1))"
            ]
          },
          "metadata": {
            "tags": []
          },
          "execution_count": 81
        }
      ]
    },
    {
      "cell_type": "code",
      "metadata": {
        "colab": {
          "base_uri": "https://localhost:8080/"
        },
        "id": "tONFPOFYx86P",
        "outputId": "07c9a08c-b3bb-488c-e4f9-6a0127860edc"
      },
      "source": [
        "Y_final_train"
      ],
      "execution_count": null,
      "outputs": [
        {
          "output_type": "execute_result",
          "data": {
            "text/plain": [
              "array([[[ 5521.049805]],\n",
              "\n",
              "       [[ 5485.799805]],\n",
              "\n",
              "       [[ 5482.799805]],\n",
              "\n",
              "       ...,\n",
              "\n",
              "       [[10342.29981 ]],\n",
              "\n",
              "       [[10348.75    ]],\n",
              "\n",
              "       [[10389.7002  ]]])"
            ]
          },
          "metadata": {
            "tags": []
          },
          "execution_count": 82
        }
      ]
    },
    {
      "cell_type": "code",
      "metadata": {
        "id": "NntldpJDx86P"
      },
      "source": [
        "# X_final_train"
      ],
      "execution_count": null,
      "outputs": []
    },
    {
      "cell_type": "code",
      "metadata": {
        "ExecuteTime": {
          "end_time": "2021-02-08T09:51:26.433631Z",
          "start_time": "2021-02-08T09:51:26.427648Z"
        },
        "id": "u-rix6acx86P"
      },
      "source": [
        "from tensorflow.keras import layers\n",
        "from tensorflow.keras import regularizers\n",
        "\n",
        "from keras.layers import LSTM, Embedding, ConvLSTM2D\n",
        "from keras.layers import Bidirectional, GlobalMaxPool1D"
      ],
      "execution_count": null,
      "outputs": []
    },
    {
      "cell_type": "code",
      "metadata": {
        "colab": {
          "base_uri": "https://localhost:8080/"
        },
        "id": "RgQAPtrdx86Q",
        "outputId": "9a0567ba-2f05-4078-f8ff-02c6ea3d5f5e"
      },
      "source": [
        "X_final_train.shape"
      ],
      "execution_count": null,
      "outputs": [
        {
          "output_type": "execute_result",
          "data": {
            "text/plain": [
              "(1578, 20, 48, 1)"
            ]
          },
          "metadata": {
            "tags": []
          },
          "execution_count": 85
        }
      ]
    },
    {
      "cell_type": "markdown",
      "metadata": {
        "id": "jcBGZW84x86Q"
      },
      "source": [
        "# Model Architecture"
      ]
    },
    {
      "cell_type": "code",
      "metadata": {
        "ExecuteTime": {
          "end_time": "2021-02-08T09:51:25.150226Z",
          "start_time": "2021-02-08T09:51:25.143244Z"
        },
        "colab": {
          "base_uri": "https://localhost:8080/"
        },
        "id": "pknio5dVx86Q",
        "outputId": "c35d2d77-812d-422c-d25f-d453cbfb6818"
      },
      "source": [
        "input_shape = (X_final_train.shape[1],X_final_train.shape[2], X_final_train.shape[3])\n",
        "input_shape"
      ],
      "execution_count": null,
      "outputs": [
        {
          "output_type": "execute_result",
          "data": {
            "text/plain": [
              "(20, 48, 1)"
            ]
          },
          "metadata": {
            "tags": []
          },
          "execution_count": 86
        }
      ]
    },
    {
      "cell_type": "code",
      "metadata": {
        "ExecuteTime": {
          "end_time": "2021-02-08T09:51:26.433631Z",
          "start_time": "2021-02-08T09:51:26.427648Z"
        },
        "id": "PQltScj0x86Q"
      },
      "source": [
        "from tensorflow.keras import layers\n",
        "from tensorflow.keras import regularizers"
      ],
      "execution_count": null,
      "outputs": []
    },
    {
      "cell_type": "code",
      "metadata": {
        "id": "qFi3mxMYry4H"
      },
      "source": [
        "# X_final = np.asarray(X_final).astype('float32')"
      ],
      "execution_count": null,
      "outputs": []
    },
    {
      "cell_type": "code",
      "metadata": {
        "ExecuteTime": {
          "end_time": "2021-02-08T10:27:46.211789Z",
          "start_time": "2021-02-08T10:27:44.799186Z"
        },
        "colab": {
          "base_uri": "https://localhost:8080/"
        },
        "id": "9_447iUsx86R",
        "outputId": "6dcd5183-4630-45f2-b157-175a5eeefc45"
      },
      "source": [
        "# input layers for seq_1 and seq_2\n",
        "input_seq_1 = Input(shape= input_shape)\n",
        "\n",
        "conv_3_6 = Conv2D(1,kernel_size=(1,48), strides= 1, padding='valid', activation='relu', name =\"3_6_convolution\", kernel_initializer='glorot_uniform')\n",
        "x1 = conv_3_6(input_seq_1)\n",
        "\n",
        "x1.shape\n",
        "\n",
        "# conv_4_6 = Conv2D(1,(1,1), strides= 1, padding='valid', activation='relu', name =\"4_6_convolution\")\n",
        "# x1 = conv_4_6(x1)\n",
        "\n",
        "# conv_5_6 = Conv2D(1, (1,1), strides= 1, padding='valid', activation='relu', name =\"5_6_convolution\")\n",
        "# x1 = conv_5_6(x1)\n",
        "\n",
        "# conv_5_6 = Conv2D(1, (1,1), strides= 1, padding='valid', activation='relu', name =\"6_6_convolution\")\n",
        "# x1 = conv_5_6(x1)\n",
        "\n",
        "# x1 = TimeDistributed(Dense(1, name = \"Dense_1_2\", activation = \"relu\"))(x1)\n",
        "# x1 = Dropout(0.1)(x1)\n",
        "# xdense1 = TimeDistributed(Dense(256, name = \"Dense_1_3\", activation = \"relu\"))(xdense1)\n",
        "# xdense1= Dropout(0.1)(xdense1)\n",
        "\n",
        "\n",
        "\n"
      ],
      "execution_count": null,
      "outputs": [
        {
          "output_type": "execute_result",
          "data": {
            "text/plain": [
              "TensorShape([None, 20, 1, 1])"
            ]
          },
          "metadata": {
            "tags": []
          },
          "execution_count": 89
        }
      ]
    },
    {
      "cell_type": "code",
      "metadata": {
        "id": "eiuWDzxZLX_z",
        "colab": {
          "base_uri": "https://localhost:8080/"
        },
        "outputId": "008d21ba-188a-4039-aaf0-18867ede6046"
      },
      "source": [
        "\n",
        "reshape_1 = tf.keras.layers.Reshape((1, 20),input_shape=(20,1,1))\n",
        "# x1 = Flatten(name = \"x1_2_2\")(x1)\n",
        "x1 = reshape_1(x1)\n",
        "\n",
        "lstm_1_1 = Bidirectional(LSTM(units=256, return_sequences=True, activation='relu',\n",
        "                              kernel_regularizer=regularizers.l2(1e-2), name =\"1_1_LSTM\"))\n",
        "x1 = lstm_1_1(x1)\n",
        "\n",
        "lstm_1_2 = Bidirectional(LSTM(units=64, return_sequences=True, activation='relu',\n",
        "                              kernel_regularizer=regularizers.l2(1e-2), name =\"1_2_LSTM\"))\n",
        "x1 = lstm_1_2(x1)\n",
        "\n",
        "lstm_1_3 = Bidirectional(LSTM(units=32, return_sequences=True, activation='relu',\n",
        "                              kernel_regularizer=regularizers.l2(1e-2), name =\"1_3_LSTM\"))\n",
        "x1 = lstm_1_3(x1)\n",
        "\n",
        "\n",
        "\n",
        "# lstm1_2 = ConvLSTM2D(64, return_sequences=True, kernel_size=(2,1))\n",
        "# lstm2_2 = ConvLSTM2D(32, return_sequences=True, kernel_size=(1,1))\n",
        "# # lstm3 = LSTM(16, return_sequences=True, input_shape=(97, 32))\n",
        "# # lstm4 = LSTM(8, return_sequences=True, input_shape=(97, 16))\n",
        "# # lstm5 = LSTM(4, return_sequences=True, input_shape=(80, 8))\n",
        "\n",
        "# x1 = lstm1_2(x1)\n",
        "# x1 = lstm2_2(x1)\n",
        "# # x1_2_2 = Flatten(name = \"x1_2_2\")(x1_2_2)\n",
        "\n",
        "# xdense1 = TimeDistributed(Dense(1024, name = \"Dense_1_1\", activation = \"relu\"))(x1)\n",
        "xdense1 = TimeDistributed(Dense(512, name = \"Dense_1_2\", activation = \"relu\"))(x1)\n",
        "xdense1 = Dropout(0.1)(xdense1)\n",
        "xdense1 = TimeDistributed(Dense(256, name = \"Dense_1_3\", activation = \"relu\"))(xdense1)\n",
        "xdense1= Dropout(0.1)(xdense1)\n",
        "xdense1 = TimeDistributed(Dense(128, name = \"Dense_1_4\", activation = \"relu\"))(xdense1)\n",
        "# xdense1= Dropout(0.1)(xdense1)\n",
        "xdense1 = TimeDistributed(Dense(64, name = \"Dense_1_5\", activation = \"relu\"))(xdense1)\n",
        "xdense1 = TimeDistributed(Dense(32, name = \"Dense_1_6\", activation= \"relu\"))(xdense1)\n",
        "# xdense1 = Dropout(0.1)(xdense1)\n",
        "xdense1 = TimeDistributed(Dense(16, name = \"Dense_1_7\", activation = \"relu\"))(xdense1)\n",
        "# output_yfuture = TimeDistributed(Dense(1, name = \"Dense_1_7\", activation = \"relu\"))(xdense1)\n",
        "output_yfuture = Dense(1, name = \"Dense_final\")(xdense1)"
      ],
      "execution_count": null,
      "outputs": [
        {
          "output_type": "stream",
          "text": [
            "WARNING:tensorflow:Layer 1_1_LSTM will not use cuDNN kernels since it doesn't meet the criteria. It will use a generic GPU kernel as fallback when running on GPU.\n",
            "WARNING:tensorflow:Layer 1_1_LSTM will not use cuDNN kernels since it doesn't meet the criteria. It will use a generic GPU kernel as fallback when running on GPU.\n",
            "WARNING:tensorflow:Layer 1_1_LSTM will not use cuDNN kernels since it doesn't meet the criteria. It will use a generic GPU kernel as fallback when running on GPU.\n",
            "WARNING:tensorflow:Layer 1_2_LSTM will not use cuDNN kernels since it doesn't meet the criteria. It will use a generic GPU kernel as fallback when running on GPU.\n",
            "WARNING:tensorflow:Layer 1_2_LSTM will not use cuDNN kernels since it doesn't meet the criteria. It will use a generic GPU kernel as fallback when running on GPU.\n",
            "WARNING:tensorflow:Layer 1_2_LSTM will not use cuDNN kernels since it doesn't meet the criteria. It will use a generic GPU kernel as fallback when running on GPU.\n",
            "WARNING:tensorflow:Layer 1_3_LSTM will not use cuDNN kernels since it doesn't meet the criteria. It will use a generic GPU kernel as fallback when running on GPU.\n",
            "WARNING:tensorflow:Layer 1_3_LSTM will not use cuDNN kernels since it doesn't meet the criteria. It will use a generic GPU kernel as fallback when running on GPU.\n",
            "WARNING:tensorflow:Layer 1_3_LSTM will not use cuDNN kernels since it doesn't meet the criteria. It will use a generic GPU kernel as fallback when running on GPU.\n"
          ],
          "name": "stdout"
        }
      ]
    },
    {
      "cell_type": "code",
      "metadata": {
        "id": "H7aJaXjILX65",
        "colab": {
          "base_uri": "https://localhost:8080/"
        },
        "outputId": "b225f251-96cd-485f-98c1-3a157431e3b2"
      },
      "source": [
        "\n",
        "model = Model(inputs=input_seq_1, outputs = output_yfuture)\n",
        "\n",
        "opti = keras.optimizers.Adam(lr = 0.005)\n",
        "model.compile(optimizer = opti, loss = [\"mae\"], metrics = [\"mae\", \"mse\"])"
      ],
      "execution_count": null,
      "outputs": [
        {
          "output_type": "stream",
          "text": [
            "/usr/local/lib/python3.7/dist-packages/tensorflow/python/keras/optimizer_v2/optimizer_v2.py:375: UserWarning: The `lr` argument is deprecated, use `learning_rate` instead.\n",
            "  \"The `lr` argument is deprecated, use `learning_rate` instead.\")\n"
          ],
          "name": "stderr"
        }
      ]
    },
    {
      "cell_type": "code",
      "metadata": {
        "ExecuteTime": {
          "end_time": "2021-02-08T10:27:46.269600Z",
          "start_time": "2021-02-08T10:27:46.213748Z"
        },
        "colab": {
          "base_uri": "https://localhost:8080/"
        },
        "id": "nzNhvRosx86R",
        "outputId": "08b96638-ddaa-4c87-9b83-630820cbf569"
      },
      "source": [
        "model.summary()"
      ],
      "execution_count": null,
      "outputs": [
        {
          "output_type": "stream",
          "text": [
            "Model: \"model\"\n",
            "__________________________________________________________________________________________________\n",
            "Layer (type)                    Output Shape         Param #     Connected to                     \n",
            "==================================================================================================\n",
            "input_1 (InputLayer)            [(None, 20, 48, 1)]  0                                            \n",
            "__________________________________________________________________________________________________\n",
            "3_6_convolution (Conv2D)        (None, 20, 1, 1)     49          input_1[0][0]                    \n",
            "__________________________________________________________________________________________________\n",
            "tf.compat.v1.shape (TFOpLambda) (4,)                 0           3_6_convolution[0][0]            \n",
            "__________________________________________________________________________________________________\n",
            "tf.__operators__.getitem (Slici ()                   0           tf.compat.v1.shape[0][0]         \n",
            "__________________________________________________________________________________________________\n",
            "tf.reshape (TFOpLambda)         (None, 1, 20)        0           3_6_convolution[0][0]            \n",
            "                                                                 tf.__operators__.getitem[0][0]   \n",
            "__________________________________________________________________________________________________\n",
            "bidirectional (Bidirectional)   (None, 1, 512)       567296      tf.reshape[0][0]                 \n",
            "__________________________________________________________________________________________________\n",
            "bidirectional_1 (Bidirectional) (None, 1, 128)       295424      bidirectional[0][0]              \n",
            "__________________________________________________________________________________________________\n",
            "bidirectional_2 (Bidirectional) (None, 1, 64)        41216       bidirectional_1[0][0]            \n",
            "__________________________________________________________________________________________________\n",
            "time_distributed (TimeDistribut (None, 1, 512)       33280       bidirectional_2[0][0]            \n",
            "__________________________________________________________________________________________________\n",
            "dropout (Dropout)               (None, 1, 512)       0           time_distributed[0][0]           \n",
            "__________________________________________________________________________________________________\n",
            "time_distributed_1 (TimeDistrib (None, 1, 256)       131328      dropout[0][0]                    \n",
            "__________________________________________________________________________________________________\n",
            "dropout_1 (Dropout)             (None, 1, 256)       0           time_distributed_1[0][0]         \n",
            "__________________________________________________________________________________________________\n",
            "time_distributed_2 (TimeDistrib (None, 1, 128)       32896       dropout_1[0][0]                  \n",
            "__________________________________________________________________________________________________\n",
            "time_distributed_3 (TimeDistrib (None, 1, 64)        8256        time_distributed_2[0][0]         \n",
            "__________________________________________________________________________________________________\n",
            "time_distributed_4 (TimeDistrib (None, 1, 32)        2080        time_distributed_3[0][0]         \n",
            "__________________________________________________________________________________________________\n",
            "time_distributed_5 (TimeDistrib (None, 1, 16)        528         time_distributed_4[0][0]         \n",
            "__________________________________________________________________________________________________\n",
            "Dense_final (Dense)             (None, 1, 1)         17          time_distributed_5[0][0]         \n",
            "==================================================================================================\n",
            "Total params: 1,112,370\n",
            "Trainable params: 1,112,370\n",
            "Non-trainable params: 0\n",
            "__________________________________________________________________________________________________\n"
          ],
          "name": "stdout"
        }
      ]
    },
    {
      "cell_type": "code",
      "metadata": {
        "id": "w8ZasWH0x86S"
      },
      "source": [],
      "execution_count": null,
      "outputs": []
    },
    {
      "cell_type": "markdown",
      "metadata": {
        "id": "QSF5XVxvx86S"
      },
      "source": [
        "\n",
        "\n",
        "# Model Training"
      ]
    },
    {
      "cell_type": "code",
      "metadata": {
        "ExecuteTime": {
          "end_time": "2020-07-28T14:21:37.198680Z",
          "start_time": "2020-07-28T14:21:37.193665Z"
        },
        "id": "oJU0lugxx86S"
      },
      "source": [
        "checkpointer = [EarlyStopping(monitor='val_loss', patience=80)]\n",
        "batches = 512\n",
        "epoch_num = 2000\n"
      ],
      "execution_count": null,
      "outputs": []
    },
    {
      "cell_type": "code",
      "metadata": {
        "ExecuteTime": {
          "end_time": "2020-07-28T15:32:50.471045Z",
          "start_time": "2020-07-28T14:21:38.014322Z"
        },
        "colab": {
          "base_uri": "https://localhost:8080/"
        },
        "id": "4zztZ4fYx86S",
        "outputId": "921e7966-c560-496d-9dce-ab85a8d0f16e"
      },
      "source": [
        "history = model.fit(X_final_train, Y_final_train, batch_size=batches, epochs = epoch_num, validation_split= 0.3,callbacks= checkpointer)\n",
        "# model.fit([train_paddedJourney, train_extra_data.values], [train_y, train_y], batch_size=batches, epochs = epoch_num, validation_split= 0.3,callbacks= checkpointer)\n",
        "history"
      ],
      "execution_count": null,
      "outputs": [
        {
          "output_type": "stream",
          "text": [
            "Epoch 1/2000\n",
            "3/3 [==============================] - 34s 2s/step - loss: 6395.9589 - mae: 6386.3715 - mse: 42579711.0000 - val_loss: 12344.1816 - val_mae: 12337.4639 - val_mse: 169632352.0000\n",
            "Epoch 2/2000\n",
            "3/3 [==============================] - 0s 29ms/step - loss: 6427.6899 - mae: 6421.3201 - mse: 59816676.0000 - val_loss: 4043.0095 - val_mae: 4038.3855 - val_mse: 17922300.0000\n",
            "Epoch 3/2000\n",
            "3/3 [==============================] - 0s 28ms/step - loss: 3579.8901 - mae: 3575.4724 - mse: 16081940.0000 - val_loss: 1695.6403 - val_mae: 1692.2386 - val_mse: 5228746.0000\n",
            "Epoch 4/2000\n",
            "3/3 [==============================] - 0s 28ms/step - loss: 2939.0104 - mae: 2935.7194 - mse: 12803472.5000 - val_loss: 1778.1915 - val_mae: 1775.4181 - val_mse: 5449238.0000\n",
            "Epoch 5/2000\n",
            "3/3 [==============================] - 0s 28ms/step - loss: 2882.9558 - mae: 2880.2349 - mse: 12235523.0000 - val_loss: 2273.8262 - val_mae: 2271.3420 - val_mse: 7880529.0000\n",
            "Epoch 6/2000\n",
            "3/3 [==============================] - 0s 27ms/step - loss: 2908.3363 - mae: 2905.8741 - mse: 11874524.5000 - val_loss: 1118.0876 - val_mae: 1115.7178 - val_mse: 1803083.8750\n",
            "Epoch 7/2000\n",
            "3/3 [==============================] - 0s 28ms/step - loss: 2388.4515 - mae: 2386.0892 - mse: 8768593.5000 - val_loss: 1849.3179 - val_mae: 1846.9915 - val_mse: 4193974.7500\n",
            "Epoch 8/2000\n",
            "3/3 [==============================] - 0s 27ms/step - loss: 2423.7607 - mae: 2421.4385 - mse: 8422904.2500 - val_loss: 2022.4222 - val_mae: 2020.1276 - val_mse: 5871306.0000\n",
            "Epoch 9/2000\n",
            "3/3 [==============================] - 0s 30ms/step - loss: 2513.5887 - mae: 2511.3002 - mse: 8149652.5000 - val_loss: 945.3246 - val_mae: 943.0743 - val_mse: 1266201.0000\n",
            "Epoch 10/2000\n",
            "3/3 [==============================] - 0s 29ms/step - loss: 2292.3596 - mae: 2290.1167 - mse: 7160260.5000 - val_loss: 1486.6041 - val_mae: 1484.4106 - val_mse: 2774607.5000\n",
            "Epoch 11/2000\n",
            "3/3 [==============================] - 0s 27ms/step - loss: 2143.3129 - mae: 2141.1279 - mse: 6202661.6250 - val_loss: 2400.8752 - val_mae: 2398.7407 - val_mse: 7066806.0000\n",
            "Epoch 12/2000\n",
            "3/3 [==============================] - 0s 29ms/step - loss: 2074.1384 - mae: 2072.0121 - mse: 5514758.1250 - val_loss: 1824.6392 - val_mae: 1822.5605 - val_mse: 3961478.7500\n",
            "Epoch 13/2000\n",
            "3/3 [==============================] - 0s 37ms/step - loss: 1995.0698 - mae: 1992.9979 - mse: 5228328.6250 - val_loss: 1311.4185 - val_mae: 1309.3843 - val_mse: 2583337.0000\n",
            "Epoch 14/2000\n",
            "3/3 [==============================] - 0s 32ms/step - loss: 1592.3161 - mae: 1590.2876 - mse: 3437794.1875 - val_loss: 1623.2955 - val_mae: 1621.2972 - val_mse: 3167639.5000\n",
            "Epoch 15/2000\n",
            "3/3 [==============================] - 0s 33ms/step - loss: 1761.8647 - mae: 1759.8705 - mse: 4071757.7500 - val_loss: 679.9066 - val_mae: 677.9360 - val_mse: 798594.1875\n",
            "Epoch 16/2000\n",
            "3/3 [==============================] - 0s 37ms/step - loss: 1349.1658 - mae: 1347.1989 - mse: 2607170.6250 - val_loss: 697.6078 - val_mae: 695.6613 - val_mse: 855143.0000\n",
            "Epoch 17/2000\n",
            "3/3 [==============================] - 0s 27ms/step - loss: 1282.6226 - mae: 1280.6791 - mse: 2258007.5000 - val_loss: 1448.2091 - val_mae: 1446.2850 - val_mse: 2513863.2500\n",
            "Epoch 18/2000\n",
            "3/3 [==============================] - 0s 28ms/step - loss: 1466.5203 - mae: 1464.5993 - mse: 2809753.1250 - val_loss: 2025.7219 - val_mae: 2023.8187 - val_mse: 4667416.5000\n",
            "Epoch 19/2000\n",
            "3/3 [==============================] - 0s 30ms/step - loss: 1350.1902 - mae: 1348.2901 - mse: 2668061.0000 - val_loss: 824.6035 - val_mae: 822.7222 - val_mse: 880443.9375\n",
            "Epoch 20/2000\n",
            "3/3 [==============================] - 0s 29ms/step - loss: 1131.7750 - mae: 1129.8965 - mse: 1783662.8750 - val_loss: 520.4283 - val_mae: 518.5678 - val_mse: 389325.5938\n",
            "Epoch 21/2000\n",
            "3/3 [==============================] - 0s 28ms/step - loss: 974.3858 - mae: 972.5283 - mse: 1290653.0625 - val_loss: 1585.1106 - val_mae: 1583.2695 - val_mse: 2860089.2500\n",
            "Epoch 22/2000\n",
            "3/3 [==============================] - 0s 39ms/step - loss: 1015.0910 - mae: 1013.2527 - mse: 1682384.2500 - val_loss: 699.8919 - val_mae: 698.0699 - val_mse: 632839.2500\n",
            "Epoch 23/2000\n",
            "3/3 [==============================] - 0s 29ms/step - loss: 862.6181 - mae: 860.7986 - mse: 1096700.0938 - val_loss: 862.2605 - val_mae: 860.4559 - val_mse: 926552.1250\n",
            "Epoch 24/2000\n",
            "3/3 [==============================] - 0s 28ms/step - loss: 863.2296 - mae: 861.4274 - mse: 1005442.5938 - val_loss: 865.4414 - val_mae: 863.6526 - val_mse: 956722.0625\n",
            "Epoch 25/2000\n",
            "3/3 [==============================] - 0s 27ms/step - loss: 765.1043 - mae: 763.3180 - mse: 962720.5625 - val_loss: 862.6666 - val_mae: 860.8934 - val_mse: 923991.5625\n",
            "Epoch 26/2000\n",
            "3/3 [==============================] - 0s 31ms/step - loss: 705.7709 - mae: 704.0000 - mse: 856362.8750 - val_loss: 321.8796 - val_mae: 320.1216 - val_mse: 157027.4375\n",
            "Epoch 27/2000\n",
            "3/3 [==============================] - 0s 29ms/step - loss: 671.9200 - mae: 670.1640 - mse: 744969.5703 - val_loss: 1284.6835 - val_mae: 1282.9402 - val_mse: 1796327.0000\n",
            "Epoch 28/2000\n",
            "3/3 [==============================] - 0s 34ms/step - loss: 757.2895 - mae: 755.5482 - mse: 883318.7812 - val_loss: 800.3656 - val_mae: 798.6364 - val_mse: 757354.6875\n",
            "Epoch 29/2000\n",
            "3/3 [==============================] - 0s 28ms/step - loss: 658.6282 - mae: 656.9010 - mse: 665837.6328 - val_loss: 427.8880 - val_mae: 426.1722 - val_mse: 269103.4062\n",
            "Epoch 30/2000\n",
            "3/3 [==============================] - 0s 29ms/step - loss: 645.4286 - mae: 643.7149 - mse: 664608.1250 - val_loss: 1241.5582 - val_mae: 1239.8556 - val_mse: 1658156.0000\n",
            "Epoch 31/2000\n",
            "3/3 [==============================] - 0s 28ms/step - loss: 896.0027 - mae: 894.3019 - mse: 1198680.4688 - val_loss: 670.4417 - val_mae: 668.7510 - val_mse: 552917.3750\n",
            "Epoch 32/2000\n",
            "3/3 [==============================] - 0s 32ms/step - loss: 1010.3638 - mae: 1008.6748 - mse: 1422262.1562 - val_loss: 1386.8776 - val_mae: 1385.1969 - val_mse: 2036668.7500\n",
            "Epoch 33/2000\n",
            "3/3 [==============================] - 0s 38ms/step - loss: 1192.7877 - mae: 1191.1086 - mse: 1785551.4375 - val_loss: 2097.4431 - val_mae: 2095.7737 - val_mse: 4523868.0000\n",
            "Epoch 34/2000\n",
            "3/3 [==============================] - 0s 31ms/step - loss: 1074.2640 - mae: 1072.5958 - mse: 1650676.0938 - val_loss: 1006.3917 - val_mae: 1004.7313 - val_mse: 1113571.7500\n",
            "Epoch 35/2000\n",
            "3/3 [==============================] - 0s 28ms/step - loss: 1087.4148 - mae: 1085.7560 - mse: 1525013.8438 - val_loss: 1224.5272 - val_mae: 1222.8768 - val_mse: 1596669.3750\n",
            "Epoch 36/2000\n",
            "3/3 [==============================] - 0s 28ms/step - loss: 839.4747 - mae: 837.8253 - mse: 1001369.2969 - val_loss: 974.4676 - val_mae: 972.8264 - val_mse: 1041041.6250\n",
            "Epoch 37/2000\n",
            "3/3 [==============================] - 0s 29ms/step - loss: 675.2805 - mae: 673.6406 - mse: 746580.6406 - val_loss: 1148.0243 - val_mae: 1146.3912 - val_mse: 1416673.7500\n",
            "Epoch 38/2000\n",
            "3/3 [==============================] - 0s 31ms/step - loss: 1059.5432 - mae: 1057.9115 - mse: 1446395.7500 - val_loss: 1760.3569 - val_mae: 1758.7336 - val_mse: 3202813.7500\n",
            "Epoch 39/2000\n",
            "3/3 [==============================] - 0s 29ms/step - loss: 883.6075 - mae: 881.9853 - mse: 1188880.3750 - val_loss: 452.0865 - val_mae: 450.4710 - val_mse: 281689.9688\n",
            "Epoch 40/2000\n",
            "3/3 [==============================] - 0s 39ms/step - loss: 716.6375 - mae: 715.0235 - mse: 749269.6875 - val_loss: 782.8393 - val_mae: 781.2328 - val_mse: 693200.8750\n",
            "Epoch 41/2000\n",
            "3/3 [==============================] - 0s 31ms/step - loss: 652.4320 - mae: 650.8265 - mse: 663792.4219 - val_loss: 1077.0791 - val_mae: 1075.4812 - val_mse: 1248463.8750\n",
            "Epoch 42/2000\n",
            "3/3 [==============================] - 0s 27ms/step - loss: 691.3531 - mae: 689.7564 - mse: 763820.0469 - val_loss: 680.5492 - val_mae: 678.9591 - val_mse: 551283.6250\n",
            "Epoch 43/2000\n",
            "3/3 [==============================] - 0s 42ms/step - loss: 753.8939 - mae: 752.3051 - mse: 796775.3906 - val_loss: 1168.5548 - val_mae: 1166.9735 - val_mse: 1456945.8750\n",
            "Epoch 44/2000\n",
            "3/3 [==============================] - 0s 30ms/step - loss: 617.6667 - mae: 616.0864 - mse: 599013.8438 - val_loss: 500.4586 - val_mae: 498.8852 - val_mse: 310397.4688\n",
            "Epoch 45/2000\n",
            "3/3 [==============================] - 0s 30ms/step - loss: 552.0083 - mae: 550.4360 - mse: 486640.6172 - val_loss: 229.4461 - val_mae: 227.8802 - val_mse: 86454.6016\n",
            "Epoch 46/2000\n",
            "3/3 [==============================] - 0s 28ms/step - loss: 506.8301 - mae: 505.2653 - mse: 388749.7656 - val_loss: 531.0688 - val_mae: 529.5106 - val_mse: 346243.2812\n",
            "Epoch 47/2000\n",
            "3/3 [==============================] - 0s 28ms/step - loss: 495.4947 - mae: 493.9375 - mse: 384661.4922 - val_loss: 569.7729 - val_mae: 568.2220 - val_mse: 394009.8438\n",
            "Epoch 48/2000\n",
            "3/3 [==============================] - 0s 27ms/step - loss: 470.0828 - mae: 468.5328 - mse: 352284.0312 - val_loss: 250.9602 - val_mae: 249.4159 - val_mse: 102612.0234\n",
            "Epoch 49/2000\n",
            "3/3 [==============================] - 0s 27ms/step - loss: 518.5664 - mae: 517.0231 - mse: 415785.7891 - val_loss: 477.3710 - val_mae: 475.8336 - val_mse: 291378.4062\n",
            "Epoch 50/2000\n",
            "3/3 [==============================] - 0s 34ms/step - loss: 496.9891 - mae: 495.4526 - mse: 397864.7578 - val_loss: 684.9500 - val_mae: 683.4194 - val_mse: 555576.5625\n",
            "Epoch 51/2000\n",
            "3/3 [==============================] - 0s 29ms/step - loss: 493.0842 - mae: 491.5546 - mse: 393807.1016 - val_loss: 596.8295 - val_mae: 595.3057 - val_mse: 433039.0625\n",
            "Epoch 52/2000\n",
            "3/3 [==============================] - 0s 31ms/step - loss: 507.7636 - mae: 506.2408 - mse: 420735.5703 - val_loss: 425.1691 - val_mae: 423.6518 - val_mse: 258318.2500\n",
            "Epoch 53/2000\n",
            "3/3 [==============================] - 0s 30ms/step - loss: 560.2169 - mae: 558.7007 - mse: 493642.6328 - val_loss: 411.7012 - val_mae: 410.1909 - val_mse: 227757.8906\n",
            "Epoch 54/2000\n",
            "3/3 [==============================] - 0s 37ms/step - loss: 499.9792 - mae: 498.4698 - mse: 396659.2031 - val_loss: 648.9029 - val_mae: 647.3994 - val_mse: 501776.0938\n",
            "Epoch 55/2000\n",
            "3/3 [==============================] - 0s 31ms/step - loss: 461.5765 - mae: 460.0739 - mse: 339559.0078 - val_loss: 495.9283 - val_mae: 494.4315 - val_mse: 309253.6562\n",
            "Epoch 56/2000\n",
            "3/3 [==============================] - 0s 31ms/step - loss: 500.7121 - mae: 499.2162 - mse: 399707.5312 - val_loss: 278.3383 - val_mae: 276.8481 - val_mse: 114470.7656\n",
            "Epoch 57/2000\n",
            "3/3 [==============================] - 0s 29ms/step - loss: 434.1493 - mae: 432.6601 - mse: 308833.2656 - val_loss: 679.7327 - val_mae: 678.2492 - val_mse: 541348.9375\n",
            "Epoch 58/2000\n",
            "3/3 [==============================] - 0s 29ms/step - loss: 458.1025 - mae: 456.6199 - mse: 341424.0000 - val_loss: 709.5867 - val_mae: 708.1097 - val_mse: 583895.6875\n",
            "Epoch 59/2000\n",
            "3/3 [==============================] - 0s 28ms/step - loss: 472.5852 - mae: 471.1092 - mse: 361918.4141 - val_loss: 225.0302 - val_mae: 223.5595 - val_mse: 82548.0938\n",
            "Epoch 60/2000\n",
            "3/3 [==============================] - 0s 31ms/step - loss: 474.7295 - mae: 473.2599 - mse: 355042.3125 - val_loss: 241.7890 - val_mae: 240.3248 - val_mse: 95083.1484\n",
            "Epoch 61/2000\n",
            "3/3 [==============================] - 0s 32ms/step - loss: 460.9125 - mae: 459.4492 - mse: 331251.7031 - val_loss: 224.5957 - val_mae: 223.1378 - val_mse: 79878.9297\n",
            "Epoch 62/2000\n",
            "3/3 [==============================] - 0s 28ms/step - loss: 438.5927 - mae: 437.1356 - mse: 297924.5078 - val_loss: 341.0838 - val_mae: 339.6319 - val_mse: 159772.4219\n",
            "Epoch 63/2000\n",
            "3/3 [==============================] - 0s 28ms/step - loss: 413.2544 - mae: 411.8034 - mse: 272675.9844 - val_loss: 229.5992 - val_mae: 228.1531 - val_mse: 81636.9219\n",
            "Epoch 64/2000\n",
            "3/3 [==============================] - 0s 30ms/step - loss: 419.3204 - mae: 417.8752 - mse: 273359.3750 - val_loss: 344.9457 - val_mae: 343.5054 - val_mse: 161959.9844\n",
            "Epoch 65/2000\n",
            "3/3 [==============================] - 0s 31ms/step - loss: 401.3695 - mae: 399.9300 - mse: 255461.6445 - val_loss: 532.9006 - val_mae: 531.4661 - val_mse: 342365.7812\n",
            "Epoch 66/2000\n",
            "3/3 [==============================] - 0s 34ms/step - loss: 393.7101 - mae: 392.2763 - mse: 251709.5742 - val_loss: 904.2324 - val_mae: 902.8035 - val_mse: 896644.7500\n",
            "Epoch 67/2000\n",
            "3/3 [==============================] - 0s 30ms/step - loss: 494.9921 - mae: 493.5639 - mse: 391869.2891 - val_loss: 815.8594 - val_mae: 814.4359 - val_mse: 742383.6875\n",
            "Epoch 68/2000\n",
            "3/3 [==============================] - 0s 29ms/step - loss: 468.3251 - mae: 466.9024 - mse: 350169.4062 - val_loss: 391.8870 - val_mae: 390.4686 - val_mse: 199958.2812\n",
            "Epoch 69/2000\n",
            "3/3 [==============================] - 0s 29ms/step - loss: 438.7126 - mae: 437.2950 - mse: 306291.4688 - val_loss: 216.9128 - val_mae: 215.4995 - val_mse: 73701.9766\n",
            "Epoch 70/2000\n",
            "3/3 [==============================] - 0s 35ms/step - loss: 410.4301 - mae: 409.0176 - mse: 272439.1016 - val_loss: 206.8005 - val_mae: 205.3924 - val_mse: 69339.4922\n",
            "Epoch 71/2000\n",
            "3/3 [==============================] - 0s 32ms/step - loss: 442.5870 - mae: 441.1797 - mse: 309575.5859 - val_loss: 538.4243 - val_mae: 537.0212 - val_mse: 347906.1562\n",
            "Epoch 72/2000\n",
            "3/3 [==============================] - 0s 32ms/step - loss: 445.7259 - mae: 444.3235 - mse: 316803.4531 - val_loss: 205.7513 - val_mae: 204.3526 - val_mse: 67500.9297\n",
            "Epoch 73/2000\n",
            "3/3 [==============================] - 0s 28ms/step - loss: 514.2094 - mae: 512.8112 - mse: 395544.7578 - val_loss: 790.1396 - val_mae: 788.7442 - val_mse: 694790.6250\n",
            "Epoch 74/2000\n",
            "3/3 [==============================] - 0s 30ms/step - loss: 526.2453 - mae: 524.8502 - mse: 426728.0312 - val_loss: 1630.6736 - val_mae: 1629.2810 - val_mse: 2746081.2500\n",
            "Epoch 75/2000\n",
            "3/3 [==============================] - 0s 40ms/step - loss: 1123.1645 - mae: 1121.7725 - mse: 1581361.5938 - val_loss: 1875.8071 - val_mae: 1874.4164 - val_mse: 3596750.0000\n",
            "Epoch 76/2000\n",
            "3/3 [==============================] - 0s 35ms/step - loss: 1560.4661 - mae: 1559.0757 - mse: 2746584.6875 - val_loss: 1703.0254 - val_mae: 1701.6381 - val_mse: 2984667.2500\n",
            "Epoch 77/2000\n",
            "3/3 [==============================] - 0s 32ms/step - loss: 930.5137 - mae: 929.1266 - mse: 1181696.5000 - val_loss: 941.2567 - val_mae: 939.8711 - val_mse: 943684.5000\n",
            "Epoch 78/2000\n",
            "3/3 [==============================] - 0s 28ms/step - loss: 869.6553 - mae: 868.2703 - mse: 993212.6406 - val_loss: 330.3307 - val_mae: 328.9481 - val_mse: 142710.4375\n",
            "Epoch 79/2000\n",
            "3/3 [==============================] - 0s 29ms/step - loss: 591.3402 - mae: 589.9578 - mse: 538411.6562 - val_loss: 1238.1149 - val_mae: 1236.7355 - val_mse: 1599329.2500\n",
            "Epoch 80/2000\n",
            "3/3 [==============================] - 0s 30ms/step - loss: 683.7765 - mae: 682.3975 - mse: 699961.1719 - val_loss: 663.9140 - val_mae: 662.5374 - val_mse: 493683.8438\n",
            "Epoch 81/2000\n",
            "3/3 [==============================] - 0s 31ms/step - loss: 661.8819 - mae: 660.5059 - mse: 612636.6875 - val_loss: 208.2600 - val_mae: 206.8872 - val_mse: 66253.5547\n",
            "Epoch 82/2000\n",
            "3/3 [==============================] - 0s 29ms/step - loss: 497.0544 - mae: 495.6820 - mse: 370749.7344 - val_loss: 1172.6973 - val_mae: 1171.3286 - val_mse: 1441706.8750\n",
            "Epoch 83/2000\n",
            "3/3 [==============================] - 0s 39ms/step - loss: 605.1615 - mae: 603.7934 - mse: 577827.8438 - val_loss: 236.4842 - val_mae: 235.1193 - val_mse: 82160.2969\n",
            "Epoch 84/2000\n",
            "3/3 [==============================] - 0s 28ms/step - loss: 479.8074 - mae: 478.4432 - mse: 364633.9844 - val_loss: 223.6863 - val_mae: 222.3254 - val_mse: 81048.1641\n",
            "Epoch 85/2000\n",
            "3/3 [==============================] - 0s 29ms/step - loss: 438.8478 - mae: 437.4875 - mse: 288468.2500 - val_loss: 625.5125 - val_mae: 624.1559 - val_mse: 447994.3750\n",
            "Epoch 86/2000\n",
            "3/3 [==============================] - 0s 28ms/step - loss: 425.1467 - mae: 423.7907 - mse: 291853.1875 - val_loss: 519.3892 - val_mae: 518.0369 - val_mse: 320030.6562\n",
            "Epoch 87/2000\n",
            "3/3 [==============================] - 0s 30ms/step - loss: 389.4272 - mae: 388.0754 - mse: 250328.1328 - val_loss: 229.1470 - val_mae: 227.7988 - val_mse: 78549.3828\n",
            "Epoch 88/2000\n",
            "3/3 [==============================] - 0s 28ms/step - loss: 381.9031 - mae: 380.5555 - mse: 231640.3672 - val_loss: 184.9430 - val_mae: 183.5990 - val_mse: 54956.8203\n",
            "Epoch 89/2000\n",
            "3/3 [==============================] - 0s 37ms/step - loss: 383.9780 - mae: 382.6346 - mse: 232386.8086 - val_loss: 472.0853 - val_mae: 470.7453 - val_mse: 268033.9688\n",
            "Epoch 90/2000\n",
            "3/3 [==============================] - 0s 32ms/step - loss: 421.9473 - mae: 420.6077 - mse: 287173.8594 - val_loss: 680.5983 - val_mae: 679.2620 - val_mse: 520483.9375\n",
            "Epoch 91/2000\n",
            "3/3 [==============================] - 0s 30ms/step - loss: 415.7414 - mae: 414.4055 - mse: 287058.6484 - val_loss: 489.6125 - val_mae: 488.2792 - val_mse: 284595.3438\n",
            "Epoch 92/2000\n",
            "3/3 [==============================] - 0s 31ms/step - loss: 387.5254 - mae: 386.1925 - mse: 242134.2383 - val_loss: 181.4971 - val_mae: 180.1664 - val_mse: 51949.3242\n",
            "Epoch 93/2000\n",
            "3/3 [==============================] - 0s 40ms/step - loss: 380.5365 - mae: 379.2063 - mse: 232715.8828 - val_loss: 307.4267 - val_mae: 306.0986 - val_mse: 133392.0938\n",
            "Epoch 94/2000\n",
            "3/3 [==============================] - 0s 31ms/step - loss: 457.5172 - mae: 456.1896 - mse: 315513.6250 - val_loss: 211.1439 - val_mae: 209.8189 - val_mse: 66830.7578\n",
            "Epoch 95/2000\n",
            "3/3 [==============================] - 0s 40ms/step - loss: 398.5694 - mae: 397.2449 - mse: 242808.1055 - val_loss: 590.5306 - val_mae: 589.2089 - val_mse: 398317.3750\n",
            "Epoch 96/2000\n",
            "3/3 [==============================] - 0s 28ms/step - loss: 422.6524 - mae: 421.3311 - mse: 280454.4922 - val_loss: 697.8831 - val_mae: 696.5645 - val_mse: 541002.0000\n",
            "Epoch 97/2000\n",
            "3/3 [==============================] - 0s 30ms/step - loss: 426.0532 - mae: 424.7349 - mse: 288612.7812 - val_loss: 478.7925 - val_mae: 477.4769 - val_mse: 271614.0312\n",
            "Epoch 98/2000\n",
            "3/3 [==============================] - 0s 29ms/step - loss: 367.6152 - mae: 366.3000 - mse: 221949.0039 - val_loss: 233.3592 - val_mae: 232.0466 - val_mse: 78604.7109\n",
            "Epoch 99/2000\n",
            "3/3 [==============================] - 0s 32ms/step - loss: 381.5115 - mae: 380.1994 - mse: 233585.1445 - val_loss: 309.0298 - val_mae: 307.7205 - val_mse: 133102.7500\n",
            "Epoch 100/2000\n",
            "3/3 [==============================] - 0s 48ms/step - loss: 456.7141 - mae: 455.4053 - mse: 321940.9297 - val_loss: 179.1037 - val_mae: 177.7980 - val_mse: 49508.3828\n",
            "Epoch 101/2000\n",
            "3/3 [==============================] - 0s 30ms/step - loss: 364.0042 - mae: 362.6989 - mse: 205001.8438 - val_loss: 307.1256 - val_mae: 305.8234 - val_mse: 123415.9375\n",
            "Epoch 102/2000\n",
            "3/3 [==============================] - 0s 29ms/step - loss: 423.9829 - mae: 422.6812 - mse: 279422.2266 - val_loss: 917.3198 - val_mae: 916.0212 - val_mse: 895251.1875\n",
            "Epoch 103/2000\n",
            "3/3 [==============================] - 0s 30ms/step - loss: 486.9329 - mae: 485.6347 - mse: 375455.5391 - val_loss: 456.6933 - val_mae: 455.3980 - val_mse: 246783.4844\n",
            "Epoch 104/2000\n",
            "3/3 [==============================] - 0s 39ms/step - loss: 396.5198 - mae: 395.2250 - mse: 256755.1289 - val_loss: 330.6549 - val_mae: 329.3628 - val_mse: 139510.5156\n",
            "Epoch 105/2000\n",
            "3/3 [==============================] - 0s 31ms/step - loss: 334.7898 - mae: 333.4982 - mse: 180126.4102 - val_loss: 165.0164 - val_mae: 163.7274 - val_mse: 44950.3789\n",
            "Epoch 106/2000\n",
            "3/3 [==============================] - 0s 30ms/step - loss: 357.2204 - mae: 355.9318 - mse: 205134.7305 - val_loss: 272.0026 - val_mae: 270.7165 - val_mse: 106255.2031\n",
            "Epoch 107/2000\n",
            "3/3 [==============================] - 0s 28ms/step - loss: 414.1961 - mae: 412.9105 - mse: 261382.2539 - val_loss: 237.2219 - val_mae: 235.9389 - val_mse: 78946.1641\n",
            "Epoch 108/2000\n",
            "3/3 [==============================] - 0s 32ms/step - loss: 425.0796 - mae: 423.7970 - mse: 285759.7344 - val_loss: 553.6230 - val_mae: 552.3430 - val_mse: 349439.3438\n",
            "Epoch 109/2000\n",
            "3/3 [==============================] - 0s 34ms/step - loss: 475.1930 - mae: 473.9133 - mse: 361276.2383 - val_loss: 893.6537 - val_mae: 892.3767 - val_mse: 849680.0000\n",
            "Epoch 110/2000\n",
            "3/3 [==============================] - 0s 30ms/step - loss: 482.3144 - mae: 481.0378 - mse: 373355.3672 - val_loss: 204.3328 - val_mae: 203.0586 - val_mse: 60984.8984\n",
            "Epoch 111/2000\n",
            "3/3 [==============================] - 0s 28ms/step - loss: 405.6274 - mae: 404.3538 - mse: 265661.9219 - val_loss: 970.0020 - val_mae: 968.7305 - val_mse: 978801.1875\n",
            "Epoch 112/2000\n",
            "3/3 [==============================] - 0s 31ms/step - loss: 718.2535 - mae: 716.9827 - mse: 711371.2500 - val_loss: 1211.4264 - val_mae: 1210.1586 - val_mse: 1524202.2500\n",
            "Epoch 113/2000\n",
            "3/3 [==============================] - 0s 28ms/step - loss: 663.3579 - mae: 662.0904 - mse: 628264.3906 - val_loss: 558.2839 - val_mae: 557.0190 - val_mse: 353363.2812\n",
            "Epoch 114/2000\n",
            "3/3 [==============================] - 0s 33ms/step - loss: 435.2937 - mae: 434.0293 - mse: 298547.9609 - val_loss: 693.2645 - val_mae: 692.0025 - val_mse: 516302.7812\n",
            "Epoch 115/2000\n",
            "3/3 [==============================] - 0s 29ms/step - loss: 527.7032 - mae: 526.4417 - mse: 417699.9609 - val_loss: 334.8003 - val_mae: 333.5416 - val_mse: 141066.1719\n",
            "Epoch 116/2000\n",
            "3/3 [==============================] - 0s 34ms/step - loss: 438.3718 - mae: 437.1134 - mse: 306837.5703 - val_loss: 1267.2748 - val_mae: 1266.0194 - val_mse: 1664214.1250\n",
            "Epoch 117/2000\n",
            "3/3 [==============================] - 0s 31ms/step - loss: 761.9165 - mae: 760.6615 - mse: 772153.6094 - val_loss: 561.3766 - val_mae: 560.1237 - val_mse: 349690.4375\n",
            "Epoch 118/2000\n",
            "3/3 [==============================] - 0s 29ms/step - loss: 574.1127 - mae: 572.8604 - mse: 456778.8672 - val_loss: 280.8018 - val_mae: 279.5521 - val_mse: 108762.7656\n",
            "Epoch 119/2000\n",
            "3/3 [==============================] - 0s 28ms/step - loss: 441.1757 - mae: 439.9264 - mse: 288596.4062 - val_loss: 815.2242 - val_mae: 813.9776 - val_mse: 709767.9375\n",
            "Epoch 120/2000\n",
            "3/3 [==============================] - 0s 31ms/step - loss: 497.9395 - mae: 496.6931 - mse: 378766.0156 - val_loss: 624.9642 - val_mae: 623.7201 - val_mse: 431332.7812\n",
            "Epoch 121/2000\n",
            "3/3 [==============================] - 0s 31ms/step - loss: 388.2817 - mae: 387.0378 - mse: 249435.9141 - val_loss: 183.4726 - val_mae: 182.2306 - val_mse: 48818.9180\n",
            "Epoch 122/2000\n",
            "3/3 [==============================] - 0s 28ms/step - loss: 359.6013 - mae: 358.3598 - mse: 204713.0977 - val_loss: 209.1765 - val_mae: 207.9369 - val_mse: 67136.9766\n",
            "Epoch 123/2000\n",
            "3/3 [==============================] - 0s 28ms/step - loss: 399.0388 - mae: 397.7996 - mse: 246019.2500 - val_loss: 212.9045 - val_mae: 211.6673 - val_mse: 63054.1094\n",
            "Epoch 124/2000\n",
            "3/3 [==============================] - 0s 33ms/step - loss: 313.9442 - mae: 312.7073 - mse: 158157.7109 - val_loss: 165.1981 - val_mae: 163.9629 - val_mse: 45393.0117\n",
            "Epoch 125/2000\n",
            "3/3 [==============================] - 0s 28ms/step - loss: 367.0788 - mae: 365.8440 - mse: 210538.8594 - val_loss: 240.6279 - val_mae: 239.3949 - val_mse: 83439.8125\n",
            "Epoch 126/2000\n",
            "3/3 [==============================] - 0s 30ms/step - loss: 391.4434 - mae: 390.2107 - mse: 237058.9609 - val_loss: 217.4620 - val_mae: 216.2312 - val_mse: 65428.9531\n",
            "Epoch 127/2000\n",
            "3/3 [==============================] - 0s 29ms/step - loss: 309.7568 - mae: 308.5263 - mse: 150516.3281 - val_loss: 218.3371 - val_mae: 217.1084 - val_mse: 65692.6172\n",
            "Epoch 128/2000\n",
            "3/3 [==============================] - 0s 33ms/step - loss: 315.3287 - mae: 314.1003 - mse: 162125.1016 - val_loss: 326.6135 - val_mae: 325.3870 - val_mse: 132027.7500\n",
            "Epoch 129/2000\n",
            "3/3 [==============================] - 0s 34ms/step - loss: 314.4188 - mae: 313.1926 - mse: 156369.9844 - val_loss: 282.6025 - val_mae: 281.3784 - val_mse: 101833.5469\n",
            "Epoch 130/2000\n",
            "3/3 [==============================] - 0s 28ms/step - loss: 303.6490 - mae: 302.4252 - mse: 147246.0898 - val_loss: 191.7163 - val_mae: 190.4946 - val_mse: 51731.8398\n",
            "Epoch 131/2000\n",
            "3/3 [==============================] - 0s 28ms/step - loss: 299.9406 - mae: 298.7193 - mse: 150406.6992 - val_loss: 217.3598 - val_mae: 216.1408 - val_mse: 64161.0234\n",
            "Epoch 132/2000\n",
            "3/3 [==============================] - 0s 31ms/step - loss: 319.2764 - mae: 318.0578 - mse: 161855.3711 - val_loss: 153.4897 - val_mae: 152.2733 - val_mse: 39522.5820\n",
            "Epoch 133/2000\n",
            "3/3 [==============================] - 0s 32ms/step - loss: 345.1739 - mae: 343.9578 - mse: 187573.3242 - val_loss: 229.0004 - val_mae: 227.7863 - val_mse: 75423.1641\n",
            "Epoch 134/2000\n",
            "3/3 [==============================] - 0s 34ms/step - loss: 393.9662 - mae: 392.7523 - mse: 235409.1523 - val_loss: 184.9077 - val_mae: 183.6956 - val_mse: 54011.3008\n",
            "Epoch 135/2000\n",
            "3/3 [==============================] - 0s 30ms/step - loss: 359.4680 - mae: 358.2563 - mse: 199594.9062 - val_loss: 271.9915 - val_mae: 270.7816 - val_mse: 105250.1406\n",
            "Epoch 136/2000\n",
            "3/3 [==============================] - 0s 33ms/step - loss: 321.1617 - mae: 319.9521 - mse: 162264.5000 - val_loss: 138.2298 - val_mae: 137.0219 - val_mse: 31183.8867\n",
            "Epoch 137/2000\n",
            "3/3 [==============================] - 0s 29ms/step - loss: 320.5190 - mae: 319.3114 - mse: 165781.6719 - val_loss: 159.5296 - val_mae: 158.3236 - val_mse: 37415.4180\n",
            "Epoch 138/2000\n",
            "3/3 [==============================] - 0s 28ms/step - loss: 317.8175 - mae: 316.6118 - mse: 159311.7148 - val_loss: 280.1563 - val_mae: 278.9523 - val_mse: 99228.2422\n",
            "Epoch 139/2000\n",
            "3/3 [==============================] - 0s 37ms/step - loss: 318.0129 - mae: 316.8092 - mse: 159206.4922 - val_loss: 443.2581 - val_mae: 442.0561 - val_mse: 226357.1719\n",
            "Epoch 140/2000\n",
            "3/3 [==============================] - 0s 34ms/step - loss: 341.5703 - mae: 340.3686 - mse: 187133.0781 - val_loss: 151.2433 - val_mae: 150.0433 - val_mse: 33885.5312\n",
            "Epoch 141/2000\n",
            "3/3 [==============================] - 0s 30ms/step - loss: 300.4911 - mae: 299.2915 - mse: 141468.4297 - val_loss: 228.1217 - val_mae: 226.9241 - val_mse: 68377.8281\n",
            "Epoch 142/2000\n",
            "3/3 [==============================] - 0s 31ms/step - loss: 290.1503 - mae: 288.9530 - mse: 138952.6094 - val_loss: 377.4232 - val_mae: 376.2280 - val_mse: 168038.8750\n",
            "Epoch 143/2000\n",
            "3/3 [==============================] - 0s 28ms/step - loss: 294.2956 - mae: 293.1008 - mse: 141926.5938 - val_loss: 706.1440 - val_mae: 704.9514 - val_mse: 532399.8750\n",
            "Epoch 144/2000\n",
            "3/3 [==============================] - 0s 29ms/step - loss: 392.9855 - mae: 391.7932 - mse: 233736.3281 - val_loss: 394.7269 - val_mae: 393.5368 - val_mse: 181826.2344\n",
            "Epoch 145/2000\n",
            "3/3 [==============================] - 0s 31ms/step - loss: 318.2438 - mae: 317.0541 - mse: 158184.4844 - val_loss: 478.4481 - val_mae: 477.2605 - val_mse: 258484.6094\n",
            "Epoch 146/2000\n",
            "3/3 [==============================] - 0s 31ms/step - loss: 307.8033 - mae: 306.6161 - mse: 150861.3008 - val_loss: 879.3002 - val_mae: 878.1154 - val_mse: 809477.0000\n",
            "Epoch 147/2000\n",
            "3/3 [==============================] - 0s 30ms/step - loss: 445.6658 - mae: 444.4812 - mse: 306221.6562 - val_loss: 572.0599 - val_mae: 570.8776 - val_mse: 358395.2812\n",
            "Epoch 148/2000\n",
            "3/3 [==============================] - 0s 32ms/step - loss: 329.0830 - mae: 327.9011 - mse: 179722.5234 - val_loss: 600.0660 - val_mae: 598.8864 - val_mse: 391824.5625\n",
            "Epoch 149/2000\n",
            "3/3 [==============================] - 0s 32ms/step - loss: 352.8739 - mae: 351.6946 - mse: 198365.7461 - val_loss: 629.6083 - val_mae: 628.4314 - val_mse: 428121.9688\n",
            "Epoch 150/2000\n",
            "3/3 [==============================] - 0s 30ms/step - loss: 346.5521 - mae: 345.3754 - mse: 191721.9141 - val_loss: 506.6403 - val_mae: 505.4659 - val_mse: 285699.2500\n",
            "Epoch 151/2000\n",
            "3/3 [==============================] - 0s 29ms/step - loss: 314.6826 - mae: 313.5086 - mse: 159784.3945 - val_loss: 511.2731 - val_mae: 510.1013 - val_mse: 290155.4688\n",
            "Epoch 152/2000\n",
            "3/3 [==============================] - 0s 28ms/step - loss: 330.0502 - mae: 328.8788 - mse: 181874.2617 - val_loss: 300.4545 - val_mae: 299.2852 - val_mse: 110342.9453\n",
            "Epoch 153/2000\n",
            "3/3 [==============================] - 0s 30ms/step - loss: 290.5302 - mae: 289.3613 - mse: 136227.9805 - val_loss: 285.0186 - val_mae: 283.8519 - val_mse: 100521.8125\n",
            "Epoch 154/2000\n",
            "3/3 [==============================] - 0s 33ms/step - loss: 295.1627 - mae: 293.9964 - mse: 143983.6914 - val_loss: 134.7915 - val_mae: 133.6273 - val_mse: 28190.4277\n",
            "Epoch 155/2000\n",
            "3/3 [==============================] - 0s 29ms/step - loss: 312.6858 - mae: 311.5220 - mse: 154863.8848 - val_loss: 163.5697 - val_mae: 162.4081 - val_mse: 38098.1406\n",
            "Epoch 156/2000\n",
            "3/3 [==============================] - 0s 38ms/step - loss: 278.0094 - mae: 276.8482 - mse: 124156.9531 - val_loss: 433.8813 - val_mae: 432.7223 - val_mse: 216661.1406\n",
            "Epoch 157/2000\n",
            "3/3 [==============================] - 0s 30ms/step - loss: 306.4159 - mae: 305.2573 - mse: 146230.2852 - val_loss: 571.3315 - val_mae: 570.1750 - val_mse: 357101.4062\n",
            "Epoch 158/2000\n",
            "3/3 [==============================] - 0s 30ms/step - loss: 346.1344 - mae: 344.9782 - mse: 192474.2578 - val_loss: 228.9237 - val_mae: 227.7695 - val_mse: 67445.1172\n",
            "Epoch 159/2000\n",
            "3/3 [==============================] - 0s 31ms/step - loss: 279.9008 - mae: 278.7468 - mse: 120025.3672 - val_loss: 335.1765 - val_mae: 334.0240 - val_mse: 134584.2656\n",
            "Epoch 160/2000\n",
            "3/3 [==============================] - 0s 31ms/step - loss: 290.7142 - mae: 289.5620 - mse: 134726.9395 - val_loss: 422.7635 - val_mae: 421.6124 - val_mse: 205539.6250\n",
            "Epoch 161/2000\n",
            "3/3 [==============================] - 0s 30ms/step - loss: 330.1209 - mae: 328.9699 - mse: 173579.2734 - val_loss: 286.1559 - val_mae: 285.0060 - val_mse: 101003.7266\n",
            "Epoch 162/2000\n",
            "3/3 [==============================] - 0s 31ms/step - loss: 304.1190 - mae: 302.9693 - mse: 151946.5742 - val_loss: 172.0750 - val_mae: 170.9266 - val_mse: 40867.6602\n",
            "Epoch 163/2000\n",
            "3/3 [==============================] - 0s 28ms/step - loss: 285.2488 - mae: 284.1005 - mse: 129193.3965 - val_loss: 169.6586 - val_mae: 168.5118 - val_mse: 45279.9766\n",
            "Epoch 164/2000\n",
            "3/3 [==============================] - 0s 30ms/step - loss: 328.7439 - mae: 327.5974 - mse: 170719.7812 - val_loss: 357.2239 - val_mae: 356.0791 - val_mse: 149804.5938\n",
            "Epoch 165/2000\n",
            "3/3 [==============================] - 0s 30ms/step - loss: 405.7940 - mae: 404.6495 - mse: 250238.1797 - val_loss: 612.5844 - val_mae: 611.4416 - val_mse: 397471.0312\n",
            "Epoch 166/2000\n",
            "3/3 [==============================] - 0s 32ms/step - loss: 514.7583 - mae: 513.6158 - mse: 406762.1484 - val_loss: 298.2823 - val_mae: 297.1418 - val_mse: 107993.9297\n",
            "Epoch 167/2000\n",
            "3/3 [==============================] - 0s 28ms/step - loss: 409.8989 - mae: 408.7586 - mse: 278067.9082 - val_loss: 984.6881 - val_mae: 983.5498 - val_mse: 1003951.3125\n",
            "Epoch 168/2000\n",
            "3/3 [==============================] - 0s 32ms/step - loss: 501.8671 - mae: 500.7290 - mse: 374267.5547 - val_loss: 179.6864 - val_mae: 178.5499 - val_mse: 43464.6250\n",
            "Epoch 169/2000\n",
            "3/3 [==============================] - 0s 30ms/step - loss: 443.1561 - mae: 442.0201 - mse: 313667.3984 - val_loss: 1393.4335 - val_mae: 1392.2986 - val_mse: 1971843.1250\n",
            "Epoch 170/2000\n",
            "3/3 [==============================] - 0s 30ms/step - loss: 916.4930 - mae: 915.3585 - mse: 1067582.2188 - val_loss: 1717.2927 - val_mae: 1716.1600 - val_mse: 3004019.7500\n",
            "Epoch 171/2000\n",
            "3/3 [==============================] - 0s 29ms/step - loss: 978.9122 - mae: 977.7795 - mse: 1215722.6719 - val_loss: 1796.4231 - val_mae: 1795.2905 - val_mse: 3264399.7500\n",
            "Epoch 172/2000\n",
            "3/3 [==============================] - 0s 34ms/step - loss: 1005.6544 - mae: 1004.5223 - mse: 1457277.0625 - val_loss: 1275.7627 - val_mae: 1274.6323 - val_mse: 1670534.3750\n",
            "Epoch 173/2000\n",
            "3/3 [==============================] - 0s 34ms/step - loss: 702.4113 - mae: 701.2811 - mse: 677074.7656 - val_loss: 483.2326 - val_mae: 482.1037 - val_mse: 261340.4375\n",
            "Epoch 174/2000\n",
            "3/3 [==============================] - 0s 29ms/step - loss: 388.6333 - mae: 387.5047 - mse: 232162.0586 - val_loss: 192.2323 - val_mae: 191.1052 - val_mse: 55254.0820\n",
            "Epoch 175/2000\n",
            "3/3 [==============================] - 0s 33ms/step - loss: 386.3379 - mae: 385.2112 - mse: 234305.5977 - val_loss: 804.2103 - val_mae: 803.0848 - val_mse: 669535.3750\n",
            "Epoch 176/2000\n",
            "3/3 [==============================] - 0s 39ms/step - loss: 541.5620 - mae: 540.4368 - mse: 458719.1641 - val_loss: 806.9342 - val_mae: 805.8109 - val_mse: 684305.9375\n",
            "Epoch 177/2000\n",
            "3/3 [==============================] - 0s 31ms/step - loss: 588.1604 - mae: 587.0372 - mse: 479221.6953 - val_loss: 1021.1356 - val_mae: 1020.0140 - val_mse: 1080196.2500\n",
            "Epoch 178/2000\n",
            "3/3 [==============================] - 0s 39ms/step - loss: 711.4255 - mae: 710.3042 - mse: 647704.4375 - val_loss: 545.5690 - val_mae: 544.4489 - val_mse: 319686.7500\n",
            "Epoch 179/2000\n",
            "3/3 [==============================] - 0s 30ms/step - loss: 435.8387 - mae: 434.7189 - mse: 297023.1250 - val_loss: 652.0526 - val_mae: 650.9340 - val_mse: 447372.5312\n",
            "Epoch 180/2000\n",
            "3/3 [==============================] - 0s 29ms/step - loss: 480.8799 - mae: 479.7616 - mse: 360783.4219 - val_loss: 201.0800 - val_mae: 199.9637 - val_mse: 53145.0117\n",
            "Epoch 181/2000\n",
            "3/3 [==============================] - 0s 30ms/step - loss: 354.6833 - mae: 353.5671 - mse: 209224.8906 - val_loss: 365.2824 - val_mae: 364.1681 - val_mse: 156728.5781\n",
            "Epoch 182/2000\n",
            "3/3 [==============================] - 0s 38ms/step - loss: 322.1546 - mae: 321.0405 - mse: 168575.1055 - val_loss: 519.7086 - val_mae: 518.5963 - val_mse: 298080.5000\n",
            "Epoch 183/2000\n",
            "3/3 [==============================] - 0s 29ms/step - loss: 350.5661 - mae: 349.4541 - mse: 197222.5586 - val_loss: 795.3736 - val_mae: 794.2635 - val_mse: 665106.5625\n",
            "Epoch 184/2000\n",
            "3/3 [==============================] - 0s 30ms/step - loss: 425.2841 - mae: 424.1741 - mse: 269647.9375 - val_loss: 538.5825 - val_mae: 537.4743 - val_mse: 319151.1250\n",
            "Epoch 185/2000\n",
            "3/3 [==============================] - 0s 32ms/step - loss: 371.8633 - mae: 370.7554 - mse: 216513.6992 - val_loss: 133.2913 - val_mae: 132.1850 - val_mse: 29654.7539\n",
            "Epoch 186/2000\n",
            "3/3 [==============================] - 0s 30ms/step - loss: 434.6625 - mae: 433.5566 - mse: 281943.0352 - val_loss: 793.5207 - val_mae: 792.4163 - val_mse: 652457.1250\n",
            "Epoch 187/2000\n",
            "3/3 [==============================] - 0s 33ms/step - loss: 515.3747 - mae: 514.2706 - mse: 407911.4219 - val_loss: 135.0434 - val_mae: 133.9412 - val_mse: 27565.4043\n",
            "Epoch 188/2000\n",
            "3/3 [==============================] - 0s 30ms/step - loss: 331.6986 - mae: 330.5967 - mse: 179790.2500 - val_loss: 230.5690 - val_mae: 229.4689 - val_mse: 68199.3984\n",
            "Epoch 189/2000\n",
            "3/3 [==============================] - 0s 29ms/step - loss: 305.9908 - mae: 304.8910 - mse: 147233.2109 - val_loss: 405.3113 - val_mae: 404.2133 - val_mse: 189958.0469\n",
            "Epoch 190/2000\n",
            "3/3 [==============================] - 0s 29ms/step - loss: 320.0244 - mae: 318.9267 - mse: 158901.9961 - val_loss: 200.1966 - val_mae: 199.1006 - val_mse: 52852.0078\n",
            "Epoch 191/2000\n",
            "3/3 [==============================] - 0s 31ms/step - loss: 281.8358 - mae: 280.7401 - mse: 125959.2207 - val_loss: 209.0903 - val_mae: 207.9964 - val_mse: 56986.1602\n",
            "Epoch 192/2000\n",
            "3/3 [==============================] - 0s 33ms/step - loss: 300.3695 - mae: 299.2759 - mse: 144155.7969 - val_loss: 319.1696 - val_mae: 318.0777 - val_mse: 122376.6953\n",
            "Epoch 193/2000\n",
            "3/3 [==============================] - 0s 37ms/step - loss: 292.7689 - mae: 291.6772 - mse: 139483.9688 - val_loss: 169.8211 - val_mae: 168.7308 - val_mse: 39437.4727\n",
            "Epoch 194/2000\n",
            "3/3 [==============================] - 0s 34ms/step - loss: 296.2726 - mae: 295.1826 - mse: 142009.1582 - val_loss: 139.2447 - val_mae: 138.1557 - val_mse: 32252.3203\n",
            "Epoch 195/2000\n",
            "3/3 [==============================] - 0s 30ms/step - loss: 343.0028 - mae: 341.9141 - mse: 182980.2930 - val_loss: 130.4615 - val_mae: 129.3739 - val_mse: 28503.7871\n",
            "Epoch 196/2000\n",
            "3/3 [==============================] - 0s 29ms/step - loss: 319.7308 - mae: 318.6435 - mse: 159799.3086 - val_loss: 126.1315 - val_mae: 125.0454 - val_mse: 26565.8867\n",
            "Epoch 197/2000\n",
            "3/3 [==============================] - 0s 30ms/step - loss: 356.0702 - mae: 354.9844 - mse: 197492.3828 - val_loss: 521.3271 - val_mae: 520.2423 - val_mse: 293211.3750\n",
            "Epoch 198/2000\n",
            "3/3 [==============================] - 0s 34ms/step - loss: 467.4245 - mae: 466.3399 - mse: 329194.6250 - val_loss: 182.2786 - val_mae: 181.1953 - val_mse: 50461.2344\n",
            "Epoch 199/2000\n",
            "3/3 [==============================] - 0s 32ms/step - loss: 343.4937 - mae: 342.4106 - mse: 189601.4727 - val_loss: 278.0970 - val_mae: 277.0154 - val_mse: 95180.8906\n",
            "Epoch 200/2000\n",
            "3/3 [==============================] - 0s 32ms/step - loss: 339.5932 - mae: 338.5117 - mse: 190252.5391 - val_loss: 525.1365 - val_mae: 524.0564 - val_mse: 302657.2500\n",
            "Epoch 201/2000\n",
            "3/3 [==============================] - 0s 32ms/step - loss: 334.9321 - mae: 333.8522 - mse: 174696.5078 - val_loss: 480.9166 - val_mae: 479.8379 - val_mse: 257328.5625\n",
            "Epoch 202/2000\n",
            "3/3 [==============================] - 0s 32ms/step - loss: 339.6829 - mae: 338.6044 - mse: 179696.6641 - val_loss: 384.1233 - val_mae: 383.0461 - val_mse: 170913.7188\n",
            "Epoch 203/2000\n",
            "3/3 [==============================] - 0s 29ms/step - loss: 304.5651 - mae: 303.4881 - mse: 151044.3516 - val_loss: 398.2257 - val_mae: 397.1501 - val_mse: 182336.2500\n",
            "Epoch 204/2000\n",
            "3/3 [==============================] - 0s 34ms/step - loss: 296.6320 - mae: 295.5565 - mse: 148643.8594 - val_loss: 215.0116 - val_mae: 213.9374 - val_mse: 59590.5469\n",
            "Epoch 205/2000\n",
            "3/3 [==============================] - 0s 29ms/step - loss: 285.8726 - mae: 284.7985 - mse: 133144.2148 - val_loss: 311.9434 - val_mae: 310.8706 - val_mse: 117202.4062\n",
            "Epoch 206/2000\n",
            "3/3 [==============================] - 0s 31ms/step - loss: 286.3051 - mae: 285.2325 - mse: 133686.9434 - val_loss: 790.3749 - val_mae: 789.3036 - val_mse: 655732.8125\n",
            "Epoch 207/2000\n",
            "3/3 [==============================] - 0s 41ms/step - loss: 396.9912 - mae: 395.9200 - mse: 242583.7891 - val_loss: 359.0304 - val_mae: 357.9604 - val_mse: 151538.7188\n",
            "Epoch 208/2000\n",
            "3/3 [==============================] - 0s 31ms/step - loss: 320.2112 - mae: 319.1414 - mse: 161366.6719 - val_loss: 159.9682 - val_mae: 158.8996 - val_mse: 35563.9414\n",
            "Epoch 209/2000\n",
            "3/3 [==============================] - 0s 29ms/step - loss: 296.4767 - mae: 295.4084 - mse: 139914.3438 - val_loss: 118.5195 - val_mae: 117.4527 - val_mse: 22726.1133\n",
            "Epoch 210/2000\n",
            "3/3 [==============================] - 0s 35ms/step - loss: 313.6768 - mae: 312.6103 - mse: 156276.2188 - val_loss: 147.3743 - val_mae: 146.3090 - val_mse: 35471.2734\n",
            "Epoch 211/2000\n",
            "3/3 [==============================] - 0s 30ms/step - loss: 339.9798 - mae: 338.9147 - mse: 179629.5273 - val_loss: 229.6774 - val_mae: 228.6132 - val_mse: 71391.0391\n",
            "Epoch 212/2000\n",
            "3/3 [==============================] - 0s 31ms/step - loss: 409.7802 - mae: 408.7163 - mse: 247891.5430 - val_loss: 116.5050 - val_mae: 115.4423 - val_mse: 22357.8457\n",
            "Epoch 213/2000\n",
            "3/3 [==============================] - 0s 44ms/step - loss: 316.2598 - mae: 315.1974 - mse: 155459.2930 - val_loss: 192.2681 - val_mae: 191.2067 - val_mse: 54118.5312\n",
            "Epoch 214/2000\n",
            "3/3 [==============================] - 0s 41ms/step - loss: 374.0542 - mae: 372.9931 - mse: 217494.4141 - val_loss: 287.0422 - val_mae: 285.9823 - val_mse: 102686.2812\n",
            "Epoch 215/2000\n",
            "3/3 [==============================] - 0s 34ms/step - loss: 361.9285 - mae: 360.8689 - mse: 209336.2344 - val_loss: 166.1050 - val_mae: 165.0467 - val_mse: 43365.4766\n",
            "Epoch 216/2000\n",
            "3/3 [==============================] - 0s 40ms/step - loss: 312.7481 - mae: 311.6900 - mse: 158820.7812 - val_loss: 157.4537 - val_mae: 156.3970 - val_mse: 34505.0078\n",
            "Epoch 217/2000\n",
            "3/3 [==============================] - 0s 31ms/step - loss: 303.8848 - mae: 302.8283 - mse: 147751.1914 - val_loss: 326.6828 - val_mae: 325.6278 - val_mse: 127174.3125\n",
            "Epoch 218/2000\n",
            "3/3 [==============================] - 0s 32ms/step - loss: 330.1371 - mae: 329.0822 - mse: 172361.4609 - val_loss: 555.3781 - val_mae: 554.3248 - val_mse: 334638.5000\n",
            "Epoch 219/2000\n",
            "3/3 [==============================] - 0s 33ms/step - loss: 365.3751 - mae: 364.3220 - mse: 203049.2812 - val_loss: 780.7564 - val_mae: 779.7049 - val_mse: 638825.8750\n",
            "Epoch 220/2000\n",
            "3/3 [==============================] - 0s 41ms/step - loss: 413.4091 - mae: 412.3577 - mse: 260399.7344 - val_loss: 382.2947 - val_mae: 381.2448 - val_mse: 168327.7812\n",
            "Epoch 221/2000\n",
            "3/3 [==============================] - 0s 29ms/step - loss: 324.7156 - mae: 323.6659 - mse: 167714.6133 - val_loss: 271.2304 - val_mae: 270.1822 - val_mse: 89905.6250\n",
            "Epoch 222/2000\n",
            "3/3 [==============================] - 0s 31ms/step - loss: 300.7784 - mae: 299.7304 - mse: 149138.1172 - val_loss: 379.3578 - val_mae: 378.3113 - val_mse: 165710.2500\n",
            "Epoch 223/2000\n",
            "3/3 [==============================] - 0s 30ms/step - loss: 279.2671 - mae: 278.2208 - mse: 127059.0293 - val_loss: 474.6750 - val_mae: 473.6302 - val_mse: 249661.7344\n",
            "Epoch 224/2000\n",
            "3/3 [==============================] - 0s 34ms/step - loss: 317.0907 - mae: 316.0462 - mse: 161914.3828 - val_loss: 500.0868 - val_mae: 499.0438 - val_mse: 275091.7188\n",
            "Epoch 225/2000\n",
            "3/3 [==============================] - 0s 35ms/step - loss: 304.9680 - mae: 303.9252 - mse: 148446.5977 - val_loss: 455.0797 - val_mae: 454.0384 - val_mse: 231650.9844\n",
            "Epoch 226/2000\n",
            "3/3 [==============================] - 0s 32ms/step - loss: 291.2391 - mae: 290.1980 - mse: 139397.3281 - val_loss: 333.3108 - val_mae: 332.2711 - val_mse: 131777.4844\n",
            "Epoch 227/2000\n",
            "3/3 [==============================] - 0s 33ms/step - loss: 289.4778 - mae: 288.4383 - mse: 134897.4395 - val_loss: 298.4885 - val_mae: 297.4498 - val_mse: 107751.3594\n",
            "Epoch 228/2000\n",
            "3/3 [==============================] - 0s 34ms/step - loss: 284.9227 - mae: 283.8840 - mse: 130822.4414 - val_loss: 147.4081 - val_mae: 146.3700 - val_mse: 30697.4160\n",
            "Epoch 229/2000\n",
            "3/3 [==============================] - 0s 31ms/step - loss: 279.4662 - mae: 278.4282 - mse: 128562.9766 - val_loss: 117.8309 - val_mae: 116.7935 - val_mse: 23351.7090\n",
            "Epoch 230/2000\n",
            "3/3 [==============================] - 0s 30ms/step - loss: 305.7666 - mae: 304.7294 - mse: 151437.5977 - val_loss: 115.0448 - val_mae: 114.0084 - val_mse: 21736.2598\n",
            "Epoch 231/2000\n",
            "3/3 [==============================] - 0s 35ms/step - loss: 275.6457 - mae: 274.6095 - mse: 124070.7012 - val_loss: 117.0662 - val_mae: 116.0311 - val_mse: 21748.6465\n",
            "Epoch 232/2000\n",
            "3/3 [==============================] - 0s 31ms/step - loss: 284.4423 - mae: 283.4074 - mse: 129128.6777 - val_loss: 157.7851 - val_mae: 156.7512 - val_mse: 39497.4180\n",
            "Epoch 233/2000\n",
            "3/3 [==============================] - 0s 31ms/step - loss: 320.9822 - mae: 319.9485 - mse: 167636.5469 - val_loss: 185.0518 - val_mae: 184.0190 - val_mse: 50713.6133\n",
            "Epoch 234/2000\n",
            "3/3 [==============================] - 0s 42ms/step - loss: 352.1976 - mae: 351.1650 - mse: 191918.0156 - val_loss: 121.3114 - val_mae: 120.2796 - val_mse: 25018.9062\n",
            "Epoch 235/2000\n",
            "3/3 [==============================] - 0s 31ms/step - loss: 301.5525 - mae: 300.5210 - mse: 140995.1562 - val_loss: 136.8007 - val_mae: 135.7699 - val_mse: 31108.9570\n",
            "Epoch 236/2000\n",
            "3/3 [==============================] - 0s 33ms/step - loss: 327.4067 - mae: 326.3762 - mse: 170311.5156 - val_loss: 113.0968 - val_mae: 112.0672 - val_mse: 21104.8535\n",
            "Epoch 237/2000\n",
            "3/3 [==============================] - 0s 31ms/step - loss: 307.6544 - mae: 306.6250 - mse: 151848.6680 - val_loss: 115.9039 - val_mae: 114.8756 - val_mse: 21273.4922\n",
            "Epoch 238/2000\n",
            "3/3 [==============================] - 0s 32ms/step - loss: 293.7341 - mae: 292.7060 - mse: 140475.8242 - val_loss: 344.3276 - val_mae: 343.3009 - val_mse: 138922.2969\n",
            "Epoch 239/2000\n",
            "3/3 [==============================] - 0s 29ms/step - loss: 277.1706 - mae: 276.1441 - mse: 121960.8301 - val_loss: 134.5101 - val_mae: 133.4848 - val_mse: 30165.9219\n",
            "Epoch 240/2000\n",
            "3/3 [==============================] - 0s 33ms/step - loss: 364.6490 - mae: 363.6240 - mse: 209218.8867 - val_loss: 303.8461 - val_mae: 302.8223 - val_mse: 111212.9219\n",
            "Epoch 241/2000\n",
            "3/3 [==============================] - 0s 29ms/step - loss: 413.1280 - mae: 412.1046 - mse: 257288.9648 - val_loss: 363.5258 - val_mae: 362.5035 - val_mse: 151322.2969\n",
            "Epoch 242/2000\n",
            "3/3 [==============================] - 0s 30ms/step - loss: 377.5065 - mae: 376.4845 - mse: 231329.6719 - val_loss: 229.7908 - val_mae: 228.7702 - val_mse: 70073.3203\n",
            "Epoch 243/2000\n",
            "3/3 [==============================] - 0s 39ms/step - loss: 341.0929 - mae: 340.0726 - mse: 180443.7148 - val_loss: 117.8827 - val_mae: 116.8639 - val_mse: 23706.0332\n",
            "Epoch 244/2000\n",
            "3/3 [==============================] - 0s 31ms/step - loss: 291.2430 - mae: 290.2245 - mse: 135637.7617 - val_loss: 162.1840 - val_mae: 161.1671 - val_mse: 35878.2578\n",
            "Epoch 245/2000\n",
            "3/3 [==============================] - 0s 31ms/step - loss: 268.7184 - mae: 267.7016 - mse: 116684.7266 - val_loss: 114.9150 - val_mae: 113.8996 - val_mse: 21063.4590\n",
            "Epoch 246/2000\n",
            "3/3 [==============================] - 0s 30ms/step - loss: 295.5552 - mae: 294.5402 - mse: 137537.0742 - val_loss: 329.6515 - val_mae: 328.6378 - val_mse: 128620.4375\n",
            "Epoch 247/2000\n",
            "3/3 [==============================] - 0s 32ms/step - loss: 269.2920 - mae: 268.2786 - mse: 115959.8809 - val_loss: 144.0850 - val_mae: 143.0729 - val_mse: 33817.1211\n",
            "Epoch 248/2000\n",
            "3/3 [==============================] - 0s 33ms/step - loss: 339.7989 - mae: 338.7872 - mse: 181926.1836 - val_loss: 260.7899 - val_mae: 259.7795 - val_mse: 86236.9688\n",
            "Epoch 249/2000\n",
            "3/3 [==============================] - 0s 30ms/step - loss: 430.5079 - mae: 429.4978 - mse: 275666.9688 - val_loss: 143.9505 - val_mae: 142.9418 - val_mse: 33784.1211\n",
            "Epoch 250/2000\n",
            "3/3 [==============================] - 0s 34ms/step - loss: 330.1654 - mae: 329.1569 - mse: 171363.1523 - val_loss: 135.5029 - val_mae: 134.4958 - val_mse: 26393.0547\n",
            "Epoch 251/2000\n",
            "3/3 [==============================] - 0s 32ms/step - loss: 280.8488 - mae: 279.8421 - mse: 128494.3828 - val_loss: 322.7657 - val_mae: 321.7604 - val_mse: 123020.0703\n",
            "Epoch 252/2000\n",
            "3/3 [==============================] - 0s 33ms/step - loss: 279.6390 - mae: 278.6339 - mse: 125355.0312 - val_loss: 782.5006 - val_mae: 781.4971 - val_mse: 639425.1875\n",
            "Epoch 253/2000\n",
            "3/3 [==============================] - 0s 33ms/step - loss: 390.3762 - mae: 389.3728 - mse: 232018.6602 - val_loss: 768.2800 - val_mae: 767.2781 - val_mse: 617103.0000\n",
            "Epoch 254/2000\n",
            "3/3 [==============================] - 0s 31ms/step - loss: 420.8959 - mae: 419.8941 - mse: 264830.9258 - val_loss: 1123.4246 - val_mae: 1122.4238 - val_mse: 1297450.0000\n",
            "Epoch 255/2000\n",
            "3/3 [==============================] - 0s 42ms/step - loss: 577.2201 - mae: 576.2195 - mse: 471183.1719 - val_loss: 113.3712 - val_mae: 112.3715 - val_mse: 21368.5117\n",
            "Epoch 256/2000\n",
            "3/3 [==============================] - 0s 32ms/step - loss: 517.1083 - mae: 516.1090 - mse: 415238.3984 - val_loss: 418.9902 - val_mae: 417.9919 - val_mse: 194696.0625\n",
            "Epoch 257/2000\n",
            "3/3 [==============================] - 0s 30ms/step - loss: 499.4109 - mae: 498.4127 - mse: 359554.7344 - val_loss: 572.6997 - val_mae: 571.7031 - val_mse: 353807.9375\n",
            "Epoch 258/2000\n",
            "3/3 [==============================] - 0s 32ms/step - loss: 452.4895 - mae: 451.4929 - mse: 307242.0625 - val_loss: 1046.6477 - val_mae: 1045.6527 - val_mse: 1129445.5000\n",
            "Epoch 259/2000\n",
            "3/3 [==============================] - 0s 35ms/step - loss: 652.8389 - mae: 651.8440 - mse: 543992.6875 - val_loss: 683.0124 - val_mae: 682.0184 - val_mse: 486077.5625\n",
            "Epoch 260/2000\n",
            "3/3 [==============================] - 0s 34ms/step - loss: 615.5792 - mae: 614.5856 - mse: 499988.3047 - val_loss: 209.4006 - val_mae: 208.4083 - val_mse: 60136.2734\n",
            "Epoch 261/2000\n",
            "3/3 [==============================] - 0s 40ms/step - loss: 432.9274 - mae: 431.9353 - mse: 290670.8555 - val_loss: 754.0309 - val_mae: 753.0405 - val_mse: 595576.3125\n",
            "Epoch 262/2000\n",
            "3/3 [==============================] - 0s 32ms/step - loss: 441.7893 - mae: 440.7990 - mse: 295246.2812 - val_loss: 354.2247 - val_mae: 353.2358 - val_mse: 146111.9844\n",
            "Epoch 263/2000\n",
            "3/3 [==============================] - 0s 33ms/step - loss: 334.4535 - mae: 333.4649 - mse: 181476.0820 - val_loss: 139.3082 - val_mae: 138.3208 - val_mse: 32134.9590\n",
            "Epoch 264/2000\n",
            "3/3 [==============================] - 0s 30ms/step - loss: 354.6839 - mae: 353.6968 - mse: 196094.2383 - val_loss: 447.2859 - val_mae: 446.3000 - val_mse: 219086.1094\n",
            "Epoch 265/2000\n",
            "3/3 [==============================] - 0s 40ms/step - loss: 402.5071 - mae: 401.5214 - mse: 254723.9062 - val_loss: 148.4881 - val_mae: 147.5039 - val_mse: 30702.2031\n",
            "Epoch 266/2000\n",
            "3/3 [==============================] - 0s 30ms/step - loss: 309.4810 - mae: 308.4969 - mse: 152871.0234 - val_loss: 230.5450 - val_mae: 229.5619 - val_mse: 66853.9375\n",
            "Epoch 267/2000\n",
            "3/3 [==============================] - 0s 31ms/step - loss: 282.3059 - mae: 281.3229 - mse: 129344.0449 - val_loss: 176.4755 - val_mae: 175.4932 - val_mse: 41434.8516\n",
            "Epoch 268/2000\n",
            "3/3 [==============================] - 0s 33ms/step - loss: 286.8519 - mae: 285.8696 - mse: 132712.3594 - val_loss: 242.6359 - val_mae: 241.6545 - val_mse: 73333.4297\n",
            "Epoch 269/2000\n",
            "3/3 [==============================] - 0s 29ms/step - loss: 297.3956 - mae: 296.4142 - mse: 139997.1309 - val_loss: 468.7108 - val_mae: 467.7306 - val_mse: 243375.5469\n",
            "Epoch 270/2000\n",
            "3/3 [==============================] - 0s 40ms/step - loss: 335.7428 - mae: 334.7626 - mse: 179382.6367 - val_loss: 649.1874 - val_mae: 648.2086 - val_mse: 447388.0938\n",
            "Epoch 271/2000\n",
            "3/3 [==============================] - 0s 30ms/step - loss: 360.3511 - mae: 359.3724 - mse: 201731.2109 - val_loss: 473.5779 - val_mae: 472.6004 - val_mse: 247432.6562\n",
            "Epoch 272/2000\n",
            "3/3 [==============================] - 0s 32ms/step - loss: 294.5176 - mae: 293.5403 - mse: 138120.9922 - val_loss: 676.3047 - val_mae: 675.3287 - val_mse: 483066.6875\n",
            "Epoch 273/2000\n",
            "3/3 [==============================] - 0s 29ms/step - loss: 342.6879 - mae: 341.7121 - mse: 184788.6523 - val_loss: 678.4565 - val_mae: 677.4821 - val_mse: 485871.7188\n",
            "Epoch 274/2000\n",
            "3/3 [==============================] - 0s 33ms/step - loss: 343.9182 - mae: 342.9439 - mse: 187887.2031 - val_loss: 376.9985 - val_mae: 376.0253 - val_mse: 162898.8906\n",
            "Epoch 275/2000\n",
            "3/3 [==============================] - 0s 33ms/step - loss: 298.6027 - mae: 297.6296 - mse: 148271.4258 - val_loss: 112.9901 - val_mae: 112.0176 - val_mse: 21824.2793\n",
            "Epoch 276/2000\n",
            "3/3 [==============================] - 0s 31ms/step - loss: 347.8040 - mae: 346.8317 - mse: 185295.5469 - val_loss: 159.6139 - val_mae: 158.6423 - val_mse: 39508.8086\n",
            "Epoch 277/2000\n",
            "3/3 [==============================] - 0s 32ms/step - loss: 331.5258 - mae: 330.5545 - mse: 174524.4844 - val_loss: 286.9409 - val_mae: 285.9707 - val_mse: 100368.0234\n",
            "Epoch 278/2000\n",
            "3/3 [==============================] - 0s 28ms/step - loss: 406.6268 - mae: 405.6569 - mse: 247847.4609 - val_loss: 251.1335 - val_mae: 250.1650 - val_mse: 80331.8281\n",
            "Epoch 279/2000\n",
            "3/3 [==============================] - 0s 30ms/step - loss: 363.4213 - mae: 362.4531 - mse: 205764.4727 - val_loss: 109.2397 - val_mae: 108.2730 - val_mse: 19618.2461\n",
            "Epoch 280/2000\n",
            "3/3 [==============================] - 0s 34ms/step - loss: 316.2916 - mae: 315.3252 - mse: 160964.2383 - val_loss: 316.9243 - val_mae: 315.9592 - val_mse: 119032.6484\n",
            "Epoch 281/2000\n",
            "3/3 [==============================] - 0s 32ms/step - loss: 355.0102 - mae: 354.0452 - mse: 202774.4512 - val_loss: 684.2259 - val_mae: 683.2623 - val_mse: 493758.6562\n",
            "Epoch 282/2000\n",
            "3/3 [==============================] - 0s 30ms/step - loss: 358.5057 - mae: 357.5423 - mse: 197598.2266 - val_loss: 413.2347 - val_mae: 412.2722 - val_mse: 192634.2344\n",
            "Epoch 283/2000\n",
            "3/3 [==============================] - 0s 29ms/step - loss: 293.7888 - mae: 292.8264 - mse: 139803.9805 - val_loss: 155.7438 - val_mae: 154.7823 - val_mse: 37900.4688\n",
            "Epoch 284/2000\n",
            "3/3 [==============================] - 0s 34ms/step - loss: 691.7419 - mae: 690.7806 - mse: 812818.1250 - val_loss: 2278.6082 - val_mae: 2277.6472 - val_mse: 5243181.0000\n",
            "Epoch 285/2000\n",
            "3/3 [==============================] - 0s 28ms/step - loss: 1449.7724 - mae: 1448.8117 - mse: 2653281.3750 - val_loss: 2945.4578 - val_mae: 2944.4990 - val_mse: 8782809.0000\n",
            "Epoch 286/2000\n",
            "3/3 [==============================] - 0s 47ms/step - loss: 2018.9941 - mae: 2018.0356 - mse: 4370472.0000 - val_loss: 2506.0449 - val_mae: 2505.0854 - val_mse: 6339586.5000\n",
            "Epoch 287/2000\n",
            "3/3 [==============================] - 0s 32ms/step - loss: 1960.4201 - mae: 1959.4609 - mse: 4294884.0000 - val_loss: 2332.8228 - val_mae: 2331.8655 - val_mse: 5516892.0000\n",
            "Epoch 288/2000\n",
            "3/3 [==============================] - 0s 38ms/step - loss: 1981.5349 - mae: 1980.5778 - mse: 4294855.0000 - val_loss: 2856.3945 - val_mae: 2855.4377 - val_mse: 8259018.5000\n",
            "Epoch 289/2000\n",
            "3/3 [==============================] - 0s 32ms/step - loss: 1662.4985 - mae: 1661.5415 - mse: 3233074.8125 - val_loss: 2707.8823 - val_mae: 2706.9241 - val_mse: 7399603.0000\n",
            "Epoch 290/2000\n",
            "3/3 [==============================] - 0s 32ms/step - loss: 1666.3192 - mae: 1665.3610 - mse: 3269452.6250 - val_loss: 1961.8699 - val_mae: 1960.9132 - val_mse: 3906872.5000\n",
            "Epoch 291/2000\n",
            "3/3 [==============================] - 0s 32ms/step - loss: 1349.5522 - mae: 1348.5954 - mse: 2017155.9375 - val_loss: 1752.3484 - val_mae: 1751.3910 - val_mse: 3106775.0000\n",
            "Epoch 292/2000\n",
            "3/3 [==============================] - 0s 32ms/step - loss: 1409.6074 - mae: 1408.6500 - mse: 2277669.5000 - val_loss: 1653.1257 - val_mae: 1652.1700 - val_mse: 2779589.2500\n",
            "Epoch 293/2000\n",
            "3/3 [==============================] - 0s 32ms/step - loss: 1379.0191 - mae: 1378.0634 - mse: 2141733.4375 - val_loss: 1099.4502 - val_mae: 1098.4950 - val_mse: 1240841.7500\n",
            "Epoch 294/2000\n",
            "3/3 [==============================] - 0s 31ms/step - loss: 869.3654 - mae: 868.4100 - mse: 944370.0156 - val_loss: 646.4740 - val_mae: 645.5192 - val_mse: 437145.5312\n",
            "Epoch 295/2000\n",
            "3/3 [==============================] - 0s 30ms/step - loss: 743.0302 - mae: 742.0757 - mse: 771207.5391 - val_loss: 1675.7805 - val_mae: 1674.8275 - val_mse: 2855771.7500\n",
            "Epoch 296/2000\n",
            "3/3 [==============================] - 0s 34ms/step - loss: 908.5191 - mae: 907.5660 - mse: 1145240.7969 - val_loss: 1844.7645 - val_mae: 1843.8114 - val_mse: 3441898.2500\n",
            "Epoch 297/2000\n",
            "3/3 [==============================] - 0s 34ms/step - loss: 1015.4472 - mae: 1014.4944 - mse: 1463228.8750 - val_loss: 2110.6555 - val_mae: 2109.7043 - val_mse: 4518780.5000\n",
            "Epoch 298/2000\n",
            "3/3 [==============================] - 0s 32ms/step - loss: 1403.6761 - mae: 1402.7249 - mse: 2206621.8750 - val_loss: 1800.1345 - val_mae: 1799.1824 - val_mse: 3277008.0000\n",
            "Epoch 299/2000\n",
            "3/3 [==============================] - 0s 31ms/step - loss: 1427.6048 - mae: 1426.6527 - mse: 2350655.5625 - val_loss: 1524.9556 - val_mae: 1524.0048 - val_mse: 2370283.5000\n",
            "Epoch 300/2000\n",
            "3/3 [==============================] - 0s 31ms/step - loss: 1302.2491 - mae: 1301.2984 - mse: 1936410.5625 - val_loss: 1118.7888 - val_mae: 1117.8376 - val_mse: 1286319.3750\n",
            "Epoch 301/2000\n",
            "3/3 [==============================] - 0s 31ms/step - loss: 838.4131 - mae: 837.4616 - mse: 855968.0625 - val_loss: 607.7731 - val_mae: 606.8207 - val_mse: 388398.8438\n",
            "Epoch 302/2000\n",
            "3/3 [==============================] - 0s 31ms/step - loss: 722.7473 - mae: 721.7950 - mse: 715779.8750 - val_loss: 1506.1733 - val_mae: 1505.2213 - val_mse: 2314534.5000\n",
            "Epoch 303/2000\n",
            "3/3 [==============================] - 0s 32ms/step - loss: 836.1926 - mae: 835.2403 - mse: 972271.5000 - val_loss: 1708.4535 - val_mae: 1707.5001 - val_mse: 2951416.0000\n",
            "Epoch 304/2000\n",
            "3/3 [==============================] - 0s 30ms/step - loss: 903.5115 - mae: 902.5583 - mse: 1196288.8438 - val_loss: 1709.1783 - val_mae: 1708.2263 - val_mse: 2976000.5000\n",
            "Epoch 305/2000\n",
            "3/3 [==============================] - 0s 40ms/step - loss: 1101.8245 - mae: 1100.8724 - mse: 1416976.0625 - val_loss: 1103.4656 - val_mae: 1102.5127 - val_mse: 1239972.6250\n",
            "Epoch 306/2000\n",
            "3/3 [==============================] - 0s 39ms/step - loss: 632.2468 - mae: 631.2941 - mse: 597184.4219 - val_loss: 890.0738 - val_mae: 889.1218 - val_mse: 825118.9375\n",
            "Epoch 307/2000\n",
            "3/3 [==============================] - 0s 40ms/step - loss: 548.6458 - mae: 547.6937 - mse: 442942.0469 - val_loss: 339.1450 - val_mae: 338.1928 - val_mse: 134161.8750\n",
            "Epoch 308/2000\n",
            "3/3 [==============================] - 0s 32ms/step - loss: 420.0358 - mae: 419.0838 - mse: 270863.0352 - val_loss: 284.2735 - val_mae: 283.3215 - val_mse: 99395.6484\n",
            "Epoch 309/2000\n",
            "3/3 [==============================] - 0s 31ms/step - loss: 424.9674 - mae: 424.0153 - mse: 280163.0859 - val_loss: 487.7697 - val_mae: 486.8181 - val_mse: 261503.4375\n",
            "Epoch 310/2000\n",
            "3/3 [==============================] - 0s 33ms/step - loss: 347.7455 - mae: 346.7939 - mse: 190031.3828 - val_loss: 125.2233 - val_mae: 124.2719 - val_mse: 26772.5078\n",
            "Epoch 311/2000\n",
            "3/3 [==============================] - 0s 40ms/step - loss: 328.8658 - mae: 327.9146 - mse: 173615.8711 - val_loss: 219.0082 - val_mae: 218.0574 - val_mse: 64170.6992\n",
            "Epoch 312/2000\n",
            "3/3 [==============================] - 0s 34ms/step - loss: 332.6060 - mae: 331.6553 - mse: 173192.8125 - val_loss: 347.7165 - val_mae: 346.7666 - val_mse: 140590.1875\n",
            "Epoch 313/2000\n",
            "3/3 [==============================] - 0s 31ms/step - loss: 294.5618 - mae: 293.6120 - mse: 144501.0352 - val_loss: 285.4929 - val_mae: 284.5438 - val_mse: 98101.4844\n",
            "Epoch 314/2000\n",
            "3/3 [==============================] - 0s 31ms/step - loss: 297.3595 - mae: 296.4104 - mse: 141115.1328 - val_loss: 343.2953 - val_mae: 342.3470 - val_mse: 137523.7344\n",
            "Epoch 315/2000\n",
            "3/3 [==============================] - 0s 31ms/step - loss: 296.6609 - mae: 295.7127 - mse: 141057.9492 - val_loss: 337.3100 - val_mae: 336.3626 - val_mse: 133223.5000\n",
            "Epoch 316/2000\n",
            "3/3 [==============================] - 0s 39ms/step - loss: 285.9179 - mae: 284.9706 - mse: 135105.5859 - val_loss: 109.4256 - val_mae: 108.4790 - val_mse: 20338.2637\n",
            "Epoch 317/2000\n",
            "3/3 [==============================] - 0s 39ms/step - loss: 298.7137 - mae: 297.7673 - mse: 144033.3633 - val_loss: 354.5585 - val_mae: 353.6129 - val_mse: 144104.8594\n",
            "Epoch 318/2000\n",
            "3/3 [==============================] - 0s 32ms/step - loss: 384.4139 - mae: 383.4685 - mse: 231401.2773 - val_loss: 112.5649 - val_mae: 111.6205 - val_mse: 20078.9102\n",
            "Epoch 319/2000\n",
            "3/3 [==============================] - 0s 43ms/step - loss: 317.5361 - mae: 316.5918 - mse: 162005.8203 - val_loss: 623.9654 - val_mae: 623.0223 - val_mse: 414286.2500\n",
            "Epoch 320/2000\n",
            "3/3 [==============================] - 0s 33ms/step - loss: 372.1956 - mae: 371.2527 - mse: 214069.9336 - val_loss: 275.2403 - val_mae: 274.2982 - val_mse: 91763.6250\n",
            "Epoch 321/2000\n",
            "3/3 [==============================] - 0s 30ms/step - loss: 311.8962 - mae: 310.9544 - mse: 154546.1719 - val_loss: 159.3503 - val_mae: 158.4094 - val_mse: 39323.1758\n",
            "Epoch 322/2000\n",
            "3/3 [==============================] - 0s 35ms/step - loss: 308.6790 - mae: 307.7383 - mse: 156752.2109 - val_loss: 280.3683 - val_mae: 279.4287 - val_mse: 95022.3594\n",
            "Epoch 323/2000\n",
            "3/3 [==============================] - 0s 32ms/step - loss: 286.8145 - mae: 285.8750 - mse: 134875.4492 - val_loss: 382.6383 - val_mae: 381.7000 - val_mse: 167507.0625\n",
            "Epoch 324/2000\n",
            "3/3 [==============================] - 0s 31ms/step - loss: 285.4928 - mae: 284.5546 - mse: 131331.9863 - val_loss: 320.0224 - val_mae: 319.0852 - val_mse: 121091.9609\n",
            "Epoch 325/2000\n",
            "3/3 [==============================] - 0s 34ms/step - loss: 288.9072 - mae: 287.9702 - mse: 134037.0156 - val_loss: 282.5619 - val_mae: 281.6259 - val_mse: 96283.1797\n",
            "Epoch 326/2000\n",
            "3/3 [==============================] - 0s 42ms/step - loss: 279.7481 - mae: 278.8123 - mse: 128425.7539 - val_loss: 183.7422 - val_mae: 182.8073 - val_mse: 44141.4531\n",
            "Epoch 327/2000\n",
            "3/3 [==============================] - 0s 30ms/step - loss: 280.7104 - mae: 279.7757 - mse: 124364.9863 - val_loss: 170.5016 - val_mae: 169.5678 - val_mse: 43393.4531\n",
            "Epoch 328/2000\n",
            "3/3 [==============================] - 0s 42ms/step - loss: 331.5890 - mae: 330.6554 - mse: 171168.1211 - val_loss: 197.2677 - val_mae: 196.3351 - val_mse: 50206.1641\n",
            "Epoch 329/2000\n",
            "3/3 [==============================] - 0s 34ms/step - loss: 292.8687 - mae: 291.9364 - mse: 136464.1191 - val_loss: 515.2864 - val_mae: 514.3552 - val_mse: 288453.1562\n",
            "Epoch 330/2000\n",
            "3/3 [==============================] - 0s 34ms/step - loss: 330.4326 - mae: 329.5015 - mse: 171996.4258 - val_loss: 386.7737 - val_mae: 385.8436 - val_mse: 170223.8750\n",
            "Epoch 331/2000\n",
            "3/3 [==============================] - 0s 30ms/step - loss: 313.6236 - mae: 312.6936 - mse: 156365.9297 - val_loss: 106.8143 - val_mae: 105.8852 - val_mse: 19139.0195\n",
            "Epoch 332/2000\n",
            "3/3 [==============================] - 0s 33ms/step - loss: 313.1636 - mae: 312.2347 - mse: 159153.2031 - val_loss: 229.1218 - val_mae: 228.1938 - val_mse: 68667.8516\n",
            "Epoch 333/2000\n",
            "3/3 [==============================] - 0s 33ms/step - loss: 348.6718 - mae: 347.7440 - mse: 188837.6367 - val_loss: 215.0730 - val_mae: 214.1463 - val_mse: 58696.4258\n",
            "Epoch 334/2000\n",
            "3/3 [==============================] - 0s 38ms/step - loss: 310.3090 - mae: 309.3824 - mse: 152628.9922 - val_loss: 543.5431 - val_mae: 542.6177 - val_mse: 318777.7188\n",
            "Epoch 335/2000\n",
            "3/3 [==============================] - 0s 38ms/step - loss: 323.1523 - mae: 322.2270 - mse: 167453.6875 - val_loss: 429.0392 - val_mae: 428.1148 - val_mse: 205815.6250\n",
            "Epoch 336/2000\n",
            "3/3 [==============================] - 0s 31ms/step - loss: 307.4419 - mae: 306.5177 - mse: 149810.1758 - val_loss: 132.4937 - val_mae: 131.5704 - val_mse: 25228.2188\n",
            "Epoch 337/2000\n",
            "3/3 [==============================] - 0s 32ms/step - loss: 305.8672 - mae: 304.9440 - mse: 146629.1992 - val_loss: 268.4123 - val_mae: 267.4898 - val_mse: 89269.4375\n",
            "Epoch 338/2000\n",
            "3/3 [==============================] - 0s 31ms/step - loss: 340.9540 - mae: 340.0318 - mse: 176913.4219 - val_loss: 254.4332 - val_mae: 253.5117 - val_mse: 79441.5391\n",
            "Epoch 339/2000\n",
            "3/3 [==============================] - 0s 31ms/step - loss: 300.2307 - mae: 299.3093 - mse: 146720.7656 - val_loss: 360.5309 - val_mae: 359.6102 - val_mse: 149308.0156\n",
            "Epoch 340/2000\n",
            "3/3 [==============================] - 0s 32ms/step - loss: 272.7286 - mae: 271.8080 - mse: 123078.0605 - val_loss: 293.7701 - val_mae: 292.8502 - val_mse: 102904.3828\n",
            "Epoch 341/2000\n",
            "3/3 [==============================] - 0s 33ms/step - loss: 264.0929 - mae: 263.1730 - mse: 113840.9082 - val_loss: 258.6617 - val_mae: 257.7425 - val_mse: 81599.2969\n",
            "Epoch 342/2000\n",
            "3/3 [==============================] - 0s 41ms/step - loss: 270.3063 - mae: 269.3872 - mse: 121428.0000 - val_loss: 473.4629 - val_mae: 472.5437 - val_mse: 241729.0781\n",
            "Epoch 343/2000\n",
            "3/3 [==============================] - 0s 30ms/step - loss: 536.7522 - mae: 535.8330 - mse: 387320.4609 - val_loss: 740.8561 - val_mae: 739.9371 - val_mse: 574352.1250\n",
            "Epoch 344/2000\n",
            "3/3 [==============================] - 0s 32ms/step - loss: 447.4666 - mae: 446.5475 - mse: 290820.3984 - val_loss: 584.2607 - val_mae: 583.3411 - val_mse: 364375.1562\n",
            "Epoch 345/2000\n",
            "3/3 [==============================] - 0s 30ms/step - loss: 438.1152 - mae: 437.1955 - mse: 284085.1406 - val_loss: 590.3768 - val_mae: 589.4564 - val_mse: 366408.6562\n",
            "Epoch 346/2000\n",
            "3/3 [==============================] - 0s 33ms/step - loss: 432.5372 - mae: 431.6167 - mse: 291792.2969 - val_loss: 134.7331 - val_mae: 133.8122 - val_mse: 25712.7402\n",
            "Epoch 347/2000\n",
            "3/3 [==============================] - 0s 33ms/step - loss: 313.6591 - mae: 312.7380 - mse: 158377.3340 - val_loss: 437.3420 - val_mae: 436.4204 - val_mse: 212458.3906\n",
            "Epoch 348/2000\n",
            "3/3 [==============================] - 0s 41ms/step - loss: 338.3098 - mae: 337.3879 - mse: 182967.6484 - val_loss: 166.4532 - val_mae: 165.5303 - val_mse: 37026.1094\n",
            "Epoch 349/2000\n",
            "3/3 [==============================] - 0s 39ms/step - loss: 317.8598 - mae: 316.9368 - mse: 161454.7012 - val_loss: 187.7277 - val_mae: 186.8039 - val_mse: 49834.4297\n",
            "Epoch 350/2000\n",
            "3/3 [==============================] - 0s 31ms/step - loss: 304.8598 - mae: 303.9360 - mse: 149645.3008 - val_loss: 173.8117 - val_mae: 172.8878 - val_mse: 39956.1680\n",
            "Epoch 351/2000\n",
            "3/3 [==============================] - 0s 32ms/step - loss: 291.0767 - mae: 290.1528 - mse: 137686.7969 - val_loss: 467.7941 - val_mae: 466.8707 - val_mse: 240146.2344\n",
            "Epoch 352/2000\n",
            "3/3 [==============================] - 0s 32ms/step - loss: 314.3157 - mae: 313.3924 - mse: 166003.2539 - val_loss: 392.2765 - val_mae: 391.3539 - val_mse: 173897.6250\n",
            "Epoch 353/2000\n",
            "3/3 [==============================] - 0s 30ms/step - loss: 287.8901 - mae: 286.9676 - mse: 132252.1055 - val_loss: 400.5938 - val_mae: 399.6723 - val_mse: 180696.5781\n",
            "Epoch 354/2000\n",
            "3/3 [==============================] - 0s 32ms/step - loss: 296.9433 - mae: 296.0220 - mse: 146261.2852 - val_loss: 167.2568 - val_mae: 166.3365 - val_mse: 37229.8242\n",
            "Epoch 355/2000\n",
            "3/3 [==============================] - 0s 33ms/step - loss: 304.1702 - mae: 303.2501 - mse: 153344.9844 - val_loss: 123.2755 - val_mae: 122.3564 - val_mse: 25715.8867\n",
            "Epoch 356/2000\n",
            "3/3 [==============================] - 0s 33ms/step - loss: 298.9095 - mae: 297.9906 - mse: 140478.0078 - val_loss: 200.3308 - val_mae: 199.4127 - val_mse: 54973.3203\n",
            "Epoch 357/2000\n",
            "3/3 [==============================] - 0s 30ms/step - loss: 313.6285 - mae: 312.7107 - mse: 155611.0391 - val_loss: 226.4260 - val_mae: 225.5093 - val_mse: 64286.0312\n",
            "Epoch 358/2000\n",
            "3/3 [==============================] - 0s 40ms/step - loss: 290.1746 - mae: 289.2580 - mse: 134188.2559 - val_loss: 191.7207 - val_mae: 190.8048 - val_mse: 47606.9492\n",
            "Epoch 359/2000\n",
            "3/3 [==============================] - 0s 30ms/step - loss: 271.2859 - mae: 270.3700 - mse: 115095.9824 - val_loss: 225.8201 - val_mae: 224.9048 - val_mse: 63884.4844\n",
            "Epoch 360/2000\n",
            "3/3 [==============================] - 0s 31ms/step - loss: 270.3557 - mae: 269.4405 - mse: 116434.1602 - val_loss: 256.2492 - val_mae: 255.3346 - val_mse: 80176.1328\n",
            "Epoch 361/2000\n",
            "3/3 [==============================] - 0s 32ms/step - loss: 257.1668 - mae: 256.2522 - mse: 107438.1055 - val_loss: 117.0135 - val_mae: 116.0994 - val_mse: 23470.7441\n",
            "Epoch 362/2000\n",
            "3/3 [==============================] - 0s 35ms/step - loss: 320.8103 - mae: 319.8965 - mse: 159439.7656 - val_loss: 241.4271 - val_mae: 240.5136 - val_mse: 73951.6562\n",
            "Epoch 363/2000\n",
            "3/3 [==============================] - 0s 32ms/step - loss: 340.5597 - mae: 339.6463 - mse: 180349.2461 - val_loss: 218.5707 - val_mae: 217.6578 - val_mse: 59963.5547\n",
            "Epoch 364/2000\n",
            "3/3 [==============================] - 0s 31ms/step - loss: 300.5639 - mae: 299.6511 - mse: 146630.2559 - val_loss: 561.8106 - val_mae: 560.8983 - val_mse: 337372.3125\n",
            "Epoch 365/2000\n",
            "3/3 [==============================] - 0s 32ms/step - loss: 343.5580 - mae: 342.6458 - mse: 185944.1250 - val_loss: 365.0274 - val_mae: 364.1157 - val_mse: 151951.1719\n",
            "Epoch 366/2000\n",
            "3/3 [==============================] - 0s 41ms/step - loss: 311.4995 - mae: 310.5879 - mse: 154272.6484 - val_loss: 105.6814 - val_mae: 104.7703 - val_mse: 17738.5195\n",
            "Epoch 367/2000\n",
            "3/3 [==============================] - 0s 32ms/step - loss: 290.1199 - mae: 289.2089 - mse: 137404.5000 - val_loss: 111.0932 - val_mae: 110.1829 - val_mse: 21343.5605\n",
            "Epoch 368/2000\n",
            "3/3 [==============================] - 0s 31ms/step - loss: 352.5777 - mae: 351.6676 - mse: 267247.4883 - val_loss: 1179.0874 - val_mae: 1178.1777 - val_mse: 1425740.7500\n",
            "Epoch 369/2000\n",
            "3/3 [==============================] - 0s 33ms/step - loss: 1008.6208 - mae: 1007.7110 - mse: 1274090.9219 - val_loss: 419.0497 - val_mae: 418.1400 - val_mse: 197713.9531\n",
            "Epoch 370/2000\n",
            "3/3 [==============================] - 0s 33ms/step - loss: 481.4785 - mae: 480.5689 - mse: 347195.5430 - val_loss: 1072.6448 - val_mae: 1071.7346 - val_mse: 1171445.6250\n",
            "Epoch 371/2000\n",
            "3/3 [==============================] - 0s 35ms/step - loss: 793.5421 - mae: 792.6318 - mse: 817081.1719 - val_loss: 780.7684 - val_mae: 779.8585 - val_mse: 637362.8125\n",
            "Epoch 372/2000\n",
            "3/3 [==============================] - 0s 35ms/step - loss: 483.5626 - mae: 482.6526 - mse: 345066.3828 - val_loss: 195.6772 - val_mae: 194.7668 - val_mse: 53441.4805\n",
            "Epoch 373/2000\n",
            "3/3 [==============================] - 0s 30ms/step - loss: 382.8760 - mae: 381.9657 - mse: 230215.8945 - val_loss: 464.0417 - val_mae: 463.1311 - val_mse: 232474.8281\n",
            "Epoch 374/2000\n",
            "3/3 [==============================] - 0s 32ms/step - loss: 426.9284 - mae: 426.0178 - mse: 275871.5625 - val_loss: 521.4006 - val_mae: 520.4905 - val_mse: 293937.6875\n",
            "Epoch 375/2000\n",
            "3/3 [==============================] - 0s 32ms/step - loss: 391.2840 - mae: 390.3738 - mse: 238357.9336 - val_loss: 414.4611 - val_mae: 413.5512 - val_mse: 191921.1094\n",
            "Epoch 376/2000\n",
            "3/3 [==============================] - 0s 40ms/step - loss: 339.7089 - mae: 338.7991 - mse: 191260.9062 - val_loss: 405.6728 - val_mae: 404.7632 - val_mse: 181324.9688\n",
            "Epoch 377/2000\n",
            "3/3 [==============================] - 0s 32ms/step - loss: 381.2333 - mae: 380.3239 - mse: 223357.0742 - val_loss: 140.5261 - val_mae: 139.6174 - val_mse: 31601.9355\n",
            "Epoch 378/2000\n",
            "3/3 [==============================] - 0s 34ms/step - loss: 335.5504 - mae: 334.6417 - mse: 175847.0000 - val_loss: 447.6208 - val_mae: 446.7129 - val_mse: 220350.9531\n",
            "Epoch 379/2000\n",
            "3/3 [==============================] - 0s 33ms/step - loss: 328.6908 - mae: 327.7830 - mse: 171952.4336 - val_loss: 334.1170 - val_mae: 333.2095 - val_mse: 129377.8203\n",
            "Epoch 380/2000\n",
            "3/3 [==============================] - 0s 33ms/step - loss: 658.6600 - mae: 657.7526 - mse: 758209.0469 - val_loss: 1113.6165 - val_mae: 1112.7085 - val_mse: 1262396.3750\n",
            "Epoch 381/2000\n",
            "3/3 [==============================] - 0s 30ms/step - loss: 939.0474 - mae: 938.1394 - mse: 1089552.4375 - val_loss: 1574.8323 - val_mae: 1573.9253 - val_mse: 2524352.7500\n",
            "Epoch 382/2000\n",
            "3/3 [==============================] - 0s 41ms/step - loss: 1233.8728 - mae: 1232.9660 - mse: 1699472.3438 - val_loss: 296.8533 - val_mae: 295.9462 - val_mse: 105019.6719\n",
            "Epoch 383/2000\n",
            "3/3 [==============================] - 0s 34ms/step - loss: 690.3490 - mae: 689.4417 - mse: 817308.4570 - val_loss: 334.8851 - val_mae: 333.9781 - val_mse: 129188.8672\n",
            "Epoch 384/2000\n",
            "3/3 [==============================] - 0s 30ms/step - loss: 695.1887 - mae: 694.2819 - mse: 737520.6172 - val_loss: 1944.0154 - val_mae: 1943.1096 - val_mse: 3836040.0000\n",
            "Epoch 385/2000\n",
            "3/3 [==============================] - 0s 33ms/step - loss: 1121.4868 - mae: 1120.5809 - mse: 1538420.8438 - val_loss: 1958.9257 - val_mae: 1958.0192 - val_mse: 3877287.2500\n",
            "Epoch 386/2000\n",
            "3/3 [==============================] - 0s 39ms/step - loss: 1169.6747 - mae: 1168.7684 - mse: 1737409.5938 - val_loss: 1819.3430 - val_mae: 1818.4385 - val_mse: 3363362.0000\n",
            "Epoch 387/2000\n",
            "3/3 [==============================] - 0s 32ms/step - loss: 1233.2991 - mae: 1232.3947 - mse: 1703347.3750 - val_loss: 1805.6708 - val_mae: 1804.7659 - val_mse: 3295967.2500\n",
            "Epoch 388/2000\n",
            "3/3 [==============================] - 0s 32ms/step - loss: 1342.8745 - mae: 1341.9697 - mse: 2095748.5625 - val_loss: 1231.6066 - val_mae: 1230.7034 - val_mse: 1552608.6250\n",
            "Epoch 389/2000\n",
            "3/3 [==============================] - 0s 33ms/step - loss: 978.2935 - mae: 977.3905 - mse: 1108293.6094 - val_loss: 565.7804 - val_mae: 564.8773 - val_mse: 337961.5625\n",
            "Epoch 390/2000\n",
            "3/3 [==============================] - 0s 32ms/step - loss: 617.0266 - mae: 616.1235 - mse: 545592.4922 - val_loss: 1074.7847 - val_mae: 1073.8826 - val_mse: 1186288.8750\n",
            "Epoch 391/2000\n",
            "3/3 [==============================] - 0s 34ms/step - loss: 793.4112 - mae: 792.5092 - mse: 769441.4844 - val_loss: 955.9674 - val_mae: 955.0650 - val_mse: 934762.7500\n",
            "Epoch 392/2000\n",
            "3/3 [==============================] - 0s 34ms/step - loss: 764.6518 - mae: 763.7494 - mse: 754486.3438 - val_loss: 4445.3193 - val_mae: 4444.4175 - val_mse: 19977678.0000\n",
            "Epoch 393/2000\n",
            "3/3 [==============================] - 0s 33ms/step - loss: 2272.2460 - mae: 2271.3445 - mse: 7118595.6250 - val_loss: 1006.9235 - val_mae: 1006.0215 - val_mse: 1036134.5625\n",
            "Epoch 394/2000\n",
            "3/3 [==============================] - 0s 32ms/step - loss: 734.3927 - mae: 733.4906 - mse: 711568.8594 - val_loss: 936.3886 - val_mae: 935.4871 - val_mse: 902980.0000\n",
            "Epoch 395/2000\n",
            "3/3 [==============================] - 0s 31ms/step - loss: 530.8976 - mae: 529.9961 - mse: 416372.7188 - val_loss: 506.5108 - val_mae: 505.6095 - val_mse: 274339.0625\n",
            "Epoch 396/2000\n",
            "3/3 [==============================] - 0s 39ms/step - loss: 470.6435 - mae: 469.7425 - mse: 319447.8438 - val_loss: 118.7101 - val_mae: 117.8098 - val_mse: 23967.6309\n",
            "Epoch 397/2000\n",
            "3/3 [==============================] - 0s 31ms/step - loss: 369.3371 - mae: 368.4368 - mse: 211098.1328 - val_loss: 505.6600 - val_mae: 504.7603 - val_mse: 277173.4375\n",
            "Epoch 398/2000\n",
            "3/3 [==============================] - 0s 31ms/step - loss: 365.0861 - mae: 364.1864 - mse: 216019.0430 - val_loss: 205.7473 - val_mae: 204.8474 - val_mse: 57430.0586\n",
            "Epoch 399/2000\n",
            "3/3 [==============================] - 0s 31ms/step - loss: 333.9358 - mae: 333.0360 - mse: 175217.7695 - val_loss: 125.1841 - val_mae: 124.2845 - val_mse: 26497.1895\n",
            "Epoch 400/2000\n",
            "3/3 [==============================] - 0s 33ms/step - loss: 324.9846 - mae: 324.0850 - mse: 166430.1875 - val_loss: 266.8230 - val_mae: 265.9240 - val_mse: 87202.6016\n",
            "Epoch 401/2000\n",
            "3/3 [==============================] - 0s 33ms/step - loss: 308.6592 - mae: 307.7602 - mse: 151943.0859 - val_loss: 294.6743 - val_mae: 293.7759 - val_mse: 104242.7578\n",
            "Epoch 402/2000\n",
            "3/3 [==============================] - 0s 31ms/step - loss: 312.4262 - mae: 311.5279 - mse: 157952.1719 - val_loss: 178.9017 - val_mae: 178.0039 - val_mse: 42180.1992\n",
            "Epoch 403/2000\n",
            "3/3 [==============================] - 0s 35ms/step - loss: 301.3520 - mae: 300.4543 - mse: 150198.6680 - val_loss: 132.6972 - val_mae: 131.8000 - val_mse: 29134.2363\n",
            "Epoch 404/2000\n",
            "3/3 [==============================] - 0s 31ms/step - loss: 297.9627 - mae: 297.0656 - mse: 145883.3086 - val_loss: 134.6509 - val_mae: 133.7545 - val_mse: 25579.9551\n",
            "Epoch 405/2000\n",
            "3/3 [==============================] - 0s 32ms/step - loss: 275.7318 - mae: 274.8355 - mse: 120619.7949 - val_loss: 165.3806 - val_mae: 164.4851 - val_mse: 36401.4883\n",
            "Epoch 406/2000\n",
            "3/3 [==============================] - 0s 34ms/step - loss: 284.6931 - mae: 283.7977 - mse: 134328.9883 - val_loss: 127.3301 - val_mae: 126.4354 - val_mse: 23249.9395\n",
            "Epoch 407/2000\n",
            "3/3 [==============================] - 0s 33ms/step - loss: 289.7020 - mae: 288.8075 - mse: 131851.5859 - val_loss: 129.7315 - val_mae: 128.8376 - val_mse: 24025.6289\n",
            "Epoch 408/2000\n",
            "3/3 [==============================] - 0s 31ms/step - loss: 285.5331 - mae: 284.6393 - mse: 135032.2734 - val_loss: 126.1044 - val_mae: 125.2113 - val_mse: 23075.3418\n",
            "Epoch 409/2000\n",
            "3/3 [==============================] - 0s 32ms/step - loss: 279.6518 - mae: 278.7589 - mse: 124147.7461 - val_loss: 144.0539 - val_mae: 143.1617 - val_mse: 28747.9023\n",
            "Epoch 410/2000\n",
            "3/3 [==============================] - 0s 32ms/step - loss: 271.9656 - mae: 271.0736 - mse: 122582.7383 - val_loss: 109.1479 - val_mae: 108.2566 - val_mse: 18765.6680\n",
            "Epoch 411/2000\n",
            "3/3 [==============================] - 0s 31ms/step - loss: 274.1740 - mae: 273.2829 - mse: 122492.4258 - val_loss: 240.4912 - val_mae: 239.6009 - val_mse: 71779.3906\n",
            "Epoch 412/2000\n",
            "3/3 [==============================] - 0s 41ms/step - loss: 300.9448 - mae: 300.0546 - mse: 148274.2578 - val_loss: 305.1197 - val_mae: 304.2303 - val_mse: 110454.2266\n",
            "Epoch 413/2000\n",
            "3/3 [==============================] - 0s 31ms/step - loss: 288.2537 - mae: 287.3645 - mse: 135783.8281 - val_loss: 119.3117 - val_mae: 118.4232 - val_mse: 20971.3203\n",
            "Epoch 414/2000\n",
            "3/3 [==============================] - 0s 32ms/step - loss: 306.7012 - mae: 305.8128 - mse: 150282.0117 - val_loss: 164.4862 - val_mae: 163.5985 - val_mse: 40038.7930\n",
            "Epoch 415/2000\n",
            "3/3 [==============================] - 0s 42ms/step - loss: 319.3744 - mae: 318.4869 - mse: 158129.6172 - val_loss: 178.2062 - val_mae: 177.3196 - val_mse: 41425.6094\n",
            "Epoch 416/2000\n",
            "3/3 [==============================] - 0s 41ms/step - loss: 320.9377 - mae: 320.0512 - mse: 166057.3242 - val_loss: 470.8112 - val_mae: 469.9256 - val_mse: 242157.0781\n",
            "Epoch 417/2000\n",
            "3/3 [==============================] - 0s 30ms/step - loss: 342.5231 - mae: 341.6376 - mse: 197066.6445 - val_loss: 187.4477 - val_mae: 186.5630 - val_mse: 45398.5859\n",
            "Epoch 418/2000\n",
            "3/3 [==============================] - 0s 41ms/step - loss: 308.6630 - mae: 307.7785 - mse: 153333.5117 - val_loss: 300.9938 - val_mae: 300.1099 - val_mse: 107043.1406\n",
            "Epoch 419/2000\n",
            "3/3 [==============================] - 0s 30ms/step - loss: 329.4445 - mae: 328.5608 - mse: 176772.4062 - val_loss: 249.6108 - val_mae: 248.7280 - val_mse: 76312.1719\n",
            "Epoch 420/2000\n",
            "3/3 [==============================] - 0s 31ms/step - loss: 331.3996 - mae: 330.5169 - mse: 177313.1094 - val_loss: 244.4305 - val_mae: 243.5487 - val_mse: 73363.5703\n",
            "Epoch 421/2000\n",
            "3/3 [==============================] - 0s 41ms/step - loss: 296.8532 - mae: 295.9715 - mse: 143891.6875 - val_loss: 112.0351 - val_mae: 111.1542 - val_mse: 19076.4023\n",
            "Epoch 422/2000\n",
            "3/3 [==============================] - 0s 31ms/step - loss: 281.8018 - mae: 280.9210 - mse: 134632.8633 - val_loss: 104.9310 - val_mae: 104.0510 - val_mse: 17784.8965\n",
            "Epoch 423/2000\n",
            "3/3 [==============================] - 0s 34ms/step - loss: 275.3922 - mae: 274.5123 - mse: 126881.5391 - val_loss: 254.4068 - val_mae: 253.5278 - val_mse: 79033.5547\n",
            "Epoch 424/2000\n",
            "3/3 [==============================] - 0s 44ms/step - loss: 283.7743 - mae: 282.8953 - mse: 127444.1348 - val_loss: 352.3010 - val_mae: 351.4229 - val_mse: 143112.6562\n",
            "Epoch 425/2000\n",
            "3/3 [==============================] - 0s 33ms/step - loss: 293.6087 - mae: 292.7307 - mse: 136680.5273 - val_loss: 191.3471 - val_mae: 190.4698 - val_mse: 47079.2500\n",
            "Epoch 426/2000\n",
            "3/3 [==============================] - 0s 40ms/step - loss: 294.4846 - mae: 293.6075 - mse: 140109.5781 - val_loss: 117.7910 - val_mae: 116.9146 - val_mse: 20468.0430\n",
            "Epoch 427/2000\n",
            "3/3 [==============================] - 0s 30ms/step - loss: 277.5037 - mae: 276.6275 - mse: 121636.2441 - val_loss: 179.1793 - val_mae: 178.3038 - val_mse: 41660.0312\n",
            "Epoch 428/2000\n",
            "3/3 [==============================] - 0s 28ms/step - loss: 285.0332 - mae: 284.1578 - mse: 132680.5234 - val_loss: 249.2710 - val_mae: 248.3965 - val_mse: 75645.8906\n",
            "Epoch 429/2000\n",
            "3/3 [==============================] - 0s 41ms/step - loss: 288.0065 - mae: 287.1320 - mse: 134102.3398 - val_loss: 305.0690 - val_mae: 304.1954 - val_mse: 109258.4688\n",
            "Epoch 430/2000\n",
            "3/3 [==============================] - 0s 32ms/step - loss: 293.3129 - mae: 292.4393 - mse: 138863.9727 - val_loss: 100.0460 - val_mae: 99.1732 - val_mse: 17014.1094\n",
            "Epoch 431/2000\n",
            "3/3 [==============================] - 0s 33ms/step - loss: 292.8501 - mae: 291.9774 - mse: 142246.5859 - val_loss: 263.7054 - val_mae: 262.8336 - val_mse: 83733.9688\n",
            "Epoch 432/2000\n",
            "3/3 [==============================] - 0s 32ms/step - loss: 276.6897 - mae: 275.8179 - mse: 128144.4980 - val_loss: 191.6122 - val_mae: 190.7412 - val_mse: 46901.1367\n",
            "Epoch 433/2000\n",
            "3/3 [==============================] - 0s 39ms/step - loss: 277.0041 - mae: 276.1332 - mse: 124497.3184 - val_loss: 103.2243 - val_mae: 102.3542 - val_mse: 18535.8496\n",
            "Epoch 434/2000\n",
            "3/3 [==============================] - 0s 33ms/step - loss: 289.1171 - mae: 288.2470 - mse: 131887.7930 - val_loss: 119.5845 - val_mae: 118.7152 - val_mse: 24586.2090\n",
            "Epoch 435/2000\n",
            "3/3 [==============================] - 0s 42ms/step - loss: 297.8777 - mae: 297.0085 - mse: 144392.0781 - val_loss: 145.3406 - val_mae: 144.4722 - val_mse: 28854.7031\n",
            "Epoch 436/2000\n",
            "3/3 [==============================] - 0s 32ms/step - loss: 288.6383 - mae: 287.7700 - mse: 133057.4570 - val_loss: 154.7861 - val_mae: 153.9186 - val_mse: 32179.5449\n",
            "Epoch 437/2000\n",
            "3/3 [==============================] - 0s 34ms/step - loss: 276.6515 - mae: 275.7841 - mse: 123200.7656 - val_loss: 374.2797 - val_mae: 373.4131 - val_mse: 159411.4219\n",
            "Epoch 438/2000\n",
            "3/3 [==============================] - 0s 33ms/step - loss: 303.9293 - mae: 303.0628 - mse: 149070.5195 - val_loss: 161.8176 - val_mae: 160.9517 - val_mse: 34729.5117\n",
            "Epoch 439/2000\n",
            "3/3 [==============================] - 0s 34ms/step - loss: 273.0929 - mae: 272.2271 - mse: 123396.7871 - val_loss: 112.0713 - val_mae: 111.2059 - val_mse: 18878.9805\n",
            "Epoch 440/2000\n",
            "3/3 [==============================] - 0s 40ms/step - loss: 270.9892 - mae: 270.1240 - mse: 114630.9316 - val_loss: 203.7528 - val_mae: 202.8879 - val_mse: 55433.1445\n",
            "Epoch 441/2000\n",
            "3/3 [==============================] - 0s 31ms/step - loss: 312.9273 - mae: 312.0625 - mse: 158526.3242 - val_loss: 137.8890 - val_mae: 137.0247 - val_mse: 30284.8945\n",
            "Epoch 442/2000\n",
            "3/3 [==============================] - 0s 44ms/step - loss: 297.7333 - mae: 296.8691 - mse: 142376.3828 - val_loss: 121.1241 - val_mae: 120.2605 - val_mse: 21052.2070\n",
            "Epoch 443/2000\n",
            "3/3 [==============================] - 0s 34ms/step - loss: 292.0002 - mae: 291.1366 - mse: 134409.4258 - val_loss: 220.4073 - val_mae: 219.5444 - val_mse: 60273.4570\n",
            "Epoch 444/2000\n",
            "3/3 [==============================] - 0s 31ms/step - loss: 263.4585 - mae: 262.5957 - mse: 111707.0508 - val_loss: 196.4823 - val_mae: 195.6202 - val_mse: 49015.4727\n",
            "Epoch 445/2000\n",
            "3/3 [==============================] - 0s 35ms/step - loss: 274.4843 - mae: 273.6224 - mse: 117284.6406 - val_loss: 133.1269 - val_mae: 132.2656 - val_mse: 24599.7227\n",
            "Epoch 446/2000\n",
            "3/3 [==============================] - 0s 41ms/step - loss: 271.4585 - mae: 270.5973 - mse: 115441.6113 - val_loss: 158.1661 - val_mae: 157.3057 - val_mse: 33210.7344\n",
            "Epoch 447/2000\n",
            "3/3 [==============================] - 0s 40ms/step - loss: 274.0136 - mae: 273.1533 - mse: 118368.3574 - val_loss: 190.6064 - val_mae: 189.7469 - val_mse: 46590.9023\n",
            "Epoch 448/2000\n",
            "3/3 [==============================] - 0s 30ms/step - loss: 276.8086 - mae: 275.9492 - mse: 122856.4668 - val_loss: 181.7594 - val_mae: 180.9008 - val_mse: 42737.7031\n",
            "Epoch 449/2000\n",
            "3/3 [==============================] - 0s 33ms/step - loss: 265.4801 - mae: 264.6215 - mse: 113127.4199 - val_loss: 131.9660 - val_mae: 131.1076 - val_mse: 28641.9180\n",
            "Epoch 450/2000\n",
            "3/3 [==============================] - 0s 33ms/step - loss: 292.0734 - mae: 291.2151 - mse: 137563.8320 - val_loss: 110.4795 - val_mae: 109.6214 - val_mse: 21355.9453\n",
            "Epoch 451/2000\n",
            "3/3 [==============================] - 0s 31ms/step - loss: 279.6902 - mae: 278.8322 - mse: 125824.3281 - val_loss: 445.3873 - val_mae: 444.5300 - val_mse: 217237.8906\n",
            "Epoch 452/2000\n",
            "3/3 [==============================] - 0s 33ms/step - loss: 322.5538 - mae: 321.6965 - mse: 165124.6250 - val_loss: 271.8768 - val_mae: 271.0199 - val_mse: 88306.9375\n",
            "Epoch 453/2000\n",
            "3/3 [==============================] - 0s 33ms/step - loss: 281.0403 - mae: 280.1834 - mse: 128659.3633 - val_loss: 138.2964 - val_mae: 137.4397 - val_mse: 30163.6836\n",
            "Epoch 454/2000\n",
            "3/3 [==============================] - 0s 32ms/step - loss: 311.2648 - mae: 310.4083 - mse: 151418.2109 - val_loss: 217.5746 - val_mae: 216.7185 - val_mse: 61024.2070\n",
            "Epoch 455/2000\n",
            "3/3 [==============================] - 0s 34ms/step - loss: 326.6943 - mae: 325.8384 - mse: 169675.5352 - val_loss: 177.5378 - val_mae: 176.6826 - val_mse: 40696.7461\n",
            "Epoch 456/2000\n",
            "3/3 [==============================] - 0s 30ms/step - loss: 276.8640 - mae: 276.0089 - mse: 123465.5098 - val_loss: 646.9309 - val_mae: 646.0768 - val_mse: 439621.7812\n",
            "Epoch 457/2000\n",
            "3/3 [==============================] - 0s 31ms/step - loss: 376.4008 - mae: 375.5467 - mse: 219991.6875 - val_loss: 105.4420 - val_mae: 104.5883 - val_mse: 19464.6426\n",
            "Epoch 458/2000\n",
            "3/3 [==============================] - 0s 40ms/step - loss: 334.1841 - mae: 333.3306 - mse: 172982.0410 - val_loss: 892.1897 - val_mae: 891.3364 - val_mse: 814078.8750\n",
            "Epoch 459/2000\n",
            "3/3 [==============================] - 0s 31ms/step - loss: 564.7310 - mae: 563.8779 - mse: 472251.2812 - val_loss: 655.9960 - val_mae: 655.1436 - val_mse: 452659.2500\n",
            "Epoch 460/2000\n",
            "3/3 [==============================] - 0s 33ms/step - loss: 471.8936 - mae: 471.0412 - mse: 322934.0156 - val_loss: 561.9755 - val_mae: 561.1237 - val_mse: 337146.5938\n",
            "Epoch 461/2000\n",
            "3/3 [==============================] - 0s 33ms/step - loss: 437.1998 - mae: 436.3480 - mse: 278518.9219 - val_loss: 312.1998 - val_mae: 311.3482 - val_mse: 112943.5781\n",
            "Epoch 462/2000\n",
            "3/3 [==============================] - 0s 33ms/step - loss: 343.6386 - mae: 342.7872 - mse: 186761.4492 - val_loss: 157.5463 - val_mae: 156.6955 - val_mse: 32978.5312\n",
            "Epoch 463/2000\n",
            "3/3 [==============================] - 0s 33ms/step - loss: 614.5424 - mae: 613.6917 - mse: 673044.3047 - val_loss: 1539.3845 - val_mae: 1538.5353 - val_mse: 2410190.0000\n",
            "Epoch 464/2000\n",
            "3/3 [==============================] - 0s 34ms/step - loss: 1224.1626 - mae: 1223.3137 - mse: 1714918.6250 - val_loss: 568.9022 - val_mae: 568.0536 - val_mse: 340356.6875\n",
            "Epoch 465/2000\n",
            "3/3 [==============================] - 0s 41ms/step - loss: 439.3904 - mae: 438.5419 - mse: 294459.7578 - val_loss: 151.5779 - val_mae: 150.7297 - val_mse: 30837.2793\n",
            "Epoch 466/2000\n",
            "3/3 [==============================] - 0s 32ms/step - loss: 379.7183 - mae: 378.8701 - mse: 240412.5977 - val_loss: 694.0392 - val_mae: 693.1913 - val_mse: 502299.5000\n",
            "Epoch 467/2000\n",
            "3/3 [==============================] - 0s 40ms/step - loss: 412.5011 - mae: 411.6531 - mse: 257070.9297 - val_loss: 149.2035 - val_mae: 148.3549 - val_mse: 33668.0703\n",
            "Epoch 468/2000\n",
            "3/3 [==============================] - 0s 40ms/step - loss: 362.6136 - mae: 361.7650 - mse: 206307.3945 - val_loss: 569.1915 - val_mae: 568.3420 - val_mse: 340068.5625\n",
            "Epoch 469/2000\n",
            "3/3 [==============================] - 0s 31ms/step - loss: 445.3099 - mae: 444.4604 - mse: 294335.2891 - val_loss: 513.5576 - val_mae: 512.7081 - val_mse: 283887.3438\n",
            "Epoch 470/2000\n",
            "3/3 [==============================] - 0s 34ms/step - loss: 403.8817 - mae: 403.0321 - mse: 241137.9922 - val_loss: 617.9316 - val_mae: 617.0821 - val_mse: 403607.2188\n",
            "Epoch 471/2000\n",
            "3/3 [==============================] - 0s 32ms/step - loss: 442.3463 - mae: 441.4968 - mse: 287367.0234 - val_loss: 520.4587 - val_mae: 519.6089 - val_mse: 286651.3125\n",
            "Epoch 472/2000\n",
            "3/3 [==============================] - 0s 35ms/step - loss: 414.1502 - mae: 413.3006 - mse: 265432.6250 - val_loss: 99.7592 - val_mae: 98.9099 - val_mse: 17212.6113\n",
            "Epoch 473/2000\n",
            "3/3 [==============================] - 0s 39ms/step - loss: 309.1752 - mae: 308.3259 - mse: 159231.0000 - val_loss: 448.9189 - val_mae: 448.0703 - val_mse: 220641.7188\n",
            "Epoch 474/2000\n",
            "3/3 [==============================] - 0s 31ms/step - loss: 337.0716 - mae: 336.2229 - mse: 177780.6680 - val_loss: 1459.1445 - val_mae: 1458.2964 - val_mse: 2169426.0000\n",
            "Epoch 475/2000\n",
            "3/3 [==============================] - 0s 40ms/step - loss: 903.2498 - mae: 902.4016 - mse: 987983.4062 - val_loss: 976.8936 - val_mae: 976.0452 - val_mse: 973355.6875\n",
            "Epoch 476/2000\n",
            "3/3 [==============================] - 0s 33ms/step - loss: 587.8488 - mae: 587.0007 - mse: 516882.2266 - val_loss: 374.8665 - val_mae: 374.0190 - val_mse: 158525.7656\n",
            "Epoch 477/2000\n",
            "3/3 [==============================] - 0s 32ms/step - loss: 395.0843 - mae: 394.2367 - mse: 238087.3281 - val_loss: 677.7933 - val_mae: 676.9464 - val_mse: 480966.0000\n",
            "Epoch 478/2000\n",
            "3/3 [==============================] - 0s 33ms/step - loss: 485.6909 - mae: 484.8440 - mse: 337212.7656 - val_loss: 407.3779 - val_mae: 406.5312 - val_mse: 181566.4688\n",
            "Epoch 479/2000\n",
            "3/3 [==============================] - 0s 32ms/step - loss: 390.5905 - mae: 389.7440 - mse: 230459.6328 - val_loss: 215.6918 - val_mae: 214.8458 - val_mse: 60246.9297\n",
            "Epoch 480/2000\n",
            "3/3 [==============================] - 0s 33ms/step - loss: 325.9210 - mae: 325.0751 - mse: 169716.8594 - val_loss: 265.3455 - val_mae: 264.5000 - val_mse: 84424.0078\n",
            "Epoch 481/2000\n",
            "3/3 [==============================] - 0s 40ms/step - loss: 339.7013 - mae: 338.8557 - mse: 178361.4336 - val_loss: 333.9799 - val_mae: 333.1340 - val_mse: 128302.9297\n",
            "Epoch 482/2000\n",
            "3/3 [==============================] - 0s 34ms/step - loss: 308.1115 - mae: 307.2655 - mse: 154323.2617 - val_loss: 149.0715 - val_mae: 148.2242 - val_mse: 29810.2129\n",
            "Epoch 483/2000\n",
            "3/3 [==============================] - 0s 46ms/step - loss: 281.7523 - mae: 280.9047 - mse: 131308.1445 - val_loss: 240.8792 - val_mae: 240.0300 - val_mse: 72107.6406\n",
            "Epoch 484/2000\n",
            "3/3 [==============================] - 0s 44ms/step - loss: 333.8765 - mae: 333.0271 - mse: 177618.4102 - val_loss: 125.8842 - val_mae: 125.0332 - val_mse: 22243.2363\n",
            "Epoch 485/2000\n",
            "3/3 [==============================] - 0s 33ms/step - loss: 274.9521 - mae: 274.1008 - mse: 121553.5762 - val_loss: 151.7402 - val_mae: 150.8873 - val_mse: 30706.9062\n",
            "Epoch 486/2000\n",
            "3/3 [==============================] - 0s 31ms/step - loss: 271.8006 - mae: 270.9474 - mse: 119836.5762 - val_loss: 132.6900 - val_mae: 131.8353 - val_mse: 28315.7969\n",
            "Epoch 487/2000\n",
            "3/3 [==============================] - 0s 32ms/step - loss: 300.0172 - mae: 299.1623 - mse: 142741.8398 - val_loss: 163.9090 - val_mae: 163.0529 - val_mse: 39048.5625\n",
            "Epoch 488/2000\n",
            "3/3 [==============================] - 0s 32ms/step - loss: 295.9914 - mae: 295.1352 - mse: 136577.9258 - val_loss: 149.8037 - val_mae: 148.9467 - val_mse: 29959.9551\n",
            "Epoch 489/2000\n",
            "3/3 [==============================] - 0s 42ms/step - loss: 275.4052 - mae: 274.5481 - mse: 128329.3047 - val_loss: 185.7330 - val_mae: 184.8754 - val_mse: 44127.8086\n",
            "Epoch 490/2000\n",
            "3/3 [==============================] - 0s 33ms/step - loss: 281.9240 - mae: 281.0664 - mse: 125423.5781 - val_loss: 279.9550 - val_mae: 279.0973 - val_mse: 93013.1641\n",
            "Epoch 491/2000\n",
            "3/3 [==============================] - 0s 31ms/step - loss: 287.0354 - mae: 286.1777 - mse: 132420.9922 - val_loss: 468.7325 - val_mae: 467.8749 - val_mse: 238326.4688\n",
            "Epoch 492/2000\n",
            "3/3 [==============================] - 0s 33ms/step - loss: 308.3349 - mae: 307.4772 - mse: 152597.5664 - val_loss: 159.2824 - val_mae: 158.4246 - val_mse: 33420.3203\n",
            "Epoch 493/2000\n",
            "3/3 [==============================] - 0s 33ms/step - loss: 290.6656 - mae: 289.8078 - mse: 137734.7852 - val_loss: 291.0921 - val_mae: 290.2341 - val_mse: 99368.9531\n",
            "Epoch 494/2000\n",
            "3/3 [==============================] - 0s 41ms/step - loss: 315.3865 - mae: 314.5286 - mse: 158305.2930 - val_loss: 190.2531 - val_mae: 189.3954 - val_mse: 46020.6172\n",
            "Epoch 495/2000\n",
            "3/3 [==============================] - 0s 41ms/step - loss: 303.2220 - mae: 302.3643 - mse: 148670.8164 - val_loss: 350.8947 - val_mae: 350.0374 - val_mse: 139982.4531\n",
            "Epoch 496/2000\n",
            "3/3 [==============================] - 0s 49ms/step - loss: 271.0906 - mae: 270.2333 - mse: 119226.8359 - val_loss: 237.2709 - val_mae: 236.4140 - val_mse: 68797.6484\n",
            "Epoch 497/2000\n",
            "3/3 [==============================] - 0s 31ms/step - loss: 275.9382 - mae: 275.0813 - mse: 124527.6426 - val_loss: 232.9123 - val_mae: 232.0560 - val_mse: 66454.9844\n",
            "Epoch 498/2000\n",
            "3/3 [==============================] - 0s 30ms/step - loss: 260.8668 - mae: 260.0105 - mse: 110264.3594 - val_loss: 208.3276 - val_mae: 207.4718 - val_mse: 54186.4922\n",
            "Epoch 499/2000\n",
            "3/3 [==============================] - 0s 34ms/step - loss: 264.1585 - mae: 263.3028 - mse: 114265.2246 - val_loss: 273.6604 - val_mae: 272.8054 - val_mse: 89014.9219\n",
            "Epoch 500/2000\n",
            "3/3 [==============================] - 0s 32ms/step - loss: 276.3035 - mae: 275.4485 - mse: 125391.3848 - val_loss: 347.6033 - val_mae: 346.7488 - val_mse: 137351.3906\n",
            "Epoch 501/2000\n",
            "3/3 [==============================] - 0s 32ms/step - loss: 281.9236 - mae: 281.0691 - mse: 126467.0000 - val_loss: 315.8824 - val_mae: 315.0280 - val_mse: 115456.9609\n",
            "Epoch 502/2000\n",
            "3/3 [==============================] - 0s 32ms/step - loss: 276.0568 - mae: 275.2024 - mse: 126433.6230 - val_loss: 276.3838 - val_mae: 275.5294 - val_mse: 90525.4688\n",
            "Epoch 503/2000\n",
            "3/3 [==============================] - 0s 42ms/step - loss: 282.1162 - mae: 281.2619 - mse: 129147.1250 - val_loss: 107.3065 - val_mae: 106.4521 - val_mse: 17250.9648\n",
            "Epoch 504/2000\n",
            "3/3 [==============================] - 0s 32ms/step - loss: 272.7686 - mae: 271.9143 - mse: 120552.5762 - val_loss: 138.8306 - val_mae: 137.9764 - val_mse: 26077.4883\n",
            "Epoch 505/2000\n",
            "3/3 [==============================] - 0s 32ms/step - loss: 282.9402 - mae: 282.0861 - mse: 132680.2559 - val_loss: 99.4694 - val_mae: 98.6155 - val_mse: 15831.2061\n",
            "Epoch 506/2000\n",
            "3/3 [==============================] - 0s 34ms/step - loss: 274.8916 - mae: 274.0379 - mse: 121074.0898 - val_loss: 98.8545 - val_mae: 98.0010 - val_mse: 15906.8730\n",
            "Epoch 507/2000\n",
            "3/3 [==============================] - 0s 31ms/step - loss: 289.8271 - mae: 288.9736 - mse: 132806.4648 - val_loss: 151.7576 - val_mae: 150.9044 - val_mse: 34662.6445\n",
            "Epoch 508/2000\n",
            "3/3 [==============================] - 0s 33ms/step - loss: 307.4752 - mae: 306.6220 - mse: 152756.6484 - val_loss: 118.6637 - val_mae: 117.8109 - val_mse: 24026.4766\n",
            "Epoch 509/2000\n",
            "3/3 [==============================] - 0s 34ms/step - loss: 281.6630 - mae: 280.8103 - mse: 126232.0508 - val_loss: 130.4566 - val_mae: 129.6044 - val_mse: 23540.0625\n",
            "Epoch 510/2000\n",
            "3/3 [==============================] - 0s 31ms/step - loss: 283.5568 - mae: 282.7046 - mse: 127421.4746 - val_loss: 239.7929 - val_mae: 238.9411 - val_mse: 69918.6172\n",
            "Epoch 511/2000\n",
            "3/3 [==============================] - 0s 31ms/step - loss: 744.2438 - mae: 743.3920 - mse: 1040315.1875 - val_loss: 1458.7063 - val_mae: 1457.8557 - val_mse: 2162436.7500\n",
            "Epoch 512/2000\n",
            "3/3 [==============================] - 0s 31ms/step - loss: 1177.6069 - mae: 1176.7563 - mse: 1565760.6250 - val_loss: 424.9135 - val_mae: 424.0626 - val_mse: 197246.7812\n",
            "Epoch 513/2000\n",
            "3/3 [==============================] - 0s 44ms/step - loss: 700.4931 - mae: 699.6420 - mse: 842259.6328 - val_loss: 550.5802 - val_mae: 549.7292 - val_mse: 319567.7188\n",
            "Epoch 514/2000\n",
            "3/3 [==============================] - 0s 40ms/step - loss: 742.7462 - mae: 741.8955 - mse: 763517.2969 - val_loss: 2017.0597 - val_mae: 2016.2100 - val_mse: 4120604.5000\n",
            "Epoch 515/2000\n",
            "3/3 [==============================] - 0s 42ms/step - loss: 1169.9712 - mae: 1169.1214 - mse: 1664906.6875 - val_loss: 1738.3700 - val_mae: 1737.5194 - val_mse: 3058716.2500\n",
            "Epoch 516/2000\n",
            "3/3 [==============================] - 0s 42ms/step - loss: 1039.5857 - mae: 1038.7354 - mse: 1401479.0625 - val_loss: 1975.1022 - val_mae: 1974.2533 - val_mse: 3952229.7500\n",
            "Epoch 517/2000\n",
            "3/3 [==============================] - 0s 33ms/step - loss: 1329.0653 - mae: 1328.2164 - mse: 1967650.5625 - val_loss: 1557.6953 - val_mae: 1556.8459 - val_mse: 2457479.5000\n",
            "Epoch 518/2000\n",
            "3/3 [==============================] - 0s 29ms/step - loss: 1276.2853 - mae: 1275.4361 - mse: 1890588.0312 - val_loss: 1352.6809 - val_mae: 1351.8328 - val_mse: 1862786.8750\n",
            "Epoch 519/2000\n",
            "3/3 [==============================] - 0s 34ms/step - loss: 1142.9946 - mae: 1142.1467 - mse: 1501707.4062 - val_loss: 820.9554 - val_mae: 820.1071 - val_mse: 696518.6875\n",
            "Epoch 520/2000\n",
            "3/3 [==============================] - 0s 34ms/step - loss: 802.5426 - mae: 801.6937 - mse: 869037.6484 - val_loss: 717.8007 - val_mae: 716.9502 - val_mse: 531715.7500\n",
            "Epoch 521/2000\n",
            "3/3 [==============================] - 0s 41ms/step - loss: 749.1677 - mae: 748.3171 - mse: 727917.7891 - val_loss: 1708.7599 - val_mae: 1707.9078 - val_mse: 2965232.2500\n",
            "Epoch 522/2000\n",
            "3/3 [==============================] - 0s 40ms/step - loss: 967.4110 - mae: 966.5585 - mse: 1206973.5938 - val_loss: 2026.7246 - val_mae: 2025.8690 - val_mse: 4147833.7500\n",
            "Epoch 523/2000\n",
            "3/3 [==============================] - 0s 34ms/step - loss: 1171.1416 - mae: 1170.2859 - mse: 1730371.4375 - val_loss: 1825.0728 - val_mae: 1824.2161 - val_mse: 3379785.0000\n",
            "Epoch 524/2000\n",
            "3/3 [==============================] - 0s 33ms/step - loss: 1250.4800 - mae: 1249.6229 - mse: 1734178.5312 - val_loss: 1263.0724 - val_mae: 1262.2125 - val_mse: 1618655.5000\n",
            "Epoch 525/2000\n",
            "3/3 [==============================] - 0s 32ms/step - loss: 1048.5650 - mae: 1047.7049 - mse: 1350102.9375 - val_loss: 1157.1716 - val_mae: 1156.3108 - val_mse: 1368547.5000\n",
            "Epoch 526/2000\n",
            "3/3 [==============================] - 0s 33ms/step - loss: 972.1891 - mae: 971.3281 - mse: 1103224.0156 - val_loss: 172.9321 - val_mae: 172.0698 - val_mse: 38695.8711\n",
            "Epoch 527/2000\n",
            "3/3 [==============================] - 0s 31ms/step - loss: 562.8545 - mae: 561.9918 - mse: 572742.3828 - val_loss: 280.2381 - val_mae: 279.3749 - val_mse: 93287.9375\n",
            "Epoch 528/2000\n",
            "3/3 [==============================] - 0s 42ms/step - loss: 326.8476 - mae: 325.9843 - mse: 172363.6367 - val_loss: 196.3772 - val_mae: 195.5137 - val_mse: 51685.7812\n",
            "Epoch 529/2000\n",
            "3/3 [==============================] - 0s 42ms/step - loss: 294.2988 - mae: 293.4353 - mse: 140605.0391 - val_loss: 143.0224 - val_mae: 142.1591 - val_mse: 31553.6250\n",
            "Epoch 530/2000\n",
            "3/3 [==============================] - 0s 40ms/step - loss: 297.2209 - mae: 296.3576 - mse: 140159.6836 - val_loss: 383.0917 - val_mae: 382.2289 - val_mse: 164012.5625\n",
            "Epoch 531/2000\n",
            "3/3 [==============================] - 0s 36ms/step - loss: 311.3178 - mae: 310.4551 - mse: 160035.8125 - val_loss: 134.7959 - val_mae: 133.9336 - val_mse: 24803.9824\n",
            "Epoch 532/2000\n",
            "3/3 [==============================] - 0s 45ms/step - loss: 278.8187 - mae: 277.9566 - mse: 126115.0371 - val_loss: 296.6368 - val_mae: 295.7751 - val_mse: 102494.1406\n",
            "Epoch 533/2000\n",
            "3/3 [==============================] - 0s 33ms/step - loss: 322.2540 - mae: 321.3925 - mse: 168975.3164 - val_loss: 186.0424 - val_mae: 185.1816 - val_mse: 44139.9492\n",
            "Epoch 534/2000\n",
            "3/3 [==============================] - 0s 30ms/step - loss: 303.7772 - mae: 302.9165 - mse: 152470.4062 - val_loss: 281.4631 - val_mae: 280.6032 - val_mse: 93583.4688\n",
            "Epoch 535/2000\n",
            "3/3 [==============================] - 0s 31ms/step - loss: 285.1375 - mae: 284.2777 - mse: 138532.8359 - val_loss: 267.5602 - val_mae: 266.7011 - val_mse: 85248.1641\n",
            "Epoch 536/2000\n",
            "3/3 [==============================] - 0s 31ms/step - loss: 283.5070 - mae: 282.6480 - mse: 129169.0312 - val_loss: 103.9401 - val_mae: 103.0818 - val_mse: 16513.1270\n",
            "Epoch 537/2000\n",
            "3/3 [==============================] - 0s 33ms/step - loss: 277.2102 - mae: 276.3520 - mse: 127461.9551 - val_loss: 107.9011 - val_mae: 107.0437 - val_mse: 20282.7617\n",
            "Epoch 538/2000\n",
            "3/3 [==============================] - 0s 45ms/step - loss: 285.5105 - mae: 284.6532 - mse: 129766.0352 - val_loss: 144.0961 - val_mae: 143.2396 - val_mse: 27869.3945\n",
            "Epoch 539/2000\n",
            "3/3 [==============================] - 0s 32ms/step - loss: 287.4120 - mae: 286.5555 - mse: 133579.5586 - val_loss: 180.0553 - val_mae: 179.1997 - val_mse: 41711.5391\n",
            "Epoch 540/2000\n",
            "3/3 [==============================] - 0s 31ms/step - loss: 264.1123 - mae: 263.2567 - mse: 108110.1719 - val_loss: 179.7886 - val_mae: 178.9338 - val_mse: 41626.2305\n",
            "Epoch 541/2000\n",
            "3/3 [==============================] - 0s 38ms/step - loss: 268.7100 - mae: 267.8553 - mse: 120342.3301 - val_loss: 121.8603 - val_mae: 121.0062 - val_mse: 24846.7051\n",
            "Epoch 542/2000\n",
            "3/3 [==============================] - 0s 39ms/step - loss: 278.9962 - mae: 278.1423 - mse: 125843.8320 - val_loss: 116.1867 - val_mae: 115.3334 - val_mse: 22990.0605\n",
            "Epoch 543/2000\n",
            "3/3 [==============================] - 0s 41ms/step - loss: 292.1728 - mae: 291.3197 - mse: 134661.6602 - val_loss: 96.3660 - val_mae: 95.5135 - val_mse: 15152.8535\n",
            "Epoch 544/2000\n",
            "3/3 [==============================] - 0s 40ms/step - loss: 292.9376 - mae: 292.0854 - mse: 134728.0156 - val_loss: 441.2493 - val_mae: 440.3978 - val_mse: 211857.0625\n",
            "Epoch 545/2000\n",
            "3/3 [==============================] - 0s 39ms/step - loss: 300.0091 - mae: 299.1577 - mse: 145841.9180 - val_loss: 769.9868 - val_mae: 769.1358 - val_mse: 614522.6875\n",
            "Epoch 546/2000\n",
            "3/3 [==============================] - 0s 33ms/step - loss: 434.4791 - mae: 433.6281 - mse: 282106.5156 - val_loss: 382.8651 - val_mae: 382.0143 - val_mse: 163153.4062\n",
            "Epoch 547/2000\n",
            "3/3 [==============================] - 0s 33ms/step - loss: 335.1338 - mae: 334.2831 - mse: 180873.9570 - val_loss: 356.4922 - val_mae: 355.6413 - val_mse: 141712.8750\n",
            "Epoch 548/2000\n",
            "3/3 [==============================] - 0s 32ms/step - loss: 348.3054 - mae: 347.4547 - mse: 201458.9609 - val_loss: 378.8262 - val_mae: 377.9757 - val_mse: 159943.0000\n",
            "Epoch 549/2000\n",
            "3/3 [==============================] - 0s 32ms/step - loss: 325.7859 - mae: 324.9353 - mse: 166262.0820 - val_loss: 483.7409 - val_mae: 482.8902 - val_mse: 251691.1406\n",
            "Epoch 550/2000\n",
            "3/3 [==============================] - 0s 45ms/step - loss: 329.7934 - mae: 328.9427 - mse: 178102.9570 - val_loss: 386.6921 - val_mae: 385.8407 - val_mse: 164096.8750\n",
            "Epoch 551/2000\n",
            "3/3 [==============================] - 0s 41ms/step - loss: 382.5682 - mae: 381.7169 - mse: 225560.9062 - val_loss: 149.3679 - val_mae: 148.5163 - val_mse: 29729.3398\n",
            "Epoch 552/2000\n",
            "3/3 [==============================] - 0s 42ms/step - loss: 312.9239 - mae: 312.0722 - mse: 156347.9805 - val_loss: 675.8589 - val_mae: 675.0073 - val_mse: 476360.7500\n",
            "Epoch 553/2000\n",
            "3/3 [==============================] - 0s 33ms/step - loss: 405.5967 - mae: 404.7449 - mse: 258168.8438 - val_loss: 305.4288 - val_mae: 304.5764 - val_mse: 107422.8828\n",
            "Epoch 554/2000\n",
            "3/3 [==============================] - 0s 41ms/step - loss: 397.9000 - mae: 397.0476 - mse: 240579.5938 - val_loss: 220.9676 - val_mae: 220.1143 - val_mse: 61760.9258\n",
            "Epoch 555/2000\n",
            "3/3 [==============================] - 0s 34ms/step - loss: 360.9404 - mae: 360.0870 - mse: 197497.2969 - val_loss: 604.3766 - val_mae: 603.5229 - val_mse: 384156.4688\n",
            "Epoch 556/2000\n",
            "3/3 [==============================] - 0s 32ms/step - loss: 376.4178 - mae: 375.5639 - mse: 225934.3945 - val_loss: 167.5655 - val_mae: 166.7111 - val_mse: 36533.8008\n",
            "Epoch 557/2000\n",
            "3/3 [==============================] - 0s 32ms/step - loss: 303.6761 - mae: 302.8217 - mse: 151297.1484 - val_loss: 325.8775 - val_mae: 325.0227 - val_mse: 120411.9922\n",
            "Epoch 558/2000\n",
            "3/3 [==============================] - 0s 44ms/step - loss: 334.1151 - mae: 333.2603 - mse: 173117.8359 - val_loss: 329.5188 - val_mae: 328.6642 - val_mse: 124046.9609\n",
            "Epoch 559/2000\n",
            "3/3 [==============================] - 0s 32ms/step - loss: 318.8304 - mae: 317.9757 - mse: 157683.6641 - val_loss: 457.7962 - val_mae: 456.9418 - val_mse: 226834.5156\n",
            "Epoch 560/2000\n",
            "3/3 [==============================] - 0s 43ms/step - loss: 327.2111 - mae: 326.3567 - mse: 168812.7539 - val_loss: 255.3081 - val_mae: 254.4537 - val_mse: 78734.8750\n",
            "Epoch 561/2000\n",
            "3/3 [==============================] - 0s 35ms/step - loss: 348.3082 - mae: 347.4539 - mse: 188927.8125 - val_loss: 245.0248 - val_mae: 244.1709 - val_mse: 73408.6719\n",
            "Epoch 562/2000\n",
            "3/3 [==============================] - 0s 32ms/step - loss: 356.8060 - mae: 355.9522 - mse: 195680.3047 - val_loss: 503.8023 - val_mae: 502.9492 - val_mse: 271397.9375\n",
            "Epoch 563/2000\n",
            "3/3 [==============================] - 0s 43ms/step - loss: 357.0358 - mae: 356.1826 - mse: 193604.7617 - val_loss: 460.3901 - val_mae: 459.5370 - val_mse: 229039.8594\n",
            "Epoch 564/2000\n",
            "3/3 [==============================] - 0s 32ms/step - loss: 354.4400 - mae: 353.5869 - mse: 198216.4648 - val_loss: 363.8536 - val_mae: 363.0001 - val_mse: 146670.4375\n",
            "Epoch 565/2000\n",
            "3/3 [==============================] - 0s 32ms/step - loss: 351.7532 - mae: 350.8998 - mse: 193446.3320 - val_loss: 326.0583 - val_mae: 325.2051 - val_mse: 121798.8906\n",
            "Epoch 566/2000\n",
            "3/3 [==============================] - 0s 33ms/step - loss: 308.9313 - mae: 308.0780 - mse: 153296.1172 - val_loss: 529.3998 - val_mae: 528.5468 - val_mse: 298619.7500\n",
            "Epoch 567/2000\n",
            "3/3 [==============================] - 0s 33ms/step - loss: 352.1227 - mae: 351.2696 - mse: 195053.5820 - val_loss: 113.1520 - val_mae: 112.2990 - val_mse: 21969.9980\n",
            "Epoch 568/2000\n",
            "3/3 [==============================] - 0s 39ms/step - loss: 319.1612 - mae: 318.3082 - mse: 161408.3047 - val_loss: 362.4175 - val_mae: 361.5647 - val_mse: 145597.2656\n",
            "Epoch 569/2000\n",
            "3/3 [==============================] - 0s 32ms/step - loss: 358.7707 - mae: 357.9180 - mse: 197336.8633 - val_loss: 333.2518 - val_mae: 332.3997 - val_mse: 126960.7344\n",
            "Epoch 570/2000\n",
            "3/3 [==============================] - 0s 32ms/step - loss: 318.7755 - mae: 317.9234 - mse: 160847.4297 - val_loss: 343.1790 - val_mae: 342.3275 - val_mse: 133836.7812\n",
            "Epoch 571/2000\n",
            "3/3 [==============================] - 0s 35ms/step - loss: 307.0944 - mae: 306.2429 - mse: 150970.7148 - val_loss: 102.1625 - val_mae: 101.3116 - val_mse: 18210.8145\n",
            "Epoch 572/2000\n",
            "3/3 [==============================] - 0s 35ms/step - loss: 301.2279 - mae: 300.3771 - mse: 138823.3555 - val_loss: 158.8470 - val_mae: 157.9968 - val_mse: 33120.5703\n",
            "Epoch 573/2000\n",
            "3/3 [==============================] - 0s 40ms/step - loss: 272.6963 - mae: 271.8461 - mse: 119342.9551 - val_loss: 425.1001 - val_mae: 424.2507 - val_mse: 197548.1250\n",
            "Epoch 574/2000\n",
            "3/3 [==============================] - 0s 41ms/step - loss: 302.6127 - mae: 301.7634 - mse: 151976.8867 - val_loss: 306.6826 - val_mae: 305.8340 - val_mse: 109077.6562\n",
            "Epoch 575/2000\n",
            "3/3 [==============================] - 0s 34ms/step - loss: 274.2244 - mae: 273.3758 - mse: 125152.2246 - val_loss: 93.8119 - val_mae: 92.9639 - val_mse: 14918.3457\n",
            "Epoch 576/2000\n",
            "3/3 [==============================] - 0s 48ms/step - loss: 285.8991 - mae: 285.0513 - mse: 127897.3086 - val_loss: 100.2101 - val_mae: 99.3629 - val_mse: 15487.5566\n",
            "Epoch 577/2000\n",
            "3/3 [==============================] - 0s 32ms/step - loss: 281.7198 - mae: 280.8727 - mse: 128378.2285 - val_loss: 124.7041 - val_mae: 123.8577 - val_mse: 21586.1758\n",
            "Epoch 578/2000\n",
            "3/3 [==============================] - 0s 41ms/step - loss: 274.3374 - mae: 273.4911 - mse: 119285.6797 - val_loss: 468.3428 - val_mae: 467.4973 - val_mse: 236609.8281\n",
            "Epoch 579/2000\n",
            "3/3 [==============================] - 0s 47ms/step - loss: 289.4618 - mae: 288.6163 - mse: 144954.8672 - val_loss: 157.5798 - val_mae: 156.7350 - val_mse: 32590.5078\n",
            "Epoch 580/2000\n",
            "3/3 [==============================] - 0s 41ms/step - loss: 264.6241 - mae: 263.7793 - mse: 114553.4434 - val_loss: 95.3312 - val_mae: 94.4871 - val_mse: 15836.1562\n",
            "Epoch 581/2000\n",
            "3/3 [==============================] - 0s 42ms/step - loss: 282.6209 - mae: 281.7769 - mse: 129542.6797 - val_loss: 145.4314 - val_mae: 144.5882 - val_mse: 28205.2656\n",
            "Epoch 582/2000\n",
            "3/3 [==============================] - 0s 43ms/step - loss: 256.9270 - mae: 256.0838 - mse: 111878.5645 - val_loss: 183.9356 - val_mae: 183.0931 - val_mse: 43152.2539\n",
            "Epoch 583/2000\n",
            "3/3 [==============================] - 0s 34ms/step - loss: 272.9046 - mae: 272.0622 - mse: 116813.8262 - val_loss: 98.6176 - val_mae: 97.7758 - val_mse: 15197.6611\n",
            "Epoch 584/2000\n",
            "3/3 [==============================] - 0s 37ms/step - loss: 270.1360 - mae: 269.2943 - mse: 112995.0566 - val_loss: 483.8404 - val_mae: 482.9993 - val_mse: 251894.4375\n",
            "Epoch 585/2000\n",
            "3/3 [==============================] - 0s 34ms/step - loss: 304.3515 - mae: 303.5104 - mse: 149018.0625 - val_loss: 434.4573 - val_mae: 433.6164 - val_mse: 205913.5000\n",
            "Epoch 586/2000\n",
            "3/3 [==============================] - 0s 33ms/step - loss: 306.9463 - mae: 306.1054 - mse: 153066.0820 - val_loss: 263.2293 - val_mae: 262.3893 - val_mse: 82742.5312\n",
            "Epoch 587/2000\n",
            "3/3 [==============================] - 0s 46ms/step - loss: 286.9782 - mae: 286.1384 - mse: 136977.6992 - val_loss: 123.1397 - val_mae: 122.3007 - val_mse: 24870.4844\n",
            "Epoch 588/2000\n",
            "3/3 [==============================] - 0s 33ms/step - loss: 579.8105 - mae: 578.9717 - mse: 532174.6094 - val_loss: 614.0627 - val_mae: 613.2242 - val_mse: 391566.8438\n",
            "Epoch 589/2000\n",
            "3/3 [==============================] - 0s 42ms/step - loss: 623.4748 - mae: 622.6363 - mse: 521126.4141 - val_loss: 1032.8005 - val_mae: 1031.9628 - val_mse: 1093167.1250\n",
            "Epoch 590/2000\n",
            "3/3 [==============================] - 0s 41ms/step - loss: 632.7363 - mae: 631.8983 - mse: 517259.4219 - val_loss: 735.6039 - val_mae: 734.7653 - val_mse: 556395.7500\n",
            "Epoch 591/2000\n",
            "3/3 [==============================] - 0s 40ms/step - loss: 478.9106 - mae: 478.0721 - mse: 348751.1250 - val_loss: 206.3347 - val_mae: 205.4961 - val_mse: 53060.6523\n",
            "Epoch 592/2000\n",
            "3/3 [==============================] - 0s 40ms/step - loss: 341.7152 - mae: 340.8765 - mse: 191603.5352 - val_loss: 578.9880 - val_mae: 578.1494 - val_mse: 353864.7812\n",
            "Epoch 593/2000\n",
            "3/3 [==============================] - 0s 41ms/step - loss: 418.1115 - mae: 417.2728 - mse: 264484.4727 - val_loss: 314.3484 - val_mae: 313.5095 - val_mse: 112359.9844\n",
            "Epoch 594/2000\n",
            "3/3 [==============================] - 0s 46ms/step - loss: 386.7857 - mae: 385.9470 - mse: 228344.9492 - val_loss: 256.2036 - val_mae: 255.3647 - val_mse: 78697.3906\n",
            "Epoch 595/2000\n",
            "3/3 [==============================] - 0s 49ms/step - loss: 339.4174 - mae: 338.5785 - mse: 185581.3242 - val_loss: 483.7406 - val_mae: 482.9020 - val_mse: 250990.5469\n",
            "Epoch 596/2000\n",
            "3/3 [==============================] - 0s 47ms/step - loss: 345.9473 - mae: 345.1087 - mse: 195053.5898 - val_loss: 178.4644 - val_mae: 177.6262 - val_mse: 40711.6445\n",
            "Epoch 597/2000\n",
            "3/3 [==============================] - 0s 34ms/step - loss: 286.8701 - mae: 286.0320 - mse: 138145.6426 - val_loss: 114.9023 - val_mae: 114.0647 - val_mse: 22195.7461\n",
            "Epoch 598/2000\n",
            "3/3 [==============================] - 0s 34ms/step - loss: 284.4506 - mae: 283.6131 - mse: 129825.0586 - val_loss: 104.4983 - val_mae: 103.6613 - val_mse: 19006.1602\n",
            "Epoch 599/2000\n",
            "3/3 [==============================] - 0s 39ms/step - loss: 280.9458 - mae: 280.1088 - mse: 127420.3516 - val_loss: 240.1572 - val_mae: 239.3207 - val_mse: 69917.8594\n",
            "Epoch 600/2000\n",
            "3/3 [==============================] - 0s 39ms/step - loss: 291.3318 - mae: 290.4955 - mse: 140442.6211 - val_loss: 237.5069 - val_mae: 236.6711 - val_mse: 68516.3828\n",
            "Epoch 601/2000\n",
            "3/3 [==============================] - 0s 43ms/step - loss: 258.0189 - mae: 257.1832 - mse: 109129.4824 - val_loss: 95.3546 - val_mae: 94.5189 - val_mse: 15902.5879\n",
            "Epoch 602/2000\n",
            "3/3 [==============================] - 0s 32ms/step - loss: 285.5797 - mae: 284.7440 - mse: 131829.8750 - val_loss: 113.0757 - val_mae: 112.2399 - val_mse: 18342.2188\n",
            "Epoch 603/2000\n",
            "3/3 [==============================] - 0s 39ms/step - loss: 290.7577 - mae: 289.9219 - mse: 136698.6641 - val_loss: 318.6966 - val_mae: 317.8612 - val_mse: 116700.0391\n",
            "Epoch 604/2000\n",
            "3/3 [==============================] - 0s 36ms/step - loss: 279.5140 - mae: 278.6787 - mse: 126906.4453 - val_loss: 401.2281 - val_mae: 400.3934 - val_mse: 177578.1094\n",
            "Epoch 605/2000\n",
            "3/3 [==============================] - 0s 49ms/step - loss: 329.2981 - mae: 328.4635 - mse: 171119.2773 - val_loss: 865.8728 - val_mae: 865.0392 - val_mse: 772371.0625\n",
            "Epoch 606/2000\n",
            "3/3 [==============================] - 0s 41ms/step - loss: 458.0685 - mae: 457.2350 - mse: 307498.3906 - val_loss: 228.0619 - val_mae: 227.2287 - val_mse: 64539.8359\n",
            "Epoch 607/2000\n",
            "3/3 [==============================] - 0s 36ms/step - loss: 405.3819 - mae: 404.5489 - mse: 246760.2578 - val_loss: 377.3165 - val_mae: 376.4839 - val_mse: 155988.8438\n",
            "Epoch 608/2000\n",
            "3/3 [==============================] - 0s 33ms/step - loss: 386.7848 - mae: 385.9523 - mse: 220741.6133 - val_loss: 600.8969 - val_mae: 600.0649 - val_mse: 379099.0312\n",
            "Epoch 609/2000\n",
            "3/3 [==============================] - 0s 32ms/step - loss: 396.4416 - mae: 395.6095 - mse: 236635.0625 - val_loss: 377.3668 - val_mae: 376.5351 - val_mse: 157961.0156\n",
            "Epoch 610/2000\n",
            "3/3 [==============================] - 0s 41ms/step - loss: 321.0024 - mae: 320.1708 - mse: 166439.0664 - val_loss: 346.2262 - val_mae: 345.3946 - val_mse: 133327.9219\n",
            "Epoch 611/2000\n",
            "3/3 [==============================] - 0s 34ms/step - loss: 354.1743 - mae: 353.3429 - mse: 191991.8555 - val_loss: 113.6720 - val_mae: 112.8410 - val_mse: 21929.7148\n",
            "Epoch 612/2000\n",
            "3/3 [==============================] - 0s 34ms/step - loss: 309.8199 - mae: 308.9889 - mse: 148075.0195 - val_loss: 507.2819 - val_mae: 506.4515 - val_mse: 275080.1875\n",
            "Epoch 613/2000\n",
            "3/3 [==============================] - 0s 34ms/step - loss: 336.5872 - mae: 335.7569 - mse: 175437.5625 - val_loss: 338.2400 - val_mae: 337.4102 - val_mse: 129760.0156\n",
            "Epoch 614/2000\n",
            "3/3 [==============================] - 0s 44ms/step - loss: 296.0589 - mae: 295.2292 - mse: 140909.1738 - val_loss: 117.9757 - val_mae: 117.1464 - val_mse: 23159.1934\n",
            "Epoch 615/2000\n",
            "3/3 [==============================] - 0s 34ms/step - loss: 306.7633 - mae: 305.9342 - mse: 150773.7500 - val_loss: 97.3902 - val_mae: 96.5616 - val_mse: 14710.7129\n",
            "Epoch 616/2000\n",
            "3/3 [==============================] - 0s 37ms/step - loss: 282.1821 - mae: 281.3537 - mse: 124427.2832 - val_loss: 211.6112 - val_mae: 210.7834 - val_mse: 55290.0703\n",
            "Epoch 617/2000\n",
            "3/3 [==============================] - 0s 43ms/step - loss: 268.8169 - mae: 267.9892 - mse: 117980.5117 - val_loss: 244.5448 - val_mae: 243.7177 - val_mse: 71814.6562\n",
            "Epoch 618/2000\n",
            "3/3 [==============================] - 0s 33ms/step - loss: 260.6051 - mae: 259.7781 - mse: 108448.1328 - val_loss: 120.1428 - val_mae: 119.3163 - val_mse: 20137.1367\n",
            "Epoch 619/2000\n",
            "3/3 [==============================] - 0s 58ms/step - loss: 285.6547 - mae: 284.8283 - mse: 133632.6719 - val_loss: 245.4713 - val_mae: 244.6456 - val_mse: 72404.7734\n",
            "Epoch 620/2000\n",
            "3/3 [==============================] - 0s 39ms/step - loss: 267.3951 - mae: 266.5695 - mse: 116835.1875 - val_loss: 276.8413 - val_mae: 276.0163 - val_mse: 90345.9297\n",
            "Epoch 621/2000\n",
            "3/3 [==============================] - 0s 33ms/step - loss: 262.6436 - mae: 261.8187 - mse: 111917.1953 - val_loss: 301.9489 - val_mae: 301.1246 - val_mse: 105999.3359\n",
            "Epoch 622/2000\n",
            "3/3 [==============================] - 0s 41ms/step - loss: 273.2138 - mae: 272.3895 - mse: 123002.0508 - val_loss: 108.2873 - val_mae: 107.4630 - val_mse: 17082.8848\n",
            "Epoch 623/2000\n",
            "3/3 [==============================] - 0s 39ms/step - loss: 271.0730 - mae: 270.2487 - mse: 117421.5176 - val_loss: 182.0554 - val_mae: 181.2303 - val_mse: 44991.8125\n",
            "Epoch 624/2000\n",
            "3/3 [==============================] - 0s 44ms/step - loss: 308.7153 - mae: 307.8901 - mse: 151758.7656 - val_loss: 153.2459 - val_mae: 152.4199 - val_mse: 34290.0078\n",
            "Epoch 625/2000\n",
            "3/3 [==============================] - 0s 34ms/step - loss: 325.0668 - mae: 324.2408 - mse: 164403.7773 - val_loss: 484.8304 - val_mae: 484.0041 - val_mse: 252437.0625\n",
            "Epoch 626/2000\n",
            "3/3 [==============================] - 0s 33ms/step - loss: 349.0635 - mae: 348.2370 - mse: 187875.3359 - val_loss: 276.2034 - val_mae: 275.3766 - val_mse: 89864.4219\n",
            "Epoch 627/2000\n",
            "3/3 [==============================] - 0s 43ms/step - loss: 275.9389 - mae: 275.1120 - mse: 123441.2480 - val_loss: 144.5383 - val_mae: 143.7112 - val_mse: 27657.9746\n",
            "Epoch 628/2000\n",
            "3/3 [==============================] - 0s 39ms/step - loss: 267.6367 - mae: 266.8097 - mse: 118033.5312 - val_loss: 121.5393 - val_mae: 120.7123 - val_mse: 20478.5859\n",
            "Epoch 629/2000\n",
            "3/3 [==============================] - 0s 33ms/step - loss: 267.4170 - mae: 266.5900 - mse: 115518.4004 - val_loss: 91.3164 - val_mae: 90.4896 - val_mse: 14421.7529\n",
            "Epoch 630/2000\n",
            "3/3 [==============================] - 0s 33ms/step - loss: 284.0365 - mae: 283.2098 - mse: 127031.2793 - val_loss: 98.2154 - val_mae: 97.3889 - val_mse: 17088.9453\n",
            "Epoch 631/2000\n",
            "3/3 [==============================] - 0s 35ms/step - loss: 277.4484 - mae: 276.6220 - mse: 122459.3340 - val_loss: 92.8074 - val_mae: 91.9814 - val_mse: 14294.6582\n",
            "Epoch 632/2000\n",
            "3/3 [==============================] - 0s 44ms/step - loss: 272.4540 - mae: 271.6281 - mse: 120351.5586 - val_loss: 157.8537 - val_mae: 157.0283 - val_mse: 32506.8359\n",
            "Epoch 633/2000\n",
            "3/3 [==============================] - 0s 40ms/step - loss: 276.1188 - mae: 275.2934 - mse: 121484.3828 - val_loss: 473.9323 - val_mae: 473.1075 - val_mse: 241674.7500\n",
            "Epoch 634/2000\n",
            "3/3 [==============================] - 0s 40ms/step - loss: 318.8435 - mae: 318.0188 - mse: 156941.9023 - val_loss: 241.7631 - val_mae: 240.9389 - val_mse: 70381.4453\n",
            "Epoch 635/2000\n",
            "3/3 [==============================] - 0s 41ms/step - loss: 283.3947 - mae: 282.5706 - mse: 127667.2734 - val_loss: 175.9611 - val_mae: 175.1374 - val_mse: 39492.9062\n",
            "Epoch 636/2000\n",
            "3/3 [==============================] - 0s 44ms/step - loss: 263.3790 - mae: 262.5554 - mse: 116435.2949 - val_loss: 141.9714 - val_mae: 141.1483 - val_mse: 26765.7402\n",
            "Epoch 637/2000\n",
            "3/3 [==============================] - 0s 34ms/step - loss: 280.3866 - mae: 279.5636 - mse: 124148.8535 - val_loss: 211.3909 - val_mae: 210.5683 - val_mse: 55182.3984\n",
            "Epoch 638/2000\n",
            "3/3 [==============================] - 0s 40ms/step - loss: 266.3132 - mae: 265.4905 - mse: 118432.6426 - val_loss: 278.8617 - val_mae: 278.0389 - val_mse: 91300.5938\n",
            "Epoch 639/2000\n",
            "3/3 [==============================] - 0s 33ms/step - loss: 255.4985 - mae: 254.6757 - mse: 108201.4121 - val_loss: 159.3216 - val_mae: 158.4984 - val_mse: 32987.2930\n",
            "Epoch 640/2000\n",
            "3/3 [==============================] - 0s 35ms/step - loss: 257.7447 - mae: 256.9213 - mse: 105491.4434 - val_loss: 272.9767 - val_mae: 272.1526 - val_mse: 87711.3594\n",
            "Epoch 641/2000\n",
            "3/3 [==============================] - 0s 41ms/step - loss: 269.3013 - mae: 268.4771 - mse: 115552.1289 - val_loss: 285.8486 - val_mae: 285.0235 - val_mse: 95247.0312\n",
            "Epoch 642/2000\n",
            "3/3 [==============================] - 0s 34ms/step - loss: 258.6256 - mae: 257.8004 - mse: 108603.5039 - val_loss: 126.3465 - val_mae: 125.5205 - val_mse: 21816.5078\n",
            "Epoch 643/2000\n",
            "3/3 [==============================] - 0s 43ms/step - loss: 268.1517 - mae: 267.3258 - mse: 116396.8555 - val_loss: 90.6021 - val_mae: 89.7758 - val_mse: 14270.2451\n",
            "Epoch 644/2000\n",
            "3/3 [==============================] - 0s 40ms/step - loss: 275.2133 - mae: 274.3871 - mse: 123428.1445 - val_loss: 125.3828 - val_mae: 124.5566 - val_mse: 21583.7324\n",
            "Epoch 645/2000\n",
            "3/3 [==============================] - 0s 34ms/step - loss: 275.8278 - mae: 275.0017 - mse: 120673.0449 - val_loss: 99.4562 - val_mae: 98.6304 - val_mse: 14897.5322\n",
            "Epoch 646/2000\n",
            "3/3 [==============================] - 0s 34ms/step - loss: 272.9173 - mae: 272.0915 - mse: 118662.9980 - val_loss: 91.5931 - val_mae: 90.7674 - val_mse: 14704.1660\n",
            "Epoch 647/2000\n",
            "3/3 [==============================] - 0s 41ms/step - loss: 277.9125 - mae: 277.0868 - mse: 128856.3398 - val_loss: 281.4927 - val_mae: 280.6677 - val_mse: 93006.5078\n",
            "Epoch 648/2000\n",
            "3/3 [==============================] - 0s 33ms/step - loss: 284.8119 - mae: 283.9869 - mse: 128488.9941 - val_loss: 93.5148 - val_mae: 92.6907 - val_mse: 13804.8164\n",
            "Epoch 649/2000\n",
            "3/3 [==============================] - 0s 34ms/step - loss: 281.0016 - mae: 280.1776 - mse: 127110.6289 - val_loss: 128.0251 - val_mae: 127.2019 - val_mse: 22325.8848\n",
            "Epoch 650/2000\n",
            "3/3 [==============================] - 0s 44ms/step - loss: 279.6215 - mae: 278.7984 - mse: 125261.8223 - val_loss: 310.8462 - val_mae: 310.0239 - val_mse: 110539.4297\n",
            "Epoch 651/2000\n",
            "3/3 [==============================] - 0s 44ms/step - loss: 274.3650 - mae: 273.5428 - mse: 124572.1113 - val_loss: 325.5568 - val_mae: 324.7356 - val_mse: 120013.2891\n",
            "Epoch 652/2000\n",
            "3/3 [==============================] - 0s 34ms/step - loss: 255.6772 - mae: 254.8562 - mse: 105792.2109 - val_loss: 178.7867 - val_mae: 177.9666 - val_mse: 42876.7422\n",
            "Epoch 653/2000\n",
            "3/3 [==============================] - 0s 33ms/step - loss: 312.2370 - mae: 311.4171 - mse: 154387.4844 - val_loss: 268.8007 - val_mae: 267.9818 - val_mse: 85151.7500\n",
            "Epoch 654/2000\n",
            "3/3 [==============================] - 0s 56ms/step - loss: 281.4448 - mae: 280.6261 - mse: 129130.5137 - val_loss: 710.8922 - val_mae: 710.0746 - val_mse: 524699.0000\n",
            "Epoch 655/2000\n",
            "3/3 [==============================] - 0s 39ms/step - loss: 383.0067 - mae: 382.1892 - mse: 225377.1289 - val_loss: 147.9023 - val_mae: 147.0856 - val_mse: 31931.8535\n",
            "Epoch 656/2000\n",
            "3/3 [==============================] - 0s 34ms/step - loss: 348.2459 - mae: 347.4295 - mse: 190635.9922 - val_loss: 365.4495 - val_mae: 364.6339 - val_mse: 146286.6406\n",
            "Epoch 657/2000\n",
            "3/3 [==============================] - 0s 33ms/step - loss: 391.7781 - mae: 390.9627 - mse: 227581.2539 - val_loss: 476.3943 - val_mae: 475.5800 - val_mse: 243803.4062\n",
            "Epoch 658/2000\n",
            "3/3 [==============================] - 0s 33ms/step - loss: 378.4232 - mae: 377.6090 - mse: 220839.5742 - val_loss: 540.9875 - val_mae: 540.1744 - val_mse: 310334.8438\n",
            "Epoch 659/2000\n",
            "3/3 [==============================] - 0s 47ms/step - loss: 391.0479 - mae: 390.2349 - mse: 235001.3750 - val_loss: 211.7500 - val_mae: 210.9377 - val_mse: 56734.8086\n",
            "Epoch 660/2000\n",
            "3/3 [==============================] - 0s 31ms/step - loss: 320.1052 - mae: 319.2931 - mse: 160502.3516 - val_loss: 321.0818 - val_mae: 320.2705 - val_mse: 115718.1172\n",
            "Epoch 661/2000\n",
            "3/3 [==============================] - 0s 40ms/step - loss: 332.6788 - mae: 331.8676 - mse: 170676.5078 - val_loss: 460.3200 - val_mae: 459.5099 - val_mse: 228129.2812\n",
            "Epoch 662/2000\n",
            "3/3 [==============================] - 0s 41ms/step - loss: 363.0161 - mae: 362.2060 - mse: 200167.2305 - val_loss: 487.0353 - val_mae: 486.2262 - val_mse: 254019.6719\n",
            "Epoch 663/2000\n",
            "3/3 [==============================] - 0s 43ms/step - loss: 346.9046 - mae: 346.0955 - mse: 184542.5586 - val_loss: 205.0244 - val_mae: 204.2158 - val_mse: 52201.1680\n",
            "Epoch 664/2000\n",
            "3/3 [==============================] - 0s 35ms/step - loss: 293.4884 - mae: 292.6800 - mse: 143160.4062 - val_loss: 98.3186 - val_mae: 97.5104 - val_mse: 14672.8154\n",
            "Epoch 665/2000\n",
            "3/3 [==============================] - 0s 40ms/step - loss: 261.4738 - mae: 260.6657 - mse: 109155.6641 - val_loss: 92.2885 - val_mae: 91.4805 - val_mse: 13821.6104\n",
            "Epoch 666/2000\n",
            "3/3 [==============================] - 0s 34ms/step - loss: 265.4068 - mae: 264.5988 - mse: 110994.2832 - val_loss: 95.3646 - val_mae: 94.5567 - val_mse: 14091.4658\n",
            "Epoch 667/2000\n",
            "3/3 [==============================] - 0s 31ms/step - loss: 267.1354 - mae: 266.3274 - mse: 116310.2793 - val_loss: 272.2346 - val_mae: 271.4268 - val_mse: 87121.5469\n",
            "Epoch 668/2000\n",
            "3/3 [==============================] - 0s 36ms/step - loss: 267.1071 - mae: 266.2994 - mse: 115381.2344 - val_loss: 302.9333 - val_mae: 302.1258 - val_mse: 105307.0234\n",
            "Epoch 669/2000\n",
            "3/3 [==============================] - 0s 34ms/step - loss: 260.4925 - mae: 259.6851 - mse: 110338.5117 - val_loss: 98.4802 - val_mae: 97.6730 - val_mse: 17074.0352\n",
            "Epoch 670/2000\n",
            "3/3 [==============================] - 0s 34ms/step - loss: 283.1797 - mae: 282.3725 - mse: 132826.0977 - val_loss: 322.2453 - val_mae: 321.4387 - val_mse: 117635.3438\n",
            "Epoch 671/2000\n",
            "3/3 [==============================] - 0s 33ms/step - loss: 267.5199 - mae: 266.7133 - mse: 118310.3906 - val_loss: 233.6981 - val_mae: 232.8918 - val_mse: 65793.6172\n",
            "Epoch 672/2000\n",
            "3/3 [==============================] - 0s 33ms/step - loss: 258.1437 - mae: 257.3375 - mse: 109418.4336 - val_loss: 419.9287 - val_mae: 419.1226 - val_mse: 191427.8750\n",
            "Epoch 673/2000\n",
            "3/3 [==============================] - 0s 33ms/step - loss: 268.7093 - mae: 267.9032 - mse: 117673.0703 - val_loss: 451.5005 - val_mae: 450.6948 - val_mse: 219325.3438\n",
            "Epoch 674/2000\n",
            "3/3 [==============================] - 0s 42ms/step - loss: 266.0877 - mae: 265.2821 - mse: 115487.6094 - val_loss: 388.5057 - val_mae: 387.7003 - val_mse: 165646.0469\n",
            "Epoch 675/2000\n",
            "3/3 [==============================] - 0s 33ms/step - loss: 276.7739 - mae: 275.9685 - mse: 127777.5391 - val_loss: 386.2897 - val_mae: 385.4842 - val_mse: 163768.1562\n",
            "Epoch 676/2000\n",
            "3/3 [==============================] - 0s 42ms/step - loss: 258.0257 - mae: 257.2202 - mse: 113419.4473 - val_loss: 88.9334 - val_mae: 88.1277 - val_mse: 13020.3184\n",
            "Epoch 677/2000\n",
            "3/3 [==============================] - 0s 40ms/step - loss: 273.1206 - mae: 272.3149 - mse: 119236.1289 - val_loss: 354.9316 - val_mae: 354.1257 - val_mse: 138423.9062\n",
            "Epoch 678/2000\n",
            "3/3 [==============================] - 0s 34ms/step - loss: 360.8671 - mae: 360.0612 - mse: 201402.7109 - val_loss: 236.7699 - val_mae: 235.9641 - val_mse: 67425.2031\n",
            "Epoch 679/2000\n",
            "3/3 [==============================] - 0s 34ms/step - loss: 326.2581 - mae: 325.4522 - mse: 173311.3164 - val_loss: 552.0848 - val_mae: 551.2793 - val_mse: 321571.8125\n",
            "Epoch 680/2000\n",
            "3/3 [==============================] - 0s 32ms/step - loss: 309.5477 - mae: 308.7421 - mse: 148739.8125 - val_loss: 386.2719 - val_mae: 385.4666 - val_mse: 164054.2500\n",
            "Epoch 681/2000\n",
            "3/3 [==============================] - 0s 40ms/step - loss: 293.1590 - mae: 292.3537 - mse: 138255.1367 - val_loss: 142.8046 - val_mae: 141.9995 - val_mse: 26975.4043\n",
            "Epoch 682/2000\n",
            "3/3 [==============================] - 0s 34ms/step - loss: 264.7536 - mae: 263.9486 - mse: 112108.5879 - val_loss: 132.2852 - val_mae: 131.4807 - val_mse: 23563.4883\n",
            "Epoch 683/2000\n",
            "3/3 [==============================] - 0s 34ms/step - loss: 251.6646 - mae: 250.8601 - mse: 101354.1309 - val_loss: 95.3359 - val_mae: 94.5318 - val_mse: 13953.2754\n",
            "Epoch 684/2000\n",
            "3/3 [==============================] - 0s 33ms/step - loss: 277.6297 - mae: 276.8258 - mse: 121791.3262 - val_loss: 274.9634 - val_mae: 274.1600 - val_mse: 89101.3828\n",
            "Epoch 685/2000\n",
            "3/3 [==============================] - 0s 41ms/step - loss: 255.4607 - mae: 254.6573 - mse: 106736.7344 - val_loss: 354.8063 - val_mae: 354.0035 - val_mse: 141180.7031\n",
            "Epoch 686/2000\n",
            "3/3 [==============================] - 0s 34ms/step - loss: 263.2063 - mae: 262.4036 - mse: 109786.3828 - val_loss: 303.0098 - val_mae: 302.2076 - val_mse: 105830.9922\n",
            "Epoch 687/2000\n",
            "3/3 [==============================] - 0s 49ms/step - loss: 266.2065 - mae: 265.4044 - mse: 119236.3535 - val_loss: 319.8240 - val_mae: 319.0224 - val_mse: 116219.8516\n",
            "Epoch 688/2000\n",
            "3/3 [==============================] - 0s 46ms/step - loss: 259.2105 - mae: 258.4090 - mse: 109146.4727 - val_loss: 226.2989 - val_mae: 225.4980 - val_mse: 62014.6953\n",
            "Epoch 689/2000\n",
            "3/3 [==============================] - 0s 33ms/step - loss: 257.8758 - mae: 257.0749 - mse: 113731.5859 - val_loss: 88.2415 - val_mae: 87.4411 - val_mse: 12660.5039\n",
            "Epoch 690/2000\n",
            "3/3 [==============================] - 0s 34ms/step - loss: 294.3876 - mae: 293.5874 - mse: 138139.8320 - val_loss: 91.3599 - val_mae: 90.5601 - val_mse: 13019.9150\n",
            "Epoch 691/2000\n",
            "3/3 [==============================] - 0s 32ms/step - loss: 279.1566 - mae: 278.3569 - mse: 120842.1797 - val_loss: 162.2438 - val_mae: 161.4447 - val_mse: 34022.5469\n",
            "Epoch 692/2000\n",
            "3/3 [==============================] - 0s 40ms/step - loss: 268.8931 - mae: 268.0941 - mse: 116487.4805 - val_loss: 287.6005 - val_mae: 286.8021 - val_mse: 95843.9922\n",
            "Epoch 693/2000\n",
            "3/3 [==============================] - 0s 32ms/step - loss: 276.7512 - mae: 275.9529 - mse: 119460.8926 - val_loss: 690.6612 - val_mae: 689.8635 - val_mse: 495422.9688\n",
            "Epoch 694/2000\n",
            "3/3 [==============================] - 0s 32ms/step - loss: 363.1445 - mae: 362.3467 - mse: 202086.6445 - val_loss: 362.7910 - val_mae: 361.9933 - val_mse: 145843.7500\n",
            "Epoch 695/2000\n",
            "3/3 [==============================] - 0s 32ms/step - loss: 285.3141 - mae: 284.5165 - mse: 128946.3945 - val_loss: 133.8423 - val_mae: 133.0447 - val_mse: 24018.7383\n",
            "Epoch 696/2000\n",
            "3/3 [==============================] - 0s 35ms/step - loss: 291.5456 - mae: 290.7481 - mse: 140201.7812 - val_loss: 406.0539 - val_mae: 405.2564 - val_mse: 177135.5625\n",
            "Epoch 697/2000\n",
            "3/3 [==============================] - 0s 32ms/step - loss: 402.0262 - mae: 401.2288 - mse: 246175.7188 - val_loss: 497.1104 - val_mae: 496.3134 - val_mse: 262829.1562\n",
            "Epoch 698/2000\n",
            "3/3 [==============================] - 0s 39ms/step - loss: 414.8561 - mae: 414.0590 - mse: 259234.9766 - val_loss: 854.2289 - val_mae: 853.4324 - val_mse: 750344.1875\n",
            "Epoch 699/2000\n",
            "3/3 [==============================] - 0s 41ms/step - loss: 591.2187 - mae: 590.4221 - mse: 456557.9453 - val_loss: 671.3469 - val_mae: 670.5503 - val_mse: 464148.9688\n",
            "Epoch 700/2000\n",
            "3/3 [==============================] - 0s 44ms/step - loss: 464.5638 - mae: 463.7673 - mse: 322959.7500 - val_loss: 564.3380 - val_mae: 563.5422 - val_mse: 335511.4375\n",
            "Epoch 701/2000\n",
            "3/3 [==============================] - 0s 35ms/step - loss: 446.5604 - mae: 445.7645 - mse: 293975.9297 - val_loss: 499.2224 - val_mae: 498.4271 - val_mse: 265698.1562\n",
            "Epoch 702/2000\n",
            "3/3 [==============================] - 0s 34ms/step - loss: 401.0581 - mae: 400.2629 - mse: 244300.2773 - val_loss: 113.2764 - val_mae: 112.4815 - val_mse: 21261.8496\n",
            "Epoch 703/2000\n",
            "3/3 [==============================] - 0s 32ms/step - loss: 297.5579 - mae: 296.7631 - mse: 144399.6797 - val_loss: 247.2238 - val_mae: 246.4294 - val_mse: 72802.0781\n",
            "Epoch 704/2000\n",
            "3/3 [==============================] - 0s 48ms/step - loss: 305.5658 - mae: 304.7715 - mse: 148858.8281 - val_loss: 95.0778 - val_mae: 94.2840 - val_mse: 13678.2803\n",
            "Epoch 705/2000\n",
            "3/3 [==============================] - 0s 33ms/step - loss: 285.9075 - mae: 285.1139 - mse: 134814.8477 - val_loss: 312.4363 - val_mae: 311.6432 - val_mse: 111113.4922\n",
            "Epoch 706/2000\n",
            "3/3 [==============================] - 0s 39ms/step - loss: 296.2598 - mae: 295.4667 - mse: 149607.3320 - val_loss: 217.9289 - val_mae: 217.1364 - val_mse: 57928.4922\n",
            "Epoch 707/2000\n",
            "3/3 [==============================] - 0s 41ms/step - loss: 262.5054 - mae: 261.7129 - mse: 113088.7207 - val_loss: 143.3620 - val_mae: 142.5701 - val_mse: 27106.0234\n",
            "Epoch 708/2000\n",
            "3/3 [==============================] - 0s 34ms/step - loss: 269.4530 - mae: 268.6612 - mse: 116670.2402 - val_loss: 88.5126 - val_mae: 87.7213 - val_mse: 12704.8887\n",
            "Epoch 709/2000\n",
            "3/3 [==============================] - 0s 40ms/step - loss: 275.5383 - mae: 274.7471 - mse: 116877.0449 - val_loss: 101.9571 - val_mae: 101.1664 - val_mse: 15159.9180\n",
            "Epoch 710/2000\n",
            "3/3 [==============================] - 0s 34ms/step - loss: 262.0410 - mae: 261.2504 - mse: 112739.2695 - val_loss: 342.8821 - val_mae: 342.0921 - val_mse: 131386.9375\n",
            "Epoch 711/2000\n",
            "3/3 [==============================] - 0s 33ms/step - loss: 274.7614 - mae: 273.9714 - mse: 123331.4395 - val_loss: 618.5198 - val_mae: 617.7305 - val_mse: 399915.6562\n",
            "Epoch 712/2000\n",
            "3/3 [==============================] - 0s 35ms/step - loss: 333.3760 - mae: 332.5867 - mse: 175895.2188 - val_loss: 98.5991 - val_mae: 97.8102 - val_mse: 14390.9287\n",
            "Epoch 713/2000\n",
            "3/3 [==============================] - 0s 41ms/step - loss: 316.3731 - mae: 315.5844 - mse: 159265.6016 - val_loss: 248.3953 - val_mae: 247.6066 - val_mse: 73387.9766\n",
            "Epoch 714/2000\n",
            "3/3 [==============================] - 0s 44ms/step - loss: 328.7296 - mae: 327.9409 - mse: 171583.1016 - val_loss: 96.4035 - val_mae: 95.6146 - val_mse: 13909.6748\n",
            "Epoch 715/2000\n",
            "3/3 [==============================] - 0s 48ms/step - loss: 278.8194 - mae: 278.0305 - mse: 120252.7617 - val_loss: 161.2436 - val_mae: 160.4551 - val_mse: 33557.7227\n",
            "Epoch 716/2000\n",
            "3/3 [==============================] - 0s 43ms/step - loss: 259.8423 - mae: 259.0539 - mse: 107704.0273 - val_loss: 300.6856 - val_mae: 299.8979 - val_mse: 103549.3047\n",
            "Epoch 717/2000\n",
            "3/3 [==============================] - 0s 44ms/step - loss: 255.7637 - mae: 254.9761 - mse: 107271.2559 - val_loss: 197.7059 - val_mae: 196.9190 - val_mse: 48579.6523\n",
            "Epoch 718/2000\n",
            "3/3 [==============================] - 0s 44ms/step - loss: 251.4339 - mae: 250.6471 - mse: 101113.2754 - val_loss: 143.0341 - val_mae: 142.2474 - val_mse: 27005.6895\n",
            "Epoch 719/2000\n",
            "3/3 [==============================] - 0s 43ms/step - loss: 258.8971 - mae: 258.1104 - mse: 107773.2812 - val_loss: 207.7483 - val_mae: 206.9615 - val_mse: 53065.5039\n",
            "Epoch 720/2000\n",
            "3/3 [==============================] - 0s 42ms/step - loss: 262.1034 - mae: 261.3164 - mse: 110030.8398 - val_loss: 368.0584 - val_mae: 367.2707 - val_mse: 149251.9844\n",
            "Epoch 721/2000\n",
            "3/3 [==============================] - 0s 32ms/step - loss: 262.0252 - mae: 261.2373 - mse: 110248.9785 - val_loss: 249.5201 - val_mae: 248.7311 - val_mse: 73872.3984\n",
            "Epoch 722/2000\n",
            "3/3 [==============================] - 0s 41ms/step - loss: 246.6394 - mae: 245.8503 - mse: 99479.2188 - val_loss: 119.7596 - val_mae: 118.9695 - val_mse: 19715.8145\n",
            "Epoch 723/2000\n",
            "3/3 [==============================] - 0s 43ms/step - loss: 272.6879 - mae: 271.8978 - mse: 122254.8418 - val_loss: 114.3260 - val_mae: 113.5354 - val_mse: 21087.8145\n",
            "Epoch 724/2000\n",
            "3/3 [==============================] - 0s 42ms/step - loss: 303.4242 - mae: 302.6335 - mse: 144373.3477 - val_loss: 92.6659 - val_mae: 91.8752 - val_mse: 13086.4248\n",
            "Epoch 725/2000\n",
            "3/3 [==============================] - 0s 34ms/step - loss: 273.1828 - mae: 272.3921 - mse: 118764.6504 - val_loss: 215.5764 - val_mae: 214.7860 - val_mse: 56703.6289\n",
            "Epoch 726/2000\n",
            "3/3 [==============================] - 0s 34ms/step - loss: 257.0143 - mae: 256.2240 - mse: 106232.8965 - val_loss: 173.9120 - val_mae: 173.1221 - val_mse: 38473.5195\n",
            "Epoch 727/2000\n",
            "3/3 [==============================] - 0s 44ms/step - loss: 257.7520 - mae: 256.9622 - mse: 105357.9238 - val_loss: 389.5057 - val_mae: 388.7166 - val_mse: 165542.4844\n",
            "Epoch 728/2000\n",
            "3/3 [==============================] - 0s 41ms/step - loss: 263.2019 - mae: 262.4128 - mse: 112633.7246 - val_loss: 570.9297 - val_mae: 570.1414 - val_mse: 341745.6250\n",
            "Epoch 729/2000\n",
            "3/3 [==============================] - 0s 38ms/step - loss: 299.0924 - mae: 298.3041 - mse: 148965.2383 - val_loss: 666.7903 - val_mae: 666.0027 - val_mse: 461871.8125\n",
            "Epoch 730/2000\n",
            "3/3 [==============================] - 0s 32ms/step - loss: 341.3484 - mae: 340.5609 - mse: 185715.8945 - val_loss: 3464.6941 - val_mae: 3463.9072 - val_mse: 12139267.0000\n",
            "Epoch 731/2000\n",
            "3/3 [==============================] - 0s 32ms/step - loss: 2185.1413 - mae: 2184.3544 - mse: 5239277.5000 - val_loss: 3350.5442 - val_mae: 3349.7566 - val_mse: 11319490.0000\n",
            "Epoch 732/2000\n",
            "3/3 [==============================] - 0s 46ms/step - loss: 2109.1407 - mae: 2108.3529 - mse: 5366728.8750 - val_loss: 2491.6018 - val_mae: 2490.8140 - val_mse: 6288565.5000\n",
            "Epoch 733/2000\n",
            "3/3 [==============================] - 0s 41ms/step - loss: 1727.6821 - mae: 1726.8943 - mse: 3236518.6875 - val_loss: 2077.4685 - val_mae: 2076.6787 - val_mse: 4353696.5000\n",
            "Epoch 734/2000\n",
            "3/3 [==============================] - 0s 33ms/step - loss: 1708.5052 - mae: 1707.7152 - mse: 3385267.1875 - val_loss: 1381.7593 - val_mae: 1380.9692 - val_mse: 1946269.1250\n",
            "Epoch 735/2000\n",
            "3/3 [==============================] - 0s 33ms/step - loss: 1302.6873 - mae: 1301.8972 - mse: 1967853.7500 - val_loss: 1512.2742 - val_mae: 1511.4836 - val_mse: 2327540.7500\n",
            "Epoch 736/2000\n",
            "3/3 [==============================] - 0s 32ms/step - loss: 884.7092 - mae: 883.9184 - mse: 1029632.5625 - val_loss: 783.1647 - val_mae: 782.3734 - val_mse: 627837.6875\n",
            "Epoch 737/2000\n",
            "3/3 [==============================] - 0s 39ms/step - loss: 667.4186 - mae: 666.6274 - mse: 599055.7891 - val_loss: 883.6739 - val_mae: 882.8829 - val_mse: 803333.2500\n",
            "Epoch 738/2000\n",
            "3/3 [==============================] - 0s 44ms/step - loss: 644.8854 - mae: 644.0942 - mse: 541020.6406 - val_loss: 142.9133 - val_mae: 142.1222 - val_mse: 27043.0703\n",
            "Epoch 739/2000\n",
            "3/3 [==============================] - 0s 41ms/step - loss: 475.3020 - mae: 474.5111 - mse: 349698.0586 - val_loss: 355.8655 - val_mae: 355.0743 - val_mse: 139389.2031\n",
            "Epoch 740/2000\n",
            "3/3 [==============================] - 0s 34ms/step - loss: 441.2271 - mae: 440.4358 - mse: 289131.3750 - val_loss: 832.1926 - val_mae: 831.4017 - val_mse: 711088.0000\n",
            "Epoch 741/2000\n",
            "3/3 [==============================] - 0s 43ms/step - loss: 509.1889 - mae: 508.3980 - mse: 376979.4219 - val_loss: 313.6163 - val_mae: 312.8252 - val_mse: 111306.5938\n",
            "Epoch 742/2000\n",
            "3/3 [==============================] - 0s 42ms/step - loss: 415.2340 - mae: 414.4430 - mse: 254558.3164 - val_loss: 320.0386 - val_mae: 319.2476 - val_mse: 115540.6953\n",
            "Epoch 743/2000\n",
            "3/3 [==============================] - 0s 41ms/step - loss: 404.6547 - mae: 403.8638 - mse: 246078.0977 - val_loss: 856.6194 - val_mae: 855.8290 - val_mse: 752276.9375\n",
            "Epoch 744/2000\n",
            "3/3 [==============================] - 0s 42ms/step - loss: 510.8397 - mae: 510.0492 - mse: 381510.0312 - val_loss: 742.7471 - val_mae: 741.9566 - val_mse: 568518.7500\n",
            "Epoch 745/2000\n",
            "3/3 [==============================] - 0s 39ms/step - loss: 524.1931 - mae: 523.4027 - mse: 397363.7734 - val_loss: 302.9787 - val_mae: 302.1888 - val_mse: 104667.9062\n",
            "Epoch 746/2000\n",
            "3/3 [==============================] - 0s 42ms/step - loss: 379.2762 - mae: 378.4863 - mse: 232670.5781 - val_loss: 551.1368 - val_mae: 550.3475 - val_mse: 319166.2812\n",
            "Epoch 747/2000\n",
            "3/3 [==============================] - 0s 34ms/step - loss: 397.4775 - mae: 396.6882 - mse: 245769.7031 - val_loss: 338.0246 - val_mae: 337.2355 - val_mse: 126708.0000\n",
            "Epoch 748/2000\n",
            "3/3 [==============================] - 0s 42ms/step - loss: 368.6407 - mae: 367.8517 - mse: 207046.5078 - val_loss: 108.2604 - val_mae: 107.4719 - val_mse: 19820.0273\n",
            "Epoch 749/2000\n",
            "3/3 [==============================] - 0s 32ms/step - loss: 667.5542 - mae: 666.7657 - mse: 765467.4336 - val_loss: 1633.2466 - val_mae: 1632.4575 - val_mse: 2694614.5000\n",
            "Epoch 750/2000\n",
            "3/3 [==============================] - 0s 43ms/step - loss: 1345.5783 - mae: 1344.7892 - mse: 2140212.2812 - val_loss: 993.9811 - val_mae: 993.1932 - val_mse: 1015891.0000\n",
            "Epoch 751/2000\n",
            "3/3 [==============================] - 0s 35ms/step - loss: 955.7100 - mae: 954.9222 - mse: 1097325.7500 - val_loss: 663.2474 - val_mae: 662.4598 - val_mse: 461990.0312\n",
            "Epoch 752/2000\n",
            "3/3 [==============================] - 0s 43ms/step - loss: 711.3347 - mae: 710.5468 - mse: 709399.6172 - val_loss: 799.4173 - val_mae: 798.6297 - val_mse: 654307.3750\n",
            "Epoch 753/2000\n",
            "3/3 [==============================] - 0s 33ms/step - loss: 721.5640 - mae: 720.7766 - mse: 671598.4375 - val_loss: 1562.8555 - val_mae: 1562.0688 - val_mse: 2484863.0000\n",
            "Epoch 754/2000\n",
            "3/3 [==============================] - 0s 34ms/step - loss: 916.2247 - mae: 915.4381 - mse: 1088921.0312 - val_loss: 1742.6295 - val_mae: 1741.8425 - val_mse: 3066812.0000\n",
            "Epoch 755/2000\n",
            "3/3 [==============================] - 0s 42ms/step - loss: 996.2915 - mae: 995.5047 - mse: 1330972.1250 - val_loss: 1698.3787 - val_mae: 1697.5930 - val_mse: 2928051.7500\n",
            "Epoch 756/2000\n",
            "3/3 [==============================] - 0s 42ms/step - loss: 1130.7858 - mae: 1130.0001 - mse: 1467142.6875 - val_loss: 1301.5437 - val_mae: 1300.7577 - val_mse: 1715799.7500\n",
            "Epoch 757/2000\n",
            "3/3 [==============================] - 0s 42ms/step - loss: 995.9784 - mae: 995.1925 - mse: 1202524.7188 - val_loss: 1431.9871 - val_mae: 1431.2024 - val_mse: 2084472.8750\n",
            "Epoch 758/2000\n",
            "3/3 [==============================] - 0s 32ms/step - loss: 1212.7388 - mae: 1211.9542 - mse: 1658847.4062 - val_loss: 871.6928 - val_mae: 870.9085 - val_mse: 780870.1875\n",
            "Epoch 759/2000\n",
            "3/3 [==============================] - 0s 42ms/step - loss: 988.8434 - mae: 988.0589 - mse: 1346737.3594 - val_loss: 1056.0061 - val_mae: 1055.2222 - val_mse: 1134545.0000\n",
            "Epoch 760/2000\n",
            "3/3 [==============================] - 0s 32ms/step - loss: 807.9930 - mae: 807.2095 - mse: 804864.5625 - val_loss: 1715.1527 - val_mae: 1714.3704 - val_mse: 2982897.7500\n",
            "Epoch 761/2000\n",
            "3/3 [==============================] - 0s 40ms/step - loss: 1005.8936 - mae: 1005.1112 - mse: 1237293.4375 - val_loss: 1511.4039 - val_mae: 1510.6212 - val_mse: 2311900.5000\n",
            "Epoch 762/2000\n",
            "3/3 [==============================] - 0s 42ms/step - loss: 911.2925 - mae: 910.5100 - mse: 1087494.2969 - val_loss: 1394.8186 - val_mae: 1394.0372 - val_mse: 1977469.8750\n",
            "Epoch 763/2000\n",
            "3/3 [==============================] - 0s 41ms/step - loss: 887.1092 - mae: 886.3278 - mse: 954615.7188 - val_loss: 999.6191 - val_mae: 998.8375 - val_mse: 1017257.5625\n",
            "Epoch 764/2000\n",
            "3/3 [==============================] - 0s 39ms/step - loss: 674.3443 - mae: 673.5628 - mse: 606937.1562 - val_loss: 877.4609 - val_mae: 876.6802 - val_mse: 791447.6250\n",
            "Epoch 765/2000\n",
            "3/3 [==============================] - 0s 41ms/step - loss: 525.0661 - mae: 524.2855 - mse: 397106.2422 - val_loss: 429.1647 - val_mae: 428.3842 - val_mse: 197393.4688\n",
            "Epoch 766/2000\n",
            "3/3 [==============================] - 0s 42ms/step - loss: 386.1456 - mae: 385.3653 - mse: 231231.9922 - val_loss: 92.2695 - val_mae: 91.4897 - val_mse: 13599.1875\n",
            "Epoch 767/2000\n",
            "3/3 [==============================] - 0s 37ms/step - loss: 328.5425 - mae: 327.7626 - mse: 169574.1719 - val_loss: 568.3925 - val_mae: 567.6132 - val_mse: 339857.5000\n",
            "Epoch 768/2000\n",
            "3/3 [==============================] - 0s 43ms/step - loss: 367.6372 - mae: 366.8579 - mse: 215169.0234 - val_loss: 218.1412 - val_mae: 217.3618 - val_mse: 58157.0898\n",
            "Epoch 769/2000\n",
            "3/3 [==============================] - 0s 40ms/step - loss: 304.0133 - mae: 303.2338 - mse: 151465.8281 - val_loss: 181.1523 - val_mae: 180.3722 - val_mse: 43774.4844\n"
          ],
          "name": "stdout"
        },
        {
          "output_type": "execute_result",
          "data": {
            "text/plain": [
              "<keras.callbacks.History at 0x7fa1d25d3810>"
            ]
          },
          "metadata": {
            "tags": []
          },
          "execution_count": 94
        }
      ]
    },
    {
      "cell_type": "code",
      "metadata": {
        "id": "ITQAaX3sx86T"
      },
      "source": [
        "yhat_train = model.predict(X_final_train)\n",
        "yhat_test = model.predict(X_final_test)"
      ],
      "execution_count": null,
      "outputs": []
    },
    {
      "cell_type": "code",
      "metadata": {
        "colab": {
          "base_uri": "https://localhost:8080/"
        },
        "id": "te7doQjxx86T",
        "outputId": "ff9f2a90-d752-42ee-d9d3-1273ecabc255"
      },
      "source": [
        "yhat_train"
      ],
      "execution_count": null,
      "outputs": [
        {
          "output_type": "execute_result",
          "data": {
            "text/plain": [
              "array([[[ 5627.413]],\n",
              "\n",
              "       [[ 5637.389]],\n",
              "\n",
              "       [[ 5640.221]],\n",
              "\n",
              "       ...,\n",
              "\n",
              "       [[10525.841]],\n",
              "\n",
              "       [[10527.631]],\n",
              "\n",
              "       [[10531.966]]], dtype=float32)"
            ]
          },
          "metadata": {
            "tags": []
          },
          "execution_count": 96
        }
      ]
    },
    {
      "cell_type": "code",
      "metadata": {
        "colab": {
          "base_uri": "https://localhost:8080/"
        },
        "id": "wYysV0sOhpKo",
        "outputId": "fc5ca46b-8b2d-40f8-b105-804e77614244"
      },
      "source": [
        "yhat_train.shape"
      ],
      "execution_count": null,
      "outputs": [
        {
          "output_type": "execute_result",
          "data": {
            "text/plain": [
              "(1578, 1, 1)"
            ]
          },
          "metadata": {
            "tags": []
          },
          "execution_count": 114
        }
      ]
    },
    {
      "cell_type": "code",
      "metadata": {
        "id": "hv38l85DCNZp"
      },
      "source": [
        "test_pred=yhat_test.reshape(yhat_test.shape[0])"
      ],
      "execution_count": null,
      "outputs": []
    },
    {
      "cell_type": "code",
      "metadata": {
        "id": "swt3A0Dfhz92"
      },
      "source": [
        "train_pred=yhat_train.reshape(yhat_train.shape[0])"
      ],
      "execution_count": null,
      "outputs": []
    },
    {
      "cell_type": "code",
      "metadata": {
        "id": "ZB2YqLgHh88K"
      },
      "source": [],
      "execution_count": null,
      "outputs": []
    },
    {
      "cell_type": "code",
      "metadata": {
        "id": "q-k5cUZ1x86T"
      },
      "source": [
        "# Y_final"
      ],
      "execution_count": null,
      "outputs": []
    },
    {
      "cell_type": "code",
      "metadata": {
        "ExecuteTime": {
          "end_time": "2021-02-08T10:32:15.445134Z",
          "start_time": "2021-02-08T10:32:15.300488Z"
        },
        "colab": {
          "base_uri": "https://localhost:8080/",
          "height": 295
        },
        "id": "7Gh4oA4ax86U",
        "outputId": "169e10f9-364b-4416-f347-3a18db563017"
      },
      "source": [
        "# Plot training & validation loss values\n",
        "plt.plot(history.history['loss'])\n",
        "plt.plot(history.history['val_loss'])\n",
        "plt.title('Model loss')\n",
        "plt.ylabel('Loss')\n",
        "plt.xlabel('Epoch')\n",
        "plt.legend(['Train', 'Test'], loc='upper right')\n",
        "plt.show()"
      ],
      "execution_count": null,
      "outputs": [
        {
          "output_type": "display_data",
          "data": {
            "image/png": "[encoded data removed]",
            "text/plain": [
              "<Figure size 432x288 with 1 Axes>"
            ]
          },
          "metadata": {
            "tags": [],
            "needs_background": "light"
          }
        }
      ]
    },
    {
      "cell_type": "code",
      "metadata": {
        "ExecuteTime": {
          "end_time": "2021-02-08T10:32:20.958206Z",
          "start_time": "2021-02-08T10:32:20.946238Z"
        },
        "id": "-42pzdZax86U",
        "colab": {
          "base_uri": "https://localhost:8080/"
        },
        "outputId": "026615b7-5e5e-4084-a49f-0708b0dd31fe"
      },
      "source": [
        "# train_y = np.array([train_input_sales_data[i][3][0] for i in range(train_input_sales_data.shape[0])])\n",
        "# yhat_future  = np.array([yhat[i][3][0] for i in range(yhat.shape[0])])\n",
        "# yhat_train\n",
        "# yhat_test\n",
        "\n",
        "\n",
        "yhat_train_array = np.array([yhat_train[i][0][0] for i in range(yhat_train.shape[0])])\n",
        "yhat_test_array = np.array([yhat_test[i][0][0] for i in range(yhat_test.shape[0])])\n",
        "\n",
        "Y_final_train_array = np.array([Y_final_train[i][0][0] for i in range(Y_final_train.shape[0])])\n",
        "Y_final_test_array = np.array([Y_final_test[i][0][0] for i in range(Y_final_test.shape[0])])\n",
        "\n",
        "# test_yhat_future  = np.array([yhat[i][0][0] for i in range(yhat.shape[0])])\n",
        "len(yhat_train_array), len(yhat_test_array)"
      ],
      "execution_count": null,
      "outputs": [
        {
          "output_type": "execute_result",
          "data": {
            "text/plain": [
              "(1578, 665)"
            ]
          },
          "metadata": {
            "tags": []
          },
          "execution_count": 100
        }
      ]
    },
    {
      "cell_type": "code",
      "metadata": {
        "colab": {
          "base_uri": "https://localhost:8080/"
        },
        "id": "TekYdnFyWqB6",
        "outputId": "8a6e29d5-612d-46da-b476-44b611715259"
      },
      "source": [
        "Y_final_train_array"
      ],
      "execution_count": null,
      "outputs": [
        {
          "output_type": "execute_result",
          "data": {
            "text/plain": [
              "array([ 5521.049805,  5485.799805,  5482.799805, ..., 10342.29981 ,\n",
              "       10348.75    , 10389.7002  ])"
            ]
          },
          "metadata": {
            "tags": []
          },
          "execution_count": 101
        }
      ]
    },
    {
      "cell_type": "code",
      "metadata": {
        "id": "D4GKzUUDV5Ln"
      },
      "source": [
        "# Y_final_test"
      ],
      "execution_count": null,
      "outputs": []
    },
    {
      "cell_type": "markdown",
      "metadata": {
        "id": "Rrc85fDdx86U"
      },
      "source": [
        "# Model Results"
      ]
    },
    {
      "cell_type": "code",
      "metadata": {
        "ExecuteTime": {
          "end_time": "2021-02-08T10:32:21.118795Z",
          "start_time": "2021-02-08T10:32:20.960200Z"
        },
        "colab": {
          "base_uri": "https://localhost:8080/",
          "height": 350
        },
        "id": "LgUEzRhxx86U",
        "outputId": "586a358f-46bf-4787-a81f-bec9194ef64b"
      },
      "source": [
        "plt.scatter(Y_final_train_array,yhat_train_array,alpha=0.5)\n",
        "# plt.xlim(0,400)\n",
        "# plt.ylim(0,400)\n",
        "plt.show()\n",
        "print('Test R-Square :',r2_score(Y_final_train_array, yhat_train_array))\n",
        "mae_test = mean_absolute_error(Y_final_train_array,yhat_train_array)\n",
        "rmse_test = sqrt(mean_squared_error(Y_final_train_array, yhat_train_array))\n",
        "print('Test MAE      :',mae_test)\n",
        "print('Test Mean     :',Y_final_train.mean())\n",
        "print('Test MAPE     :',mae_test/Y_final_train.mean())\n",
        "print('Test RMSE     :',rmse_test)"
      ],
      "execution_count": null,
      "outputs": [
        {
          "output_type": "display_data",
          "data": {
            "image/png": "[encoded data removed]",
            "text/plain": [
              "<Figure size 432x288 with 1 Axes>"
            ]
          },
          "metadata": {
            "tags": [],
            "needs_background": "light"
          }
        },
        {
          "output_type": "stream",
          "text": [
            "Test R-Square : 0.983802894652543\n",
            "Test MAE      : 168.5519458586027\n",
            "Test Mean     : 7195.10877788213\n",
            "Test MAPE     : 0.023425906551508138\n",
            "Test RMSE     : 199.07643822262884\n"
          ],
          "name": "stdout"
        }
      ]
    },
    {
      "cell_type": "code",
      "metadata": {
        "colab": {
          "base_uri": "https://localhost:8080/",
          "height": 350
        },
        "id": "SnJR9bR_UXvU",
        "outputId": "d623e787-63f6-4deb-cbe6-4a6e68171ead"
      },
      "source": [
        "plt.scatter(Y_final_test_array,yhat_test_array,alpha=0.5)\n",
        "# plt.xlim(0,400)\n",
        "# plt.ylim(0,400)\n",
        "plt.show()\n",
        "print('Test R-Square :',r2_score(Y_final_test_array, yhat_test_array))\n",
        "mae_test = mean_absolute_error(Y_final_test_array,yhat_test_array)\n",
        "rmse_test = sqrt(mean_squared_error(Y_final_test_array, yhat_test_array))\n",
        "print('Test MAE      :',mae_test)\n",
        "print('Test Mean     :',Y_final_test.mean())\n",
        "print('Test MAPE     :',mae_test/Y_final_test.mean())\n",
        "print('Test RMSE     :',rmse_test)"
      ],
      "execution_count": null,
      "outputs": [
        {
          "output_type": "display_data",
          "data": {
            "image/png": "[encoded data removed]",
            "text/plain": [
              "<Figure size 432x288 with 1 Axes>"
            ]
          },
          "metadata": {
            "tags": [],
            "needs_background": "light"
          }
        },
        {
          "output_type": "stream",
          "text": [
            "Test R-Square : 0.7324415716953829\n",
            "Test MAE      : 342.4187864366545\n",
            "Test Mean     : 10960.299038445111\n",
            "Test MAPE     : 0.031241737587228452\n",
            "Test RMSE     : 419.6366185415609\n"
          ],
          "name": "stdout"
        }
      ]
    },
    {
      "cell_type": "code",
      "metadata": {
        "id": "aucIhiMXcSze",
        "colab": {
          "base_uri": "https://localhost:8080/"
        },
        "outputId": "2e894228-68ec-4e8c-b0b4-9d10c4717612"
      },
      "source": [
        "from google.colab import drive\n",
        "drive.mount('/content/drive')"
      ],
      "execution_count": null,
      "outputs": [
        {
          "output_type": "stream",
          "text": [
            "Drive already mounted at /content/drive; to attempt to forcibly remount, call drive.mount(\"/content/drive\", force_remount=True).\n"
          ],
          "name": "stdout"
        }
      ]
    },
    {
      "cell_type": "code",
      "metadata": {
        "colab": {
          "base_uri": "https://localhost:8080/"
        },
        "id": "iWVofwqXls20",
        "outputId": "27c66a0c-de15-4bbe-bf72-677fbc0c49ee"
      },
      "source": [
        "Y['Close']"
      ],
      "execution_count": null,
      "outputs": [
        {
          "output_type": "execute_result",
          "data": {
            "text/plain": [
              "0        5565.049805\n",
              "1        5486.149902\n",
              "2        5544.750000\n",
              "3        5499.000000\n",
              "4        5438.950195\n",
              "            ...     \n",
              "2278    11355.049810\n",
              "2279    11317.349610\n",
              "2280    11278.000000\n",
              "2281    11449.250000\n",
              "2282    11464.450200\n",
              "Name: Close, Length: 2283, dtype: float64"
            ]
          },
          "metadata": {
            "tags": []
          },
          "execution_count": 106
        }
      ]
    },
    {
      "cell_type": "code",
      "metadata": {
        "id": "ZKwryw0Kx86V",
        "colab": {
          "base_uri": "https://localhost:8080/",
          "height": 623
        },
        "outputId": "b7f530cd-4780-4552-8bb5-1bd99d8a38c9"
      },
      "source": [
        "# Y_final_test, yhat_test_array\n",
        "\n",
        "plt.figure(figsize=(15,10))\n",
        "plt.plot(list(Y['Close']),alpha=1,color ='tab:blue')\n",
        "# plt.plot(Y_final_test_array,alpha=1,color ='tab:blue')\n",
        "plt.plot(yhat_train_array,alpha=1,color ='tab:green')\n",
        "plt.plot(yhat_test_array,alpha=1,color ='tab:red')\n",
        "plt.ylabel('Nifty')\n",
        "plt.xlabel('Trading days')\n",
        "plt.legend([\"Real value\",\"Predicted value\"])"
      ],
      "execution_count": null,
      "outputs": [
        {
          "output_type": "execute_result",
          "data": {
            "text/plain": [
              "<matplotlib.legend.Legend at 0x7fa1224d0850>"
            ]
          },
          "metadata": {
            "tags": []
          },
          "execution_count": 107
        },
        {
          "output_type": "display_data",
          "data": {
            "image/png": "[encoded data removed]",
            "text/plain": [
              "<Figure size 1080x720 with 1 Axes>"
            ]
          },
          "metadata": {
            "tags": [],
            "needs_background": "light"
          }
        }
      ]
    },
    {
      "cell_type": "code",
      "metadata": {
        "id": "-YWFh-94nmK-"
      },
      "source": [
        "# train_zero = np.zeros(len(yhat_test_array))\n",
        "# test_zero = np.zeros(len(yhat_train_array))\n",
        "\n",
        "# train_output = np.concatenate([yhat_train_array, train_zero])\n",
        "# test_output = np.concatenate([test_zero, yhat_test_array])\n",
        "\n",
        "# len(yhat_train_array), len(yhat_test_array), len(train_zero), len(test_zero), len(train_output), len(test_output)"
      ],
      "execution_count": null,
      "outputs": []
    },
    {
      "cell_type": "code",
      "metadata": {
        "colab": {
          "base_uri": "https://localhost:8080/"
        },
        "id": "VlKcD560qL_6",
        "outputId": "959842de-1ee7-4a3a-e2bd-045302e77853"
      },
      "source": [
        "1578+ 665"
      ],
      "execution_count": null,
      "outputs": [
        {
          "output_type": "execute_result",
          "data": {
            "text/plain": [
              "2243"
            ]
          },
          "metadata": {
            "tags": []
          },
          "execution_count": 109
        }
      ]
    },
    {
      "cell_type": "code",
      "metadata": {
        "colab": {
          "base_uri": "https://localhost:8080/"
        },
        "id": "PmRgk1eZo-6j",
        "outputId": "713efcfc-23b7-4576-b680-50006589d9bb"
      },
      "source": [
        "len(Y['Close'])"
      ],
      "execution_count": null,
      "outputs": [
        {
          "output_type": "execute_result",
          "data": {
            "text/plain": [
              "2283"
            ]
          },
          "metadata": {
            "tags": []
          },
          "execution_count": 110
        }
      ]
    },
    {
      "cell_type": "code",
      "metadata": {
        "colab": {
          "base_uri": "https://localhost:8080/",
          "height": 111
        },
        "id": "qLv53TQVmMYk",
        "outputId": "484c084c-ecef-4669-d769-b344a4266f51"
      },
      "source": [
        "nifty_df_output_Train = pd.DataFrame(index = range(len(Y_final_train_array)), columns = ['Actual_Train', 'Predicted_Y_Train'])\n",
        "nifty_df_output_Test = pd.DataFrame(index = range(len(Y_final_test_array)), columns = ['Actual_Test', 'Predicted_Y_Test'])\n",
        "nifty_df_output_Train['Actual_Train'] = Y_final_train_array\n",
        "nifty_df_output_Train['Predicted_Y_Train'] = yhat_train_array\n",
        "nifty_df_output_Test['Actual_Test'] = Y_final_test_array\n",
        "nifty_df_output_Test['Predicted_Y_Test'] = yhat_test_array\n",
        "\n",
        "nifty_df_output_Test.head(2)"
      ],
      "execution_count": null,
      "outputs": [
        {
          "output_type": "execute_result",
          "data": {
            "text/html": [
              "<div>\n",
              "<style scoped>\n",
              "    .dataframe tbody tr th:only-of-type {\n",
              "        vertical-align: middle;\n",
              "    }\n",
              "\n",
              "    .dataframe tbody tr th {\n",
              "        vertical-align: top;\n",
              "    }\n",
              "\n",
              "    .dataframe thead th {\n",
              "        text-align: right;\n",
              "    }\n",
              "</style>\n",
              "<table border=\"1\" class=\"dataframe\">\n",
              "  <thead>\n",
              "    <tr style=\"text-align: right;\">\n",
              "      <th></th>\n",
              "      <th>Actual_Test</th>\n",
              "      <th>Predicted_Y_Test</th>\n",
              "    </tr>\n",
              "  </thead>\n",
              "  <tbody>\n",
              "    <tr>\n",
              "      <th>0</th>\n",
              "      <td>10531.50</td>\n",
              "      <td>10632.499023</td>\n",
              "    </tr>\n",
              "    <tr>\n",
              "      <th>1</th>\n",
              "      <td>10490.75</td>\n",
              "      <td>10666.411133</td>\n",
              "    </tr>\n",
              "  </tbody>\n",
              "</table>\n",
              "</div>"
            ],
            "text/plain": [
              "   Actual_Test  Predicted_Y_Test\n",
              "0     10531.50      10632.499023\n",
              "1     10490.75      10666.411133"
            ]
          },
          "metadata": {
            "tags": []
          },
          "execution_count": 111
        }
      ]
    },
    {
      "cell_type": "code",
      "metadata": {
        "id": "nxy4U2NFqMyT"
      },
      "source": [
        "nifty_df_output_Test.to_csv('nifty_df_output_Test.csv', index = False)\n",
        "nifty_df_output_Train.to_csv('nifty_df_output_Train.csv', index = False)"
      ],
      "execution_count": null,
      "outputs": []
    },
    {
      "cell_type": "code",
      "metadata": {
        "id": "wngtY-UnnbOn",
        "colab": {
          "base_uri": "https://localhost:8080/",
          "height": 181
        },
        "outputId": "5cf78298-49d7-490a-afed-a2e41f4c1118"
      },
      "source": [
        "nifty_df_output['Actual'] = list(Y['Close'])\n",
        "nifty_df_output['Predicted_Y_Train'] = list(Y['Close'])\n"
      ],
      "execution_count": null,
      "outputs": [
        {
          "output_type": "error",
          "ename": "NameError",
          "evalue": "ignored",
          "traceback": [
            "\u001b[0;31m---------------------------------------------------------------------------\u001b[0m",
            "\u001b[0;31mNameError\u001b[0m                                 Traceback (most recent call last)",
            "\u001b[0;32m<ipython-input-113-44e0f17924ae>\u001b[0m in \u001b[0;36m<module>\u001b[0;34m()\u001b[0m\n\u001b[0;32m----> 1\u001b[0;31m \u001b[0mnifty_df_output\u001b[0m\u001b[0;34m[\u001b[0m\u001b[0;34m'Actual'\u001b[0m\u001b[0;34m]\u001b[0m \u001b[0;34m=\u001b[0m \u001b[0mlist\u001b[0m\u001b[0;34m(\u001b[0m\u001b[0mY\u001b[0m\u001b[0;34m[\u001b[0m\u001b[0;34m'Close'\u001b[0m\u001b[0;34m]\u001b[0m\u001b[0;34m)\u001b[0m\u001b[0;34m\u001b[0m\u001b[0;34m\u001b[0m\u001b[0m\n\u001b[0m\u001b[1;32m      2\u001b[0m \u001b[0mnifty_df_output\u001b[0m\u001b[0;34m[\u001b[0m\u001b[0;34m'Predicted_Y_Train'\u001b[0m\u001b[0;34m]\u001b[0m \u001b[0;34m=\u001b[0m \u001b[0mlist\u001b[0m\u001b[0;34m(\u001b[0m\u001b[0mY\u001b[0m\u001b[0;34m[\u001b[0m\u001b[0;34m'Close'\u001b[0m\u001b[0;34m]\u001b[0m\u001b[0;34m)\u001b[0m\u001b[0;34m\u001b[0m\u001b[0;34m\u001b[0m\u001b[0m\n",
            "\u001b[0;31mNameError\u001b[0m: name 'nifty_df_output' is not defined"
          ]
        }
      ]
    },
    {
      "cell_type": "code",
      "metadata": {
        "id": "3iWOGHulm1JT"
      },
      "source": [
        "list(Y['Close'])"
      ],
      "execution_count": null,
      "outputs": []
    },
    {
      "cell_type": "code",
      "metadata": {
        "id": "qUE_nZDRm1WB"
      },
      "source": [],
      "execution_count": null,
      "outputs": []
    },
    {
      "cell_type": "code",
      "metadata": {
        "id": "WkeVCmUBx86V"
      },
      "source": [
        "test_yhat_future"
      ],
      "execution_count": null,
      "outputs": []
    },
    {
      "cell_type": "code",
      "metadata": {
        "id": "g-1UApEzo1qD"
      },
      "source": [
        "index1=range(0,2261)"
      ],
      "execution_count": null,
      "outputs": []
    },
    {
      "cell_type": "code",
      "metadata": {
        "id": "5T1mveEBx86V"
      },
      "source": [
        "niftyexcel=pd.DataFrame(test_yhat_future,columns=[\"predicted\"])"
      ],
      "execution_count": null,
      "outputs": []
    },
    {
      "cell_type": "code",
      "metadata": {
        "id": "RxkN-QXFqmHJ"
      },
      "source": [
        "yhat=yhat.reshape(2263,-1)"
      ],
      "execution_count": null,
      "outputs": []
    },
    {
      "cell_type": "code",
      "metadata": {
        "id": "Abms36I3n0UZ"
      },
      "source": [
        "niftyexcel1=pd.DataFrame(test_y,columns=[\"real\"])"
      ],
      "execution_count": null,
      "outputs": []
    },
    {
      "cell_type": "code",
      "metadata": {
        "id": "dUCohJmVrLuI"
      },
      "source": [
        "niftyexcel"
      ],
      "execution_count": null,
      "outputs": []
    },
    {
      "cell_type": "code",
      "metadata": {
        "id": "8LVPk2aur3AC"
      },
      "source": [
        "niftyexcel1"
      ],
      "execution_count": null,
      "outputs": []
    },
    {
      "cell_type": "code",
      "metadata": {
        "id": "Rm_N1DY_sI73"
      },
      "source": [
        "sim=pd.concat([niftyexcel,niftyexcel1],axis=1)"
      ],
      "execution_count": null,
      "outputs": []
    },
    {
      "cell_type": "code",
      "metadata": {
        "id": "3C_aP2-wsQnt"
      },
      "source": [
        "sim.to_excel(\"sim.xlsx\")"
      ],
      "execution_count": null,
      "outputs": []
    },
    {
      "cell_type": "code",
      "metadata": {
        "id": "DkGWXF7ktoHk"
      },
      "source": [
        "nifty.to_excel(\"excel.xlsx\")"
      ],
      "execution_count": null,
      "outputs": []
    },
    {
      "cell_type": "code",
      "metadata": {
        "id": "G0ssJGlwPucg"
      },
      "source": [
        "yhat"
      ],
      "execution_count": null,
      "outputs": []
    },
    {
      "cell_type": "code",
      "metadata": {
        "id": "EeOujSGMQGEc"
      },
      "source": [
        "ss=pd.DataFrame(yhat)"
      ],
      "execution_count": null,
      "outputs": []
    },
    {
      "cell_type": "code",
      "metadata": {
        "id": "5Qsj_dj_QT13"
      },
      "source": [
        "ss.to_excel(\"ss.xlsx\")"
      ],
      "execution_count": null,
      "outputs": []
    },
    {
      "cell_type": "code",
      "metadata": {
        "id": "wgApmTY6Qb-L"
      },
      "source": [],
      "execution_count": null,
      "outputs": []
    }
  ]
}